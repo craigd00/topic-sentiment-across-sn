{
 "cells": [
  {
   "cell_type": "code",
   "execution_count": 1,
   "metadata": {},
   "outputs": [],
   "source": [
    "import numpy as np\n",
    "import pandas as pd\n",
    "import matplotlib.pyplot as plt \n",
    "import dill\n",
    "from dill import dump, load\n",
    "from twitter_modules import twitter_wordcloud_terms\n",
    "from reddit_modules import reddit_wordcloud_terms\n",
    "from shared_modules import wordcloud_image"
   ]
  },
  {
   "cell_type": "markdown",
   "metadata": {},
   "source": [
    "Afinn Twitter"
   ]
  },
  {
   "cell_type": "code",
   "execution_count": 8,
   "metadata": {},
   "outputs": [],
   "source": [
    "with open('twitter_vars/twitter_afinn_run1', 'rb') as f:\n",
    "    afinn_fmask1 = dill.load(f)\n",
    "    afinn_ldown1 = dill.load(f)\n",
    "    afinn_pcr1 = dill.load(f)\n",
    "    afinn_pfizer1 = dill.load(f)\n",
    "    afinn_quar1 = dill.load(f)\n",
    "    afinn_rest1 = dill.load(f)\n",
    "    afinn_vac1 = dill.load(f)"
   ]
  },
  {
   "cell_type": "code",
   "execution_count": 9,
   "metadata": {},
   "outputs": [],
   "source": [
    "with open('twitter_vars/twitter_afinn_run2', 'rb') as f:\n",
    "    afinn_fmask2 = dill.load(f)\n",
    "    afinn_ldown2 = dill.load(f)\n",
    "    afinn_pcr2 = dill.load(f)\n",
    "    afinn_pfizer2 = dill.load(f)\n",
    "    afinn_quar2 = dill.load(f)\n",
    "    afinn_rest2 = dill.load(f)\n",
    "    afinn_vac2 = dill.load(f)"
   ]
  },
  {
   "cell_type": "code",
   "execution_count": 10,
   "metadata": {},
   "outputs": [],
   "source": [
    "with open('twitter_vars/twitter_afinn_run3', 'rb') as f:\n",
    "    afinn_fmask3 = dill.load(f)\n",
    "    afinn_ldown3 = dill.load(f)\n",
    "    afinn_pcr3 = dill.load(f)\n",
    "    afinn_pfizer3 = dill.load(f)\n",
    "    afinn_quar3 = dill.load(f)\n",
    "    afinn_rest3 = dill.load(f)\n",
    "    afinn_vac3 = dill.load(f)"
   ]
  },
  {
   "cell_type": "markdown",
   "metadata": {},
   "source": [
    "Positive Terms Afinn"
   ]
  },
  {
   "cell_type": "markdown",
   "metadata": {},
   "source": [
    "Run 1"
   ]
  },
  {
   "cell_type": "code",
   "execution_count": 11,
   "metadata": {},
   "outputs": [],
   "source": [
    "wordcloud_image(\"afinn\", \"twitter\", \"facemasks\", \"pos1\", twitter_wordcloud_terms(afinn_fmask1, \"positive\"))\n",
    "wordcloud_image(\"afinn\", \"twitter\", \"lockdown\", \"pos1\", twitter_wordcloud_terms(afinn_ldown1, \"positive\"))\n",
    "wordcloud_image(\"afinn\", \"twitter\", \"pcr\", \"pos1\", twitter_wordcloud_terms(afinn_pcr1, \"positive\"))\n",
    "wordcloud_image(\"afinn\", \"twitter\", \"pfizer\", \"pos1\", twitter_wordcloud_terms(afinn_pfizer1, \"positive\"))\n",
    "wordcloud_image(\"afinn\", \"twitter\", \"quarantine\", \"pos1\", twitter_wordcloud_terms(afinn_quar1, \"positive\"))\n",
    "wordcloud_image(\"afinn\", \"twitter\", \"restrictions\", \"pos1\", twitter_wordcloud_terms(afinn_rest1, \"positive\"))\n",
    "wordcloud_image(\"afinn\", \"twitter\", \"vaccine\", \"pos1\", twitter_wordcloud_terms(afinn_vac1, \"positive\"))\n"
   ]
  },
  {
   "cell_type": "markdown",
   "metadata": {},
   "source": [
    "Run 2"
   ]
  },
  {
   "cell_type": "code",
   "execution_count": 12,
   "metadata": {},
   "outputs": [],
   "source": [
    "wordcloud_image(\"afinn\", \"twitter\", \"facemasks\", \"pos2\", twitter_wordcloud_terms(afinn_fmask2, \"positive\"))\n",
    "wordcloud_image(\"afinn\", \"twitter\", \"lockdown\", \"pos2\", twitter_wordcloud_terms(afinn_ldown2, \"positive\"))\n",
    "wordcloud_image(\"afinn\", \"twitter\", \"pcr\", \"pos2\", twitter_wordcloud_terms(afinn_pcr2, \"positive\"))\n",
    "wordcloud_image(\"afinn\", \"twitter\", \"pfizer\", \"pos2\", twitter_wordcloud_terms(afinn_pfizer2, \"positive\"))\n",
    "wordcloud_image(\"afinn\", \"twitter\", \"quarantine\", \"pos2\", twitter_wordcloud_terms(afinn_quar2, \"positive\"))\n",
    "wordcloud_image(\"afinn\", \"twitter\", \"restrictions\", \"pos2\", twitter_wordcloud_terms(afinn_rest2, \"positive\"))\n",
    "wordcloud_image(\"afinn\", \"twitter\", \"vaccine\", \"pos2\", twitter_wordcloud_terms(afinn_vac2, \"positive\"))"
   ]
  },
  {
   "cell_type": "markdown",
   "metadata": {},
   "source": [
    "Run 3"
   ]
  },
  {
   "cell_type": "code",
   "execution_count": 13,
   "metadata": {},
   "outputs": [],
   "source": [
    "wordcloud_image(\"afinn\", \"twitter\", \"facemasks\", \"pos3\", twitter_wordcloud_terms(afinn_fmask3, \"positive\"))\n",
    "wordcloud_image(\"afinn\", \"twitter\", \"lockdown\", \"pos3\", twitter_wordcloud_terms(afinn_ldown3, \"positive\"))\n",
    "wordcloud_image(\"afinn\", \"twitter\", \"pcr\", \"pos3\", twitter_wordcloud_terms(afinn_pcr3, \"positive\"))\n",
    "wordcloud_image(\"afinn\", \"twitter\", \"pfizer\", \"pos3\", twitter_wordcloud_terms(afinn_pfizer3, \"positive\"))\n",
    "wordcloud_image(\"afinn\", \"twitter\", \"quarantine\", \"pos3\", twitter_wordcloud_terms(afinn_quar3, \"positive\"))\n",
    "wordcloud_image(\"afinn\", \"twitter\", \"restrictions\", \"pos3\", twitter_wordcloud_terms(afinn_rest3, \"positive\"))\n",
    "wordcloud_image(\"afinn\", \"twitter\", \"vaccine\", \"pos3\", twitter_wordcloud_terms(afinn_vac3, \"positive\"))"
   ]
  },
  {
   "cell_type": "markdown",
   "metadata": {},
   "source": [
    "Negative Terms Afinn"
   ]
  },
  {
   "cell_type": "markdown",
   "metadata": {},
   "source": [
    "Run 1"
   ]
  },
  {
   "cell_type": "code",
   "execution_count": 14,
   "metadata": {},
   "outputs": [],
   "source": [
    "wordcloud_image(\"afinn\", \"twitter\", \"facemasks\", \"neg1\", twitter_wordcloud_terms(afinn_fmask1, \"negative\"))\n",
    "wordcloud_image(\"afinn\", \"twitter\", \"lockdown\", \"neg1\", twitter_wordcloud_terms(afinn_ldown1, \"negative\"))\n",
    "wordcloud_image(\"afinn\", \"twitter\", \"pcr\", \"neg1\", twitter_wordcloud_terms(afinn_pcr1, \"negative\"))\n",
    "wordcloud_image(\"afinn\", \"twitter\", \"pfizer\", \"neg1\", twitter_wordcloud_terms(afinn_pfizer1, \"negative\"))\n",
    "wordcloud_image(\"afinn\", \"twitter\", \"quarantine\", \"neg1\", twitter_wordcloud_terms(afinn_quar1, \"negative\"))\n",
    "wordcloud_image(\"afinn\", \"twitter\", \"restrictions\", \"neg1\", twitter_wordcloud_terms(afinn_rest1, \"negative\"))\n",
    "wordcloud_image(\"afinn\", \"twitter\", \"vaccine\", \"neg1\", twitter_wordcloud_terms(afinn_vac1, \"negative\"))"
   ]
  },
  {
   "cell_type": "markdown",
   "metadata": {},
   "source": [
    "Run 2"
   ]
  },
  {
   "cell_type": "code",
   "execution_count": 15,
   "metadata": {},
   "outputs": [],
   "source": [
    "wordcloud_image(\"afinn\", \"twitter\", \"facemasks\", \"neg2\", twitter_wordcloud_terms(afinn_fmask2, \"negative\"))\n",
    "wordcloud_image(\"afinn\", \"twitter\", \"lockdown\", \"neg2\", twitter_wordcloud_terms(afinn_ldown2, \"negative\"))\n",
    "wordcloud_image(\"afinn\", \"twitter\", \"pcr\", \"neg2\", twitter_wordcloud_terms(afinn_pcr2, \"negative\"))\n",
    "wordcloud_image(\"afinn\", \"twitter\", \"pfizer\", \"neg2\", twitter_wordcloud_terms(afinn_pfizer2, \"negative\"))\n",
    "wordcloud_image(\"afinn\", \"twitter\", \"quarantine\", \"neg2\", twitter_wordcloud_terms(afinn_quar2, \"negative\"))\n",
    "wordcloud_image(\"afinn\", \"twitter\", \"restrictions\", \"neg2\", twitter_wordcloud_terms(afinn_rest2, \"negative\"))\n",
    "wordcloud_image(\"afinn\", \"twitter\", \"vaccine\", \"neg2\", twitter_wordcloud_terms(afinn_vac2, \"negative\"))"
   ]
  },
  {
   "cell_type": "markdown",
   "metadata": {},
   "source": [
    "Run 3"
   ]
  },
  {
   "cell_type": "code",
   "execution_count": 16,
   "metadata": {},
   "outputs": [],
   "source": [
    "wordcloud_image(\"afinn\", \"twitter\", \"facemasks\", \"neg3\", twitter_wordcloud_terms(afinn_fmask3, \"negative\"))\n",
    "wordcloud_image(\"afinn\", \"twitter\", \"lockdown\", \"neg3\", twitter_wordcloud_terms(afinn_ldown3, \"negative\"))\n",
    "wordcloud_image(\"afinn\", \"twitter\", \"pcr\", \"neg3\", twitter_wordcloud_terms(afinn_pcr3, \"negative\"))\n",
    "wordcloud_image(\"afinn\", \"twitter\", \"pfizer\", \"neg3\", twitter_wordcloud_terms(afinn_pfizer3, \"negative\"))\n",
    "wordcloud_image(\"afinn\", \"twitter\", \"quarantine\", \"neg3\", twitter_wordcloud_terms(afinn_quar3, \"negative\"))\n",
    "wordcloud_image(\"afinn\", \"twitter\", \"restrictions\", \"neg3\", twitter_wordcloud_terms(afinn_rest3, \"negative\"))\n",
    "wordcloud_image(\"afinn\", \"twitter\", \"vaccine\", \"neg3\", twitter_wordcloud_terms(afinn_vac3, \"negative\"))"
   ]
  },
  {
   "cell_type": "markdown",
   "metadata": {},
   "source": [
    "Afinn Reddit"
   ]
  },
  {
   "cell_type": "code",
   "execution_count": 2,
   "metadata": {},
   "outputs": [],
   "source": [
    "with open('reddit_vars/reddit_afinn_run1', 'rb') as f:\n",
    "    afinn_fmask1 = dill.load(f)\n",
    "    afinn_ldown1 = dill.load(f)\n",
    "    afinn_pcr1 = dill.load(f)\n",
    "    afinn_pfizer1 = dill.load(f)\n",
    "    afinn_quar1 = dill.load(f)\n",
    "    afinn_rest1 = dill.load(f)\n",
    "    afinn_vac1 = dill.load(f)"
   ]
  },
  {
   "cell_type": "code",
   "execution_count": 3,
   "metadata": {},
   "outputs": [],
   "source": [
    "with open('reddit_vars/reddit_afinn_run2', 'rb') as f:\n",
    "    afinn_fmask2 = dill.load(f)\n",
    "    afinn_ldown2 = dill.load(f)\n",
    "    afinn_pcr2 = dill.load(f)\n",
    "    afinn_pfizer2 = dill.load(f)\n",
    "    afinn_quar2 = dill.load(f)\n",
    "    afinn_rest2 = dill.load(f)\n",
    "    afinn_vac2 = dill.load(f)"
   ]
  },
  {
   "cell_type": "code",
   "execution_count": 4,
   "metadata": {},
   "outputs": [],
   "source": [
    "with open('reddit_vars/reddit_afinn_run3', 'rb') as f:\n",
    "    afinn_fmask3 = dill.load(f)\n",
    "    afinn_ldown3 = dill.load(f)\n",
    "    afinn_pcr3 = dill.load(f)\n",
    "    afinn_pfizer3 = dill.load(f)\n",
    "    afinn_quar3 = dill.load(f)\n",
    "    afinn_rest3 = dill.load(f)\n",
    "    afinn_vac3 = dill.load(f)"
   ]
  },
  {
   "cell_type": "markdown",
   "metadata": {},
   "source": [
    "Run 1"
   ]
  },
  {
   "cell_type": "code",
   "execution_count": 5,
   "metadata": {},
   "outputs": [],
   "source": [
    "wordcloud_image(\"afinn\", \"reddit\", \"facemasks\", \"pos1\", reddit_wordcloud_terms(afinn_fmask1, \"positive\"))\n",
    "wordcloud_image(\"afinn\", \"reddit\", \"lockdown\", \"pos1\", reddit_wordcloud_terms(afinn_ldown1, \"positive\"))\n",
    "wordcloud_image(\"afinn\", \"reddit\", \"pcr\", \"pos1\", reddit_wordcloud_terms(afinn_pcr1, \"positive\"))\n",
    "wordcloud_image(\"afinn\", \"reddit\", \"pfizer\", \"pos1\", reddit_wordcloud_terms(afinn_pfizer1, \"positive\"))\n",
    "wordcloud_image(\"afinn\", \"reddit\", \"quarantine\", \"pos1\", reddit_wordcloud_terms(afinn_quar1, \"positive\"))\n",
    "wordcloud_image(\"afinn\", \"reddit\", \"restrictions\", \"pos1\", reddit_wordcloud_terms(afinn_rest1, \"positive\"))\n",
    "wordcloud_image(\"afinn\", \"reddit\", \"vaccine\", \"pos1\", reddit_wordcloud_terms(afinn_vac1, \"positive\"))\n",
    "\n",
    "wordcloud_image(\"afinn\", \"reddit\", \"facemasks\", \"neg1\", reddit_wordcloud_terms(afinn_fmask1, \"negative\"))\n",
    "wordcloud_image(\"afinn\", \"reddit\", \"lockdown\", \"neg1\", reddit_wordcloud_terms(afinn_ldown1, \"negative\"))\n",
    "wordcloud_image(\"afinn\", \"reddit\", \"pcr\", \"neg1\", reddit_wordcloud_terms(afinn_pcr1, \"negative\"))\n",
    "wordcloud_image(\"afinn\", \"reddit\", \"pfizer\", \"neg1\", reddit_wordcloud_terms(afinn_pfizer1, \"negative\"))\n",
    "wordcloud_image(\"afinn\", \"reddit\", \"quarantine\", \"neg1\", reddit_wordcloud_terms(afinn_quar1, \"negative\"))\n",
    "wordcloud_image(\"afinn\", \"reddit\", \"restrictions\", \"neg1\", reddit_wordcloud_terms(afinn_rest1, \"negative\"))\n",
    "wordcloud_image(\"afinn\", \"reddit\", \"vaccine\", \"neg1\", reddit_wordcloud_terms(afinn_vac1, \"negative\"))"
   ]
  },
  {
   "cell_type": "markdown",
   "metadata": {},
   "source": [
    "Run 2"
   ]
  },
  {
   "cell_type": "code",
   "execution_count": 6,
   "metadata": {},
   "outputs": [],
   "source": [
    "wordcloud_image(\"afinn\", \"reddit\", \"facemasks\", \"pos2\", reddit_wordcloud_terms(afinn_fmask2, \"positive\"))\n",
    "wordcloud_image(\"afinn\", \"reddit\", \"lockdown\", \"pos2\", reddit_wordcloud_terms(afinn_ldown2, \"positive\"))\n",
    "wordcloud_image(\"afinn\", \"reddit\", \"pcr\", \"pos2\", reddit_wordcloud_terms(afinn_pcr2, \"positive\"))\n",
    "wordcloud_image(\"afinn\", \"reddit\", \"pfizer\", \"pos2\", reddit_wordcloud_terms(afinn_pfizer2, \"positive\"))\n",
    "wordcloud_image(\"afinn\", \"reddit\", \"quarantine\", \"pos2\", reddit_wordcloud_terms(afinn_quar2, \"positive\"))\n",
    "wordcloud_image(\"afinn\", \"reddit\", \"restrictions\", \"pos2\", reddit_wordcloud_terms(afinn_rest2, \"positive\"))\n",
    "wordcloud_image(\"afinn\", \"reddit\", \"vaccine\", \"pos2\", reddit_wordcloud_terms(afinn_vac2, \"positive\"))\n",
    "\n",
    "wordcloud_image(\"afinn\", \"reddit\", \"facemasks\", \"neg2\", reddit_wordcloud_terms(afinn_fmask2, \"negative\"))\n",
    "wordcloud_image(\"afinn\", \"reddit\", \"lockdown\", \"neg2\", reddit_wordcloud_terms(afinn_ldown2, \"negative\"))\n",
    "wordcloud_image(\"afinn\", \"reddit\", \"pcr\", \"neg2\", reddit_wordcloud_terms(afinn_pcr2, \"negative\"))\n",
    "wordcloud_image(\"afinn\", \"reddit\", \"pfizer\", \"neg2\", reddit_wordcloud_terms(afinn_pfizer2, \"negative\"))\n",
    "wordcloud_image(\"afinn\", \"reddit\", \"quarantine\", \"neg2\", reddit_wordcloud_terms(afinn_quar2, \"negative\"))\n",
    "wordcloud_image(\"afinn\", \"reddit\", \"restrictions\", \"neg2\", reddit_wordcloud_terms(afinn_rest2, \"negative\"))\n",
    "wordcloud_image(\"afinn\", \"reddit\", \"vaccine\", \"neg2\", reddit_wordcloud_terms(afinn_vac2, \"negative\"))"
   ]
  },
  {
   "cell_type": "markdown",
   "metadata": {},
   "source": [
    "Run 3"
   ]
  },
  {
   "cell_type": "code",
   "execution_count": 7,
   "metadata": {},
   "outputs": [],
   "source": [
    "wordcloud_image(\"afinn\", \"reddit\", \"facemasks\", \"pos3\", reddit_wordcloud_terms(afinn_fmask3, \"positive\"))\n",
    "wordcloud_image(\"afinn\", \"reddit\", \"lockdown\", \"pos3\", reddit_wordcloud_terms(afinn_ldown3, \"positive\"))\n",
    "wordcloud_image(\"afinn\", \"reddit\", \"pcr\", \"pos3\", reddit_wordcloud_terms(afinn_pcr3, \"positive\"))\n",
    "wordcloud_image(\"afinn\", \"reddit\", \"pfizer\", \"pos3\", reddit_wordcloud_terms(afinn_pfizer3, \"positive\"))\n",
    "wordcloud_image(\"afinn\", \"reddit\", \"quarantine\", \"pos3\", reddit_wordcloud_terms(afinn_quar3, \"positive\"))\n",
    "wordcloud_image(\"afinn\", \"reddit\", \"restrictions\", \"pos3\", reddit_wordcloud_terms(afinn_rest3, \"positive\"))\n",
    "wordcloud_image(\"afinn\", \"reddit\", \"vaccine\", \"pos3\", reddit_wordcloud_terms(afinn_vac3, \"positive\"))\n",
    "\n",
    "wordcloud_image(\"afinn\", \"reddit\", \"facemasks\", \"neg3\", reddit_wordcloud_terms(afinn_fmask3, \"negative\"))\n",
    "wordcloud_image(\"afinn\", \"reddit\", \"lockdown\", \"neg3\", reddit_wordcloud_terms(afinn_ldown3, \"negative\"))\n",
    "wordcloud_image(\"afinn\", \"reddit\", \"pcr\", \"neg3\", reddit_wordcloud_terms(afinn_pcr3, \"negative\"))\n",
    "wordcloud_image(\"afinn\", \"reddit\", \"pfizer\", \"neg3\", reddit_wordcloud_terms(afinn_pfizer3, \"negative\"))\n",
    "wordcloud_image(\"afinn\", \"reddit\", \"quarantine\", \"neg3\", reddit_wordcloud_terms(afinn_quar3, \"negative\"))\n",
    "wordcloud_image(\"afinn\", \"reddit\", \"restrictions\", \"neg3\", reddit_wordcloud_terms(afinn_rest3, \"negative\"))\n",
    "wordcloud_image(\"afinn\", \"reddit\", \"vaccine\", \"neg3\", reddit_wordcloud_terms(afinn_vac3, \"negative\"))"
   ]
  },
  {
   "cell_type": "markdown",
   "metadata": {},
   "source": [
    "BERT Twitter"
   ]
  },
  {
   "cell_type": "code",
   "execution_count": 2,
   "metadata": {},
   "outputs": [],
   "source": [
    "with open('twitter_vars/twitter_bert_run1', 'rb') as f:\n",
    "    bert_fmask1 = dill.load(f)\n",
    "    bert_ldown1 = dill.load(f)\n",
    "    bert_pcr1 = dill.load(f)\n",
    "    bert_pfizer1 = dill.load(f)\n",
    "    bert_quar1 = dill.load(f)\n",
    "    bert_rest1 = dill.load(f)\n",
    "    bert_vac1 = dill.load(f)"
   ]
  },
  {
   "cell_type": "code",
   "execution_count": 3,
   "metadata": {},
   "outputs": [],
   "source": [
    "with open('twitter_vars/twitter_bert_run2', 'rb') as f:\n",
    "    bert_fmask2 = dill.load(f)\n",
    "    bert_ldown2 = dill.load(f)\n",
    "    bert_pcr2 = dill.load(f)\n",
    "    bert_pfizer2 = dill.load(f)\n",
    "    bert_quar2 = dill.load(f)\n",
    "    bert_rest2 = dill.load(f)\n",
    "    bert_vac2 = dill.load(f)"
   ]
  },
  {
   "cell_type": "code",
   "execution_count": 4,
   "metadata": {},
   "outputs": [],
   "source": [
    "with open('twitter_vars/twitter_bert_run3', 'rb') as f:\n",
    "    bert_fmask3 = dill.load(f)\n",
    "    bert_ldown3 = dill.load(f)\n",
    "    bert_pcr3 = dill.load(f)\n",
    "    bert_pfizer3 = dill.load(f)\n",
    "    bert_quar3 = dill.load(f)\n",
    "    bert_rest3 = dill.load(f)\n",
    "    bert_vac3 = dill.load(f)"
   ]
  },
  {
   "cell_type": "markdown",
   "metadata": {},
   "source": [
    "Run 1"
   ]
  },
  {
   "cell_type": "code",
   "execution_count": 5,
   "metadata": {},
   "outputs": [],
   "source": [
    "wordcloud_image(\"bert\", \"twitter\", \"facemasks\", \"pos1\", twitter_wordcloud_terms(bert_fmask1, \"positive\"))\n",
    "wordcloud_image(\"bert\", \"twitter\", \"lockdown\", \"pos1\", twitter_wordcloud_terms(bert_ldown1, \"positive\"))\n",
    "wordcloud_image(\"bert\", \"twitter\", \"pcr\", \"pos1\", twitter_wordcloud_terms(bert_pcr1, \"positive\"))\n",
    "wordcloud_image(\"bert\", \"twitter\", \"pfizer\", \"pos1\", twitter_wordcloud_terms(bert_pfizer1, \"positive\"))\n",
    "wordcloud_image(\"bert\", \"twitter\", \"quarantine\", \"pos1\", twitter_wordcloud_terms(bert_quar1, \"positive\"))\n",
    "wordcloud_image(\"bert\", \"twitter\", \"restrictions\", \"pos1\", twitter_wordcloud_terms(bert_rest1, \"positive\"))\n",
    "wordcloud_image(\"bert\", \"twitter\", \"vaccine\", \"pos1\", twitter_wordcloud_terms(bert_vac1, \"positive\"))\n",
    "\n",
    "wordcloud_image(\"bert\", \"twitter\", \"facemasks\", \"neg1\", twitter_wordcloud_terms(bert_fmask1, \"negative\"))\n",
    "wordcloud_image(\"bert\", \"twitter\", \"lockdown\", \"neg1\", twitter_wordcloud_terms(bert_ldown1, \"negative\"))\n",
    "wordcloud_image(\"bert\", \"twitter\", \"pcr\", \"neg1\", twitter_wordcloud_terms(bert_pcr1, \"negative\"))\n",
    "wordcloud_image(\"bert\", \"twitter\", \"pfizer\", \"neg1\", twitter_wordcloud_terms(bert_pfizer1, \"negative\"))\n",
    "wordcloud_image(\"bert\", \"twitter\", \"quarantine\", \"neg1\", twitter_wordcloud_terms(bert_quar1, \"negative\"))\n",
    "wordcloud_image(\"bert\", \"twitter\", \"restrictions\", \"neg1\", twitter_wordcloud_terms(bert_rest1, \"negative\"))\n",
    "wordcloud_image(\"bert\", \"twitter\", \"vaccine\", \"neg1\", twitter_wordcloud_terms(bert_vac1, \"negative\"))"
   ]
  },
  {
   "cell_type": "markdown",
   "metadata": {},
   "source": [
    "Run 2"
   ]
  },
  {
   "cell_type": "code",
   "execution_count": 7,
   "metadata": {},
   "outputs": [],
   "source": [
    "wordcloud_image(\"bert\", \"twitter\", \"facemasks\", \"pos2\", twitter_wordcloud_terms(bert_fmask2, \"positive\"))\n",
    "wordcloud_image(\"bert\", \"twitter\", \"lockdown\", \"pos2\", twitter_wordcloud_terms(bert_ldown2, \"positive\"))\n",
    "wordcloud_image(\"bert\", \"twitter\", \"pcr\", \"pos2\", twitter_wordcloud_terms(bert_pcr2, \"positive\"))\n",
    "wordcloud_image(\"bert\", \"twitter\", \"pfizer\", \"pos2\", twitter_wordcloud_terms(bert_pfizer2, \"positive\"))\n",
    "wordcloud_image(\"bert\", \"twitter\", \"quarantine\", \"pos2\", twitter_wordcloud_terms(bert_quar2, \"positive\"))\n",
    "wordcloud_image(\"bert\", \"twitter\", \"restrictions\", \"pos2\", twitter_wordcloud_terms(bert_rest2, \"positive\"))\n",
    "wordcloud_image(\"bert\", \"twitter\", \"vaccine\", \"pos2\", twitter_wordcloud_terms(bert_vac2, \"positive\"))\n",
    "\n",
    "wordcloud_image(\"bert\", \"twitter\", \"facemasks\", \"neg2\", twitter_wordcloud_terms(bert_fmask2, \"negative\"))\n",
    "wordcloud_image(\"bert\", \"twitter\", \"lockdown\", \"neg2\", twitter_wordcloud_terms(bert_ldown2, \"negative\"))\n",
    "wordcloud_image(\"bert\", \"twitter\", \"pcr\", \"neg2\", twitter_wordcloud_terms(bert_pcr2, \"negative\"))\n",
    "wordcloud_image(\"bert\", \"twitter\", \"pfizer\", \"neg2\", twitter_wordcloud_terms(bert_pfizer2, \"negative\"))\n",
    "wordcloud_image(\"bert\", \"twitter\", \"quarantine\", \"neg2\", twitter_wordcloud_terms(bert_quar2, \"negative\"))\n",
    "wordcloud_image(\"bert\", \"twitter\", \"restrictions\", \"neg2\", twitter_wordcloud_terms(bert_rest2, \"negative\"))\n",
    "wordcloud_image(\"bert\", \"twitter\", \"vaccine\", \"neg2\", twitter_wordcloud_terms(bert_vac2, \"negative\"))"
   ]
  },
  {
   "cell_type": "markdown",
   "metadata": {},
   "source": [
    "Run 3"
   ]
  },
  {
   "cell_type": "code",
   "execution_count": 8,
   "metadata": {},
   "outputs": [],
   "source": [
    "wordcloud_image(\"bert\", \"twitter\", \"facemasks\", \"pos3\", twitter_wordcloud_terms(bert_fmask3, \"positive\"))\n",
    "wordcloud_image(\"bert\", \"twitter\", \"lockdown\", \"pos3\", twitter_wordcloud_terms(bert_ldown3, \"positive\"))\n",
    "wordcloud_image(\"bert\", \"twitter\", \"pcr\", \"pos3\", twitter_wordcloud_terms(bert_pcr3, \"positive\"))\n",
    "wordcloud_image(\"bert\", \"twitter\", \"pfizer\", \"pos3\", twitter_wordcloud_terms(bert_pfizer3, \"positive\"))\n",
    "wordcloud_image(\"bert\", \"twitter\", \"quarantine\", \"pos3\", twitter_wordcloud_terms(bert_quar3, \"positive\"))\n",
    "wordcloud_image(\"bert\", \"twitter\", \"restrictions\", \"pos3\", twitter_wordcloud_terms(bert_rest3, \"positive\"))\n",
    "wordcloud_image(\"bert\", \"twitter\", \"vaccine\", \"pos3\", twitter_wordcloud_terms(bert_vac3, \"positive\"))\n",
    "\n",
    "wordcloud_image(\"bert\", \"twitter\", \"facemasks\", \"neg3\", twitter_wordcloud_terms(bert_fmask3, \"negative\"))\n",
    "wordcloud_image(\"bert\", \"twitter\", \"lockdown\", \"neg3\", twitter_wordcloud_terms(bert_ldown3, \"negative\"))\n",
    "wordcloud_image(\"bert\", \"twitter\", \"pcr\", \"neg3\", twitter_wordcloud_terms(bert_pcr3, \"negative\"))\n",
    "wordcloud_image(\"bert\", \"twitter\", \"pfizer\", \"neg3\", twitter_wordcloud_terms(bert_pfizer3, \"negative\"))\n",
    "wordcloud_image(\"bert\", \"twitter\", \"quarantine\", \"neg3\", twitter_wordcloud_terms(bert_quar3, \"negative\"))\n",
    "wordcloud_image(\"bert\", \"twitter\", \"restrictions\", \"neg3\", twitter_wordcloud_terms(bert_rest3, \"negative\"))\n",
    "wordcloud_image(\"bert\", \"twitter\", \"vaccine\", \"neg3\", twitter_wordcloud_terms(bert_vac3, \"negative\"))"
   ]
  },
  {
   "cell_type": "markdown",
   "metadata": {},
   "source": [
    "BERT Reddit"
   ]
  },
  {
   "cell_type": "code",
   "execution_count": 9,
   "metadata": {},
   "outputs": [],
   "source": [
    "with open('reddit_vars/reddit_bert_run1', 'rb') as f:\n",
    "    bert_fmask1 = dill.load(f)\n",
    "    bert_ldown1 = dill.load(f)\n",
    "    bert_pcr1 = dill.load(f)\n",
    "    bert_pfizer1 = dill.load(f)\n",
    "    bert_quar1 = dill.load(f)\n",
    "    bert_rest1 = dill.load(f)\n",
    "    bert_vac1 = dill.load(f)"
   ]
  },
  {
   "cell_type": "code",
   "execution_count": 10,
   "metadata": {},
   "outputs": [],
   "source": [
    "with open('reddit_vars/reddit_bert_run2', 'rb') as f:\n",
    "    bert_fmask2 = dill.load(f)\n",
    "    bert_ldown2 = dill.load(f)\n",
    "    bert_pcr2 = dill.load(f)\n",
    "    bert_pfizer2 = dill.load(f)\n",
    "    bert_quar2 = dill.load(f)\n",
    "    bert_rest2 = dill.load(f)\n",
    "    bert_vac2 = dill.load(f)"
   ]
  },
  {
   "cell_type": "code",
   "execution_count": 11,
   "metadata": {},
   "outputs": [],
   "source": [
    "with open('reddit_vars/reddit_bert_run3', 'rb') as f:\n",
    "    bert_fmask3 = dill.load(f)\n",
    "    bert_ldown3 = dill.load(f)\n",
    "    bert_pcr3 = dill.load(f)\n",
    "    bert_pfizer3 = dill.load(f)\n",
    "    bert_quar3 = dill.load(f)\n",
    "    bert_rest3 = dill.load(f)\n",
    "    bert_vac3 = dill.load(f)"
   ]
  },
  {
   "cell_type": "markdown",
   "metadata": {},
   "source": [
    "Run 1"
   ]
  },
  {
   "cell_type": "code",
   "execution_count": 12,
   "metadata": {},
   "outputs": [],
   "source": [
    "wordcloud_image(\"bert\", \"reddit\", \"facemasks\", \"pos1\", reddit_wordcloud_terms(bert_fmask1, \"positive\"))\n",
    "wordcloud_image(\"bert\", \"reddit\", \"lockdown\", \"pos1\", reddit_wordcloud_terms(bert_ldown1, \"positive\"))\n",
    "wordcloud_image(\"bert\", \"reddit\", \"pcr\", \"pos1\", reddit_wordcloud_terms(bert_pcr1, \"positive\"))\n",
    "wordcloud_image(\"bert\", \"reddit\", \"pfizer\", \"pos1\", reddit_wordcloud_terms(bert_pfizer1, \"positive\"))\n",
    "wordcloud_image(\"bert\", \"reddit\", \"quarantine\", \"pos1\", reddit_wordcloud_terms(bert_quar1, \"positive\"))\n",
    "wordcloud_image(\"bert\", \"reddit\", \"restrictions\", \"pos1\", reddit_wordcloud_terms(bert_rest1, \"positive\"))\n",
    "wordcloud_image(\"bert\", \"reddit\", \"vaccine\", \"pos1\", reddit_wordcloud_terms(bert_vac1, \"positive\"))\n",
    "\n",
    "wordcloud_image(\"bert\", \"reddit\", \"facemasks\", \"neg1\", reddit_wordcloud_terms(bert_fmask1, \"negative\"))\n",
    "wordcloud_image(\"bert\", \"reddit\", \"lockdown\", \"neg1\", reddit_wordcloud_terms(bert_ldown1, \"negative\"))\n",
    "wordcloud_image(\"bert\", \"reddit\", \"pcr\", \"neg1\", reddit_wordcloud_terms(bert_pcr1, \"negative\"))\n",
    "wordcloud_image(\"bert\", \"reddit\", \"pfizer\", \"neg1\", reddit_wordcloud_terms(bert_pfizer1, \"negative\"))\n",
    "wordcloud_image(\"bert\", \"reddit\", \"quarantine\", \"neg1\", reddit_wordcloud_terms(bert_quar1, \"negative\"))\n",
    "wordcloud_image(\"bert\", \"reddit\", \"restrictions\", \"neg1\", reddit_wordcloud_terms(bert_rest1, \"negative\"))\n",
    "wordcloud_image(\"bert\", \"reddit\", \"vaccine\", \"neg1\", reddit_wordcloud_terms(bert_vac1, \"negative\"))"
   ]
  },
  {
   "cell_type": "markdown",
   "metadata": {},
   "source": [
    "Run 2"
   ]
  },
  {
   "cell_type": "code",
   "execution_count": 13,
   "metadata": {},
   "outputs": [],
   "source": [
    "wordcloud_image(\"bert\", \"reddit\", \"facemasks\", \"pos2\", reddit_wordcloud_terms(bert_fmask2, \"positive\"))\n",
    "wordcloud_image(\"bert\", \"reddit\", \"lockdown\", \"pos2\", reddit_wordcloud_terms(bert_ldown2, \"positive\"))\n",
    "wordcloud_image(\"bert\", \"reddit\", \"pcr\", \"pos2\", reddit_wordcloud_terms(bert_pcr2, \"positive\"))\n",
    "wordcloud_image(\"bert\", \"reddit\", \"pfizer\", \"pos2\", reddit_wordcloud_terms(bert_pfizer2, \"positive\"))\n",
    "wordcloud_image(\"bert\", \"reddit\", \"quarantine\", \"pos2\", reddit_wordcloud_terms(bert_quar2, \"positive\"))\n",
    "wordcloud_image(\"bert\", \"reddit\", \"restrictions\", \"pos2\", reddit_wordcloud_terms(bert_rest2, \"positive\"))\n",
    "wordcloud_image(\"bert\", \"reddit\", \"vaccine\", \"pos2\", reddit_wordcloud_terms(bert_vac2, \"positive\"))\n",
    "\n",
    "wordcloud_image(\"bert\", \"reddit\", \"facemasks\", \"neg2\", reddit_wordcloud_terms(bert_fmask2, \"negative\"))\n",
    "wordcloud_image(\"bert\", \"reddit\", \"lockdown\", \"neg2\", reddit_wordcloud_terms(bert_ldown2, \"negative\"))\n",
    "wordcloud_image(\"bert\", \"reddit\", \"pcr\", \"neg2\", reddit_wordcloud_terms(bert_pcr2, \"negative\"))\n",
    "wordcloud_image(\"bert\", \"reddit\", \"pfizer\", \"neg2\", reddit_wordcloud_terms(bert_pfizer2, \"negative\"))\n",
    "wordcloud_image(\"bert\", \"reddit\", \"quarantine\", \"neg2\", reddit_wordcloud_terms(bert_quar2, \"negative\"))\n",
    "wordcloud_image(\"bert\", \"reddit\", \"restrictions\", \"neg2\", reddit_wordcloud_terms(bert_rest2, \"negative\"))\n",
    "wordcloud_image(\"bert\", \"reddit\", \"vaccine\", \"neg2\", reddit_wordcloud_terms(bert_vac2, \"negative\"))"
   ]
  },
  {
   "cell_type": "markdown",
   "metadata": {},
   "source": [
    "Run 3"
   ]
  },
  {
   "cell_type": "code",
   "execution_count": 14,
   "metadata": {},
   "outputs": [],
   "source": [
    "wordcloud_image(\"bert\", \"reddit\", \"facemasks\", \"pos3\", reddit_wordcloud_terms(bert_fmask3, \"positive\"))\n",
    "wordcloud_image(\"bert\", \"reddit\", \"lockdown\", \"pos3\", reddit_wordcloud_terms(bert_ldown3, \"positive\"))\n",
    "wordcloud_image(\"bert\", \"reddit\", \"pcr\", \"pos3\", reddit_wordcloud_terms(bert_pcr3, \"positive\"))\n",
    "wordcloud_image(\"bert\", \"reddit\", \"pfizer\", \"pos3\", reddit_wordcloud_terms(bert_pfizer3, \"positive\"))\n",
    "wordcloud_image(\"bert\", \"reddit\", \"quarantine\", \"pos3\", reddit_wordcloud_terms(bert_quar3, \"positive\"))\n",
    "wordcloud_image(\"bert\", \"reddit\", \"restrictions\", \"pos3\", reddit_wordcloud_terms(bert_rest3, \"positive\"))\n",
    "wordcloud_image(\"bert\", \"reddit\", \"vaccine\", \"pos3\", reddit_wordcloud_terms(bert_vac3, \"positive\"))\n",
    "\n",
    "wordcloud_image(\"bert\", \"reddit\", \"facemasks\", \"neg3\", reddit_wordcloud_terms(bert_fmask3, \"negative\"))\n",
    "wordcloud_image(\"bert\", \"reddit\", \"lockdown\", \"neg3\", reddit_wordcloud_terms(bert_ldown3, \"negative\"))\n",
    "wordcloud_image(\"bert\", \"reddit\", \"pcr\", \"neg3\", reddit_wordcloud_terms(bert_pcr3, \"negative\"))\n",
    "wordcloud_image(\"bert\", \"reddit\", \"pfizer\", \"neg3\", reddit_wordcloud_terms(bert_pfizer3, \"negative\"))\n",
    "wordcloud_image(\"bert\", \"reddit\", \"quarantine\", \"neg3\", reddit_wordcloud_terms(bert_quar3, \"negative\"))\n",
    "wordcloud_image(\"bert\", \"reddit\", \"restrictions\", \"neg3\", reddit_wordcloud_terms(bert_rest3, \"negative\"))\n",
    "wordcloud_image(\"bert\", \"reddit\", \"vaccine\", \"neg3\", reddit_wordcloud_terms(bert_vac3, \"negative\"))"
   ]
  }
 ],
 "metadata": {
  "interpreter": {
   "hash": "4ebbf97e9f9e26eae94b47b69709ce5d0a0e95bc9af71f20dffa41bd870b01f6"
  },
  "kernelspec": {
   "display_name": "Python 3.7.9 ('topic_sentiment_across_sn')",
   "language": "python",
   "name": "python3"
  },
  "language_info": {
   "codemirror_mode": {
    "name": "ipython",
    "version": 3
   },
   "file_extension": ".py",
   "mimetype": "text/x-python",
   "name": "python",
   "nbconvert_exporter": "python",
   "pygments_lexer": "ipython3",
   "version": "3.7.9"
  },
  "orig_nbformat": 4
 },
 "nbformat": 4,
 "nbformat_minor": 2
}
