{
 "cells": [
  {
   "cell_type": "code",
   "execution_count": 1,
   "metadata": {},
   "outputs": [],
   "source": [
    "import numpy as np\n",
    "import pandas as pd\n",
    "import matplotlib.pyplot as plt \n",
    "import dill\n",
    "from dill import dump, load\n",
    "from twitter_modules import twitter_wordcloud_terms\n",
    "from reddit_modules import reddit_wordcloud_terms\n",
    "from shared_modules import wordcloud_image"
   ]
  },
  {
   "cell_type": "markdown",
   "metadata": {},
   "source": [
    "Afinn Twitter"
   ]
  },
  {
   "cell_type": "code",
   "execution_count": 8,
   "metadata": {},
   "outputs": [],
   "source": [
    "with open('twitter_vars/twitter_afinn_run1', 'rb') as f:\n",
    "    afinn_fmask1 = dill.load(f)\n",
    "    afinn_ldown1 = dill.load(f)\n",
    "    afinn_pcr1 = dill.load(f)\n",
    "    afinn_pfizer1 = dill.load(f)\n",
    "    afinn_quar1 = dill.load(f)\n",
    "    afinn_rest1 = dill.load(f)\n",
    "    afinn_vac1 = dill.load(f)"
   ]
  },
  {
   "cell_type": "code",
   "execution_count": 9,
   "metadata": {},
   "outputs": [],
   "source": [
    "with open('twitter_vars/twitter_afinn_run2', 'rb') as f:\n",
    "    afinn_fmask2 = dill.load(f)\n",
    "    afinn_ldown2 = dill.load(f)\n",
    "    afinn_pcr2 = dill.load(f)\n",
    "    afinn_pfizer2 = dill.load(f)\n",
    "    afinn_quar2 = dill.load(f)\n",
    "    afinn_rest2 = dill.load(f)\n",
    "    afinn_vac2 = dill.load(f)"
   ]
  },
  {
   "cell_type": "code",
   "execution_count": 10,
   "metadata": {},
   "outputs": [],
   "source": [
    "with open('twitter_vars/twitter_afinn_run3', 'rb') as f:\n",
    "    afinn_fmask3 = dill.load(f)\n",
    "    afinn_ldown3 = dill.load(f)\n",
    "    afinn_pcr3 = dill.load(f)\n",
    "    afinn_pfizer3 = dill.load(f)\n",
    "    afinn_quar3 = dill.load(f)\n",
    "    afinn_rest3 = dill.load(f)\n",
    "    afinn_vac3 = dill.load(f)"
   ]
  },
  {
   "cell_type": "markdown",
   "metadata": {},
   "source": [
    "Positive Terms Afinn"
   ]
  },
  {
   "cell_type": "markdown",
   "metadata": {},
   "source": [
    "Run 1"
   ]
  },
  {
   "cell_type": "code",
   "execution_count": 11,
   "metadata": {},
   "outputs": [],
   "source": [
    "wordcloud_image(\"afinn\", \"twitter\", \"facemasks\", \"pos1\", twitter_wordcloud_terms(afinn_fmask1, \"positive\"))\n",
    "wordcloud_image(\"afinn\", \"twitter\", \"lockdown\", \"pos1\", twitter_wordcloud_terms(afinn_ldown1, \"positive\"))\n",
    "wordcloud_image(\"afinn\", \"twitter\", \"pcr\", \"pos1\", twitter_wordcloud_terms(afinn_pcr1, \"positive\"))\n",
    "wordcloud_image(\"afinn\", \"twitter\", \"pfizer\", \"pos1\", twitter_wordcloud_terms(afinn_pfizer1, \"positive\"))\n",
    "wordcloud_image(\"afinn\", \"twitter\", \"quarantine\", \"pos1\", twitter_wordcloud_terms(afinn_quar1, \"positive\"))\n",
    "wordcloud_image(\"afinn\", \"twitter\", \"restrictions\", \"pos1\", twitter_wordcloud_terms(afinn_rest1, \"positive\"))\n",
    "wordcloud_image(\"afinn\", \"twitter\", \"vaccine\", \"pos1\", twitter_wordcloud_terms(afinn_vac1, \"positive\"))\n"
   ]
  },
  {
   "cell_type": "markdown",
   "metadata": {},
   "source": [
    "Run 2"
   ]
  },
  {
   "cell_type": "code",
   "execution_count": 12,
   "metadata": {},
   "outputs": [],
   "source": [
    "wordcloud_image(\"afinn\", \"twitter\", \"facemasks\", \"pos2\", twitter_wordcloud_terms(afinn_fmask2, \"positive\"))\n",
    "wordcloud_image(\"afinn\", \"twitter\", \"lockdown\", \"pos2\", twitter_wordcloud_terms(afinn_ldown2, \"positive\"))\n",
    "wordcloud_image(\"afinn\", \"twitter\", \"pcr\", \"pos2\", twitter_wordcloud_terms(afinn_pcr2, \"positive\"))\n",
    "wordcloud_image(\"afinn\", \"twitter\", \"pfizer\", \"pos2\", twitter_wordcloud_terms(afinn_pfizer2, \"positive\"))\n",
    "wordcloud_image(\"afinn\", \"twitter\", \"quarantine\", \"pos2\", twitter_wordcloud_terms(afinn_quar2, \"positive\"))\n",
    "wordcloud_image(\"afinn\", \"twitter\", \"restrictions\", \"pos2\", twitter_wordcloud_terms(afinn_rest2, \"positive\"))\n",
    "wordcloud_image(\"afinn\", \"twitter\", \"vaccine\", \"pos2\", twitter_wordcloud_terms(afinn_vac2, \"positive\"))"
   ]
  },
  {
   "cell_type": "markdown",
   "metadata": {},
   "source": [
    "Run 3"
   ]
  },
  {
   "cell_type": "code",
   "execution_count": 13,
   "metadata": {},
   "outputs": [],
   "source": [
    "wordcloud_image(\"afinn\", \"twitter\", \"facemasks\", \"pos3\", twitter_wordcloud_terms(afinn_fmask3, \"positive\"))\n",
    "wordcloud_image(\"afinn\", \"twitter\", \"lockdown\", \"pos3\", twitter_wordcloud_terms(afinn_ldown3, \"positive\"))\n",
    "wordcloud_image(\"afinn\", \"twitter\", \"pcr\", \"pos3\", twitter_wordcloud_terms(afinn_pcr3, \"positive\"))\n",
    "wordcloud_image(\"afinn\", \"twitter\", \"pfizer\", \"pos3\", twitter_wordcloud_terms(afinn_pfizer3, \"positive\"))\n",
    "wordcloud_image(\"afinn\", \"twitter\", \"quarantine\", \"pos3\", twitter_wordcloud_terms(afinn_quar3, \"positive\"))\n",
    "wordcloud_image(\"afinn\", \"twitter\", \"restrictions\", \"pos3\", twitter_wordcloud_terms(afinn_rest3, \"positive\"))\n",
    "wordcloud_image(\"afinn\", \"twitter\", \"vaccine\", \"pos3\", twitter_wordcloud_terms(afinn_vac3, \"positive\"))"
   ]
  },
  {
   "cell_type": "markdown",
   "metadata": {},
   "source": [
    "Negative Terms Afinn"
   ]
  },
  {
   "cell_type": "markdown",
   "metadata": {},
   "source": [
    "Run 1"
   ]
  },
  {
   "cell_type": "code",
   "execution_count": 14,
   "metadata": {},
   "outputs": [],
   "source": [
    "wordcloud_image(\"afinn\", \"twitter\", \"facemasks\", \"neg1\", twitter_wordcloud_terms(afinn_fmask1, \"negative\"))\n",
    "wordcloud_image(\"afinn\", \"twitter\", \"lockdown\", \"neg1\", twitter_wordcloud_terms(afinn_ldown1, \"negative\"))\n",
    "wordcloud_image(\"afinn\", \"twitter\", \"pcr\", \"neg1\", twitter_wordcloud_terms(afinn_pcr1, \"negative\"))\n",
    "wordcloud_image(\"afinn\", \"twitter\", \"pfizer\", \"neg1\", twitter_wordcloud_terms(afinn_pfizer1, \"negative\"))\n",
    "wordcloud_image(\"afinn\", \"twitter\", \"quarantine\", \"neg1\", twitter_wordcloud_terms(afinn_quar1, \"negative\"))\n",
    "wordcloud_image(\"afinn\", \"twitter\", \"restrictions\", \"neg1\", twitter_wordcloud_terms(afinn_rest1, \"negative\"))\n",
    "wordcloud_image(\"afinn\", \"twitter\", \"vaccine\", \"neg1\", twitter_wordcloud_terms(afinn_vac1, \"negative\"))"
   ]
  },
  {
   "cell_type": "markdown",
   "metadata": {},
   "source": [
    "Run 2"
   ]
  },
  {
   "cell_type": "code",
   "execution_count": 15,
   "metadata": {},
   "outputs": [],
   "source": [
    "wordcloud_image(\"afinn\", \"twitter\", \"facemasks\", \"neg2\", twitter_wordcloud_terms(afinn_fmask2, \"negative\"))\n",
    "wordcloud_image(\"afinn\", \"twitter\", \"lockdown\", \"neg2\", twitter_wordcloud_terms(afinn_ldown2, \"negative\"))\n",
    "wordcloud_image(\"afinn\", \"twitter\", \"pcr\", \"neg2\", twitter_wordcloud_terms(afinn_pcr2, \"negative\"))\n",
    "wordcloud_image(\"afinn\", \"twitter\", \"pfizer\", \"neg2\", twitter_wordcloud_terms(afinn_pfizer2, \"negative\"))\n",
    "wordcloud_image(\"afinn\", \"twitter\", \"quarantine\", \"neg2\", twitter_wordcloud_terms(afinn_quar2, \"negative\"))\n",
    "wordcloud_image(\"afinn\", \"twitter\", \"restrictions\", \"neg2\", twitter_wordcloud_terms(afinn_rest2, \"negative\"))\n",
    "wordcloud_image(\"afinn\", \"twitter\", \"vaccine\", \"neg2\", twitter_wordcloud_terms(afinn_vac2, \"negative\"))"
   ]
  },
  {
   "cell_type": "markdown",
   "metadata": {},
   "source": [
    "Run 3"
   ]
  },
  {
   "cell_type": "code",
   "execution_count": 16,
   "metadata": {},
   "outputs": [],
   "source": [
    "wordcloud_image(\"afinn\", \"twitter\", \"facemasks\", \"neg3\", twitter_wordcloud_terms(afinn_fmask3, \"negative\"))\n",
    "wordcloud_image(\"afinn\", \"twitter\", \"lockdown\", \"neg3\", twitter_wordcloud_terms(afinn_ldown3, \"negative\"))\n",
    "wordcloud_image(\"afinn\", \"twitter\", \"pcr\", \"neg3\", twitter_wordcloud_terms(afinn_pcr3, \"negative\"))\n",
    "wordcloud_image(\"afinn\", \"twitter\", \"pfizer\", \"neg3\", twitter_wordcloud_terms(afinn_pfizer3, \"negative\"))\n",
    "wordcloud_image(\"afinn\", \"twitter\", \"quarantine\", \"neg3\", twitter_wordcloud_terms(afinn_quar3, \"negative\"))\n",
    "wordcloud_image(\"afinn\", \"twitter\", \"restrictions\", \"neg3\", twitter_wordcloud_terms(afinn_rest3, \"negative\"))\n",
    "wordcloud_image(\"afinn\", \"twitter\", \"vaccine\", \"neg3\", twitter_wordcloud_terms(afinn_vac3, \"negative\"))"
   ]
  },
  {
   "cell_type": "markdown",
   "metadata": {},
   "source": [
    "Afinn Reddit"
   ]
  },
  {
   "cell_type": "code",
   "execution_count": 2,
   "metadata": {},
   "outputs": [],
   "source": [
    "with open('reddit_vars/reddit_afinn_run1', 'rb') as f:\n",
    "    afinn_fmask1 = dill.load(f)\n",
    "    afinn_ldown1 = dill.load(f)\n",
    "    afinn_pcr1 = dill.load(f)\n",
    "    afinn_pfizer1 = dill.load(f)\n",
    "    afinn_quar1 = dill.load(f)\n",
    "    afinn_rest1 = dill.load(f)\n",
    "    afinn_vac1 = dill.load(f)"
   ]
  },
  {
   "cell_type": "code",
   "execution_count": 3,
   "metadata": {},
   "outputs": [],
   "source": [
    "with open('reddit_vars/reddit_afinn_run2', 'rb') as f:\n",
    "    afinn_fmask2 = dill.load(f)\n",
    "    afinn_ldown2 = dill.load(f)\n",
    "    afinn_pcr2 = dill.load(f)\n",
    "    afinn_pfizer2 = dill.load(f)\n",
    "    afinn_quar2 = dill.load(f)\n",
    "    afinn_rest2 = dill.load(f)\n",
    "    afinn_vac2 = dill.load(f)"
   ]
  },
  {
   "cell_type": "code",
   "execution_count": 4,
   "metadata": {},
   "outputs": [],
   "source": [
    "with open('reddit_vars/reddit_afinn_run3', 'rb') as f:\n",
    "    afinn_fmask3 = dill.load(f)\n",
    "    afinn_ldown3 = dill.load(f)\n",
    "    afinn_pcr3 = dill.load(f)\n",
    "    afinn_pfizer3 = dill.load(f)\n",
    "    afinn_quar3 = dill.load(f)\n",
    "    afinn_rest3 = dill.load(f)\n",
    "    afinn_vac3 = dill.load(f)"
   ]
  },
  {
   "cell_type": "markdown",
   "metadata": {},
   "source": [
    "Run 1"
   ]
  },
  {
   "cell_type": "code",
   "execution_count": 5,
   "metadata": {},
   "outputs": [],
   "source": [
    "wordcloud_image(\"afinn\", \"reddit\", \"facemasks\", \"pos1\", reddit_wordcloud_terms(afinn_fmask1, \"positive\"))\n",
    "wordcloud_image(\"afinn\", \"reddit\", \"lockdown\", \"pos1\", reddit_wordcloud_terms(afinn_ldown1, \"positive\"))\n",
    "wordcloud_image(\"afinn\", \"reddit\", \"pcr\", \"pos1\", reddit_wordcloud_terms(afinn_pcr1, \"positive\"))\n",
    "wordcloud_image(\"afinn\", \"reddit\", \"pfizer\", \"pos1\", reddit_wordcloud_terms(afinn_pfizer1, \"positive\"))\n",
    "wordcloud_image(\"afinn\", \"reddit\", \"quarantine\", \"pos1\", reddit_wordcloud_terms(afinn_quar1, \"positive\"))\n",
    "wordcloud_image(\"afinn\", \"reddit\", \"restrictions\", \"pos1\", reddit_wordcloud_terms(afinn_rest1, \"positive\"))\n",
    "wordcloud_image(\"afinn\", \"reddit\", \"vaccine\", \"pos1\", reddit_wordcloud_terms(afinn_vac1, \"positive\"))\n",
    "\n",
    "wordcloud_image(\"afinn\", \"reddit\", \"facemasks\", \"neg1\", reddit_wordcloud_terms(afinn_fmask1, \"negative\"))\n",
    "wordcloud_image(\"afinn\", \"reddit\", \"lockdown\", \"neg1\", reddit_wordcloud_terms(afinn_ldown1, \"negative\"))\n",
    "wordcloud_image(\"afinn\", \"reddit\", \"pcr\", \"neg1\", reddit_wordcloud_terms(afinn_pcr1, \"negative\"))\n",
    "wordcloud_image(\"afinn\", \"reddit\", \"pfizer\", \"neg1\", reddit_wordcloud_terms(afinn_pfizer1, \"negative\"))\n",
    "wordcloud_image(\"afinn\", \"reddit\", \"quarantine\", \"neg1\", reddit_wordcloud_terms(afinn_quar1, \"negative\"))\n",
    "wordcloud_image(\"afinn\", \"reddit\", \"restrictions\", \"neg1\", reddit_wordcloud_terms(afinn_rest1, \"negative\"))\n",
    "wordcloud_image(\"afinn\", \"reddit\", \"vaccine\", \"neg1\", reddit_wordcloud_terms(afinn_vac1, \"negative\"))"
   ]
  },
  {
   "cell_type": "markdown",
   "metadata": {},
   "source": [
    "Run 2"
   ]
  },
  {
   "cell_type": "code",
   "execution_count": 6,
   "metadata": {},
   "outputs": [],
   "source": [
    "wordcloud_image(\"afinn\", \"reddit\", \"facemasks\", \"pos2\", reddit_wordcloud_terms(afinn_fmask2, \"positive\"))\n",
    "wordcloud_image(\"afinn\", \"reddit\", \"lockdown\", \"pos2\", reddit_wordcloud_terms(afinn_ldown2, \"positive\"))\n",
    "wordcloud_image(\"afinn\", \"reddit\", \"pcr\", \"pos2\", reddit_wordcloud_terms(afinn_pcr2, \"positive\"))\n",
    "wordcloud_image(\"afinn\", \"reddit\", \"pfizer\", \"pos2\", reddit_wordcloud_terms(afinn_pfizer2, \"positive\"))\n",
    "wordcloud_image(\"afinn\", \"reddit\", \"quarantine\", \"pos2\", reddit_wordcloud_terms(afinn_quar2, \"positive\"))\n",
    "wordcloud_image(\"afinn\", \"reddit\", \"restrictions\", \"pos2\", reddit_wordcloud_terms(afinn_rest2, \"positive\"))\n",
    "wordcloud_image(\"afinn\", \"reddit\", \"vaccine\", \"pos2\", reddit_wordcloud_terms(afinn_vac2, \"positive\"))\n",
    "\n",
    "wordcloud_image(\"afinn\", \"reddit\", \"facemasks\", \"neg2\", reddit_wordcloud_terms(afinn_fmask2, \"negative\"))\n",
    "wordcloud_image(\"afinn\", \"reddit\", \"lockdown\", \"neg2\", reddit_wordcloud_terms(afinn_ldown2, \"negative\"))\n",
    "wordcloud_image(\"afinn\", \"reddit\", \"pcr\", \"neg2\", reddit_wordcloud_terms(afinn_pcr2, \"negative\"))\n",
    "wordcloud_image(\"afinn\", \"reddit\", \"pfizer\", \"neg2\", reddit_wordcloud_terms(afinn_pfizer2, \"negative\"))\n",
    "wordcloud_image(\"afinn\", \"reddit\", \"quarantine\", \"neg2\", reddit_wordcloud_terms(afinn_quar2, \"negative\"))\n",
    "wordcloud_image(\"afinn\", \"reddit\", \"restrictions\", \"neg2\", reddit_wordcloud_terms(afinn_rest2, \"negative\"))\n",
    "wordcloud_image(\"afinn\", \"reddit\", \"vaccine\", \"neg2\", reddit_wordcloud_terms(afinn_vac2, \"negative\"))"
   ]
  },
  {
   "cell_type": "markdown",
   "metadata": {},
   "source": [
    "Run 3"
   ]
  },
  {
   "cell_type": "code",
   "execution_count": 7,
   "metadata": {},
   "outputs": [],
   "source": [
    "wordcloud_image(\"afinn\", \"reddit\", \"facemasks\", \"pos3\", reddit_wordcloud_terms(afinn_fmask3, \"positive\"))\n",
    "wordcloud_image(\"afinn\", \"reddit\", \"lockdown\", \"pos3\", reddit_wordcloud_terms(afinn_ldown3, \"positive\"))\n",
    "wordcloud_image(\"afinn\", \"reddit\", \"pcr\", \"pos3\", reddit_wordcloud_terms(afinn_pcr3, \"positive\"))\n",
    "wordcloud_image(\"afinn\", \"reddit\", \"pfizer\", \"pos3\", reddit_wordcloud_terms(afinn_pfizer3, \"positive\"))\n",
    "wordcloud_image(\"afinn\", \"reddit\", \"quarantine\", \"pos3\", reddit_wordcloud_terms(afinn_quar3, \"positive\"))\n",
    "wordcloud_image(\"afinn\", \"reddit\", \"restrictions\", \"pos3\", reddit_wordcloud_terms(afinn_rest3, \"positive\"))\n",
    "wordcloud_image(\"afinn\", \"reddit\", \"vaccine\", \"pos3\", reddit_wordcloud_terms(afinn_vac3, \"positive\"))\n",
    "\n",
    "wordcloud_image(\"afinn\", \"reddit\", \"facemasks\", \"neg3\", reddit_wordcloud_terms(afinn_fmask3, \"negative\"))\n",
    "wordcloud_image(\"afinn\", \"reddit\", \"lockdown\", \"neg3\", reddit_wordcloud_terms(afinn_ldown3, \"negative\"))\n",
    "wordcloud_image(\"afinn\", \"reddit\", \"pcr\", \"neg3\", reddit_wordcloud_terms(afinn_pcr3, \"negative\"))\n",
    "wordcloud_image(\"afinn\", \"reddit\", \"pfizer\", \"neg3\", reddit_wordcloud_terms(afinn_pfizer3, \"negative\"))\n",
    "wordcloud_image(\"afinn\", \"reddit\", \"quarantine\", \"neg3\", reddit_wordcloud_terms(afinn_quar3, \"negative\"))\n",
    "wordcloud_image(\"afinn\", \"reddit\", \"restrictions\", \"neg3\", reddit_wordcloud_terms(afinn_rest3, \"negative\"))\n",
    "wordcloud_image(\"afinn\", \"reddit\", \"vaccine\", \"neg3\", reddit_wordcloud_terms(afinn_vac3, \"negative\"))"
   ]
  },
  {
   "cell_type": "markdown",
   "metadata": {},
   "source": [
    "BERT Twitter"
   ]
  },
  {
   "cell_type": "code",
   "execution_count": 2,
   "metadata": {},
   "outputs": [],
   "source": [
    "with open('twitter_vars/twitter_bert_run1', 'rb') as f:\n",
    "    bert_fmask1 = dill.load(f)\n",
    "    bert_ldown1 = dill.load(f)\n",
    "    bert_pcr1 = dill.load(f)\n",
    "    bert_pfizer1 = dill.load(f)\n",
    "    bert_quar1 = dill.load(f)\n",
    "    bert_rest1 = dill.load(f)\n",
    "    bert_vac1 = dill.load(f)"
   ]
  },
  {
   "cell_type": "code",
   "execution_count": 3,
   "metadata": {},
   "outputs": [],
   "source": [
    "with open('twitter_vars/twitter_bert_run2', 'rb') as f:\n",
    "    bert_fmask2 = dill.load(f)\n",
    "    bert_ldown2 = dill.load(f)\n",
    "    bert_pcr2 = dill.load(f)\n",
    "    bert_pfizer2 = dill.load(f)\n",
    "    bert_quar2 = dill.load(f)\n",
    "    bert_rest2 = dill.load(f)\n",
    "    bert_vac2 = dill.load(f)"
   ]
  },
  {
   "cell_type": "code",
   "execution_count": 4,
   "metadata": {},
   "outputs": [],
   "source": [
    "with open('twitter_vars/twitter_bert_run3', 'rb') as f:\n",
    "    bert_fmask3 = dill.load(f)\n",
    "    bert_ldown3 = dill.load(f)\n",
    "    bert_pcr3 = dill.load(f)\n",
    "    bert_pfizer3 = dill.load(f)\n",
    "    bert_quar3 = dill.load(f)\n",
    "    bert_rest3 = dill.load(f)\n",
    "    bert_vac3 = dill.load(f)"
   ]
  },
  {
   "cell_type": "markdown",
   "metadata": {},
   "source": [
    "Run 1"
   ]
  },
  {
   "cell_type": "code",
   "execution_count": 5,
   "metadata": {},
   "outputs": [],
   "source": [
    "wordcloud_image(\"bert\", \"twitter\", \"facemasks\", \"pos1\", twitter_wordcloud_terms(bert_fmask1, \"positive\"))\n",
    "wordcloud_image(\"bert\", \"twitter\", \"lockdown\", \"pos1\", twitter_wordcloud_terms(bert_ldown1, \"positive\"))\n",
    "wordcloud_image(\"bert\", \"twitter\", \"pcr\", \"pos1\", twitter_wordcloud_terms(bert_pcr1, \"positive\"))\n",
    "wordcloud_image(\"bert\", \"twitter\", \"pfizer\", \"pos1\", twitter_wordcloud_terms(bert_pfizer1, \"positive\"))\n",
    "wordcloud_image(\"bert\", \"twitter\", \"quarantine\", \"pos1\", twitter_wordcloud_terms(bert_quar1, \"positive\"))\n",
    "wordcloud_image(\"bert\", \"twitter\", \"restrictions\", \"pos1\", twitter_wordcloud_terms(bert_rest1, \"positive\"))\n",
    "wordcloud_image(\"bert\", \"twitter\", \"vaccine\", \"pos1\", twitter_wordcloud_terms(bert_vac1, \"positive\"))\n",
    "\n",
    "wordcloud_image(\"bert\", \"twitter\", \"facemasks\", \"neg1\", twitter_wordcloud_terms(bert_fmask1, \"negative\"))\n",
    "wordcloud_image(\"bert\", \"twitter\", \"lockdown\", \"neg1\", twitter_wordcloud_terms(bert_ldown1, \"negative\"))\n",
    "wordcloud_image(\"bert\", \"twitter\", \"pcr\", \"neg1\", twitter_wordcloud_terms(bert_pcr1, \"negative\"))\n",
    "wordcloud_image(\"bert\", \"twitter\", \"pfizer\", \"neg1\", twitter_wordcloud_terms(bert_pfizer1, \"negative\"))\n",
    "wordcloud_image(\"bert\", \"twitter\", \"quarantine\", \"neg1\", twitter_wordcloud_terms(bert_quar1, \"negative\"))\n",
    "wordcloud_image(\"bert\", \"twitter\", \"restrictions\", \"neg1\", twitter_wordcloud_terms(bert_rest1, \"negative\"))\n",
    "wordcloud_image(\"bert\", \"twitter\", \"vaccine\", \"neg1\", twitter_wordcloud_terms(bert_vac1, \"negative\"))"
   ]
  },
  {
   "cell_type": "markdown",
   "metadata": {},
   "source": [
    "Run 2"
   ]
  },
  {
   "cell_type": "code",
   "execution_count": 7,
   "metadata": {},
   "outputs": [],
   "source": [
    "wordcloud_image(\"bert\", \"twitter\", \"facemasks\", \"pos2\", twitter_wordcloud_terms(bert_fmask2, \"positive\"))\n",
    "wordcloud_image(\"bert\", \"twitter\", \"lockdown\", \"pos2\", twitter_wordcloud_terms(bert_ldown2, \"positive\"))\n",
    "wordcloud_image(\"bert\", \"twitter\", \"pcr\", \"pos2\", twitter_wordcloud_terms(bert_pcr2, \"positive\"))\n",
    "wordcloud_image(\"bert\", \"twitter\", \"pfizer\", \"pos2\", twitter_wordcloud_terms(bert_pfizer2, \"positive\"))\n",
    "wordcloud_image(\"bert\", \"twitter\", \"quarantine\", \"pos2\", twitter_wordcloud_terms(bert_quar2, \"positive\"))\n",
    "wordcloud_image(\"bert\", \"twitter\", \"restrictions\", \"pos2\", twitter_wordcloud_terms(bert_rest2, \"positive\"))\n",
    "wordcloud_image(\"bert\", \"twitter\", \"vaccine\", \"pos2\", twitter_wordcloud_terms(bert_vac2, \"positive\"))\n",
    "\n",
    "wordcloud_image(\"bert\", \"twitter\", \"facemasks\", \"neg2\", twitter_wordcloud_terms(bert_fmask2, \"negative\"))\n",
    "wordcloud_image(\"bert\", \"twitter\", \"lockdown\", \"neg2\", twitter_wordcloud_terms(bert_ldown2, \"negative\"))\n",
    "wordcloud_image(\"bert\", \"twitter\", \"pcr\", \"neg2\", twitter_wordcloud_terms(bert_pcr2, \"negative\"))\n",
    "wordcloud_image(\"bert\", \"twitter\", \"pfizer\", \"neg2\", twitter_wordcloud_terms(bert_pfizer2, \"negative\"))\n",
    "wordcloud_image(\"bert\", \"twitter\", \"quarantine\", \"neg2\", twitter_wordcloud_terms(bert_quar2, \"negative\"))\n",
    "wordcloud_image(\"bert\", \"twitter\", \"restrictions\", \"neg2\", twitter_wordcloud_terms(bert_rest2, \"negative\"))\n",
    "wordcloud_image(\"bert\", \"twitter\", \"vaccine\", \"neg2\", twitter_wordcloud_terms(bert_vac2, \"negative\"))"
   ]
  },
  {
   "cell_type": "markdown",
   "metadata": {},
   "source": [
    "Run 3"
   ]
  },
  {
   "cell_type": "code",
   "execution_count": 8,
   "metadata": {},
   "outputs": [],
   "source": [
    "wordcloud_image(\"bert\", \"twitter\", \"facemasks\", \"pos3\", twitter_wordcloud_terms(bert_fmask3, \"positive\"))\n",
    "wordcloud_image(\"bert\", \"twitter\", \"lockdown\", \"pos3\", twitter_wordcloud_terms(bert_ldown3, \"positive\"))\n",
    "wordcloud_image(\"bert\", \"twitter\", \"pcr\", \"pos3\", twitter_wordcloud_terms(bert_pcr3, \"positive\"))\n",
    "wordcloud_image(\"bert\", \"twitter\", \"pfizer\", \"pos3\", twitter_wordcloud_terms(bert_pfizer3, \"positive\"))\n",
    "wordcloud_image(\"bert\", \"twitter\", \"quarantine\", \"pos3\", twitter_wordcloud_terms(bert_quar3, \"positive\"))\n",
    "wordcloud_image(\"bert\", \"twitter\", \"restrictions\", \"pos3\", twitter_wordcloud_terms(bert_rest3, \"positive\"))\n",
    "wordcloud_image(\"bert\", \"twitter\", \"vaccine\", \"pos3\", twitter_wordcloud_terms(bert_vac3, \"positive\"))\n",
    "\n",
    "wordcloud_image(\"bert\", \"twitter\", \"facemasks\", \"neg3\", twitter_wordcloud_terms(bert_fmask3, \"negative\"))\n",
    "wordcloud_image(\"bert\", \"twitter\", \"lockdown\", \"neg3\", twitter_wordcloud_terms(bert_ldown3, \"negative\"))\n",
    "wordcloud_image(\"bert\", \"twitter\", \"pcr\", \"neg3\", twitter_wordcloud_terms(bert_pcr3, \"negative\"))\n",
    "wordcloud_image(\"bert\", \"twitter\", \"pfizer\", \"neg3\", twitter_wordcloud_terms(bert_pfizer3, \"negative\"))\n",
    "wordcloud_image(\"bert\", \"twitter\", \"quarantine\", \"neg3\", twitter_wordcloud_terms(bert_quar3, \"negative\"))\n",
    "wordcloud_image(\"bert\", \"twitter\", \"restrictions\", \"neg3\", twitter_wordcloud_terms(bert_rest3, \"negative\"))\n",
    "wordcloud_image(\"bert\", \"twitter\", \"vaccine\", \"neg3\", twitter_wordcloud_terms(bert_vac3, \"negative\"))"
   ]
  },
  {
   "cell_type": "markdown",
   "metadata": {},
   "source": [
    "BERT Reddit"
   ]
  },
  {
   "cell_type": "code",
   "execution_count": 9,
   "metadata": {},
   "outputs": [],
   "source": [
    "with open('reddit_vars/reddit_bert_run1', 'rb') as f:\n",
    "    bert_fmask1 = dill.load(f)\n",
    "    bert_ldown1 = dill.load(f)\n",
    "    bert_pcr1 = dill.load(f)\n",
    "    bert_pfizer1 = dill.load(f)\n",
    "    bert_quar1 = dill.load(f)\n",
    "    bert_rest1 = dill.load(f)\n",
    "    bert_vac1 = dill.load(f)"
   ]
  },
  {
   "cell_type": "code",
   "execution_count": 10,
   "metadata": {},
   "outputs": [],
   "source": [
    "with open('reddit_vars/reddit_bert_run2', 'rb') as f:\n",
    "    bert_fmask2 = dill.load(f)\n",
    "    bert_ldown2 = dill.load(f)\n",
    "    bert_pcr2 = dill.load(f)\n",
    "    bert_pfizer2 = dill.load(f)\n",
    "    bert_quar2 = dill.load(f)\n",
    "    bert_rest2 = dill.load(f)\n",
    "    bert_vac2 = dill.load(f)"
   ]
  },
  {
   "cell_type": "code",
   "execution_count": 11,
   "metadata": {},
   "outputs": [],
   "source": [
    "with open('reddit_vars/reddit_bert_run3', 'rb') as f:\n",
    "    bert_fmask3 = dill.load(f)\n",
    "    bert_ldown3 = dill.load(f)\n",
    "    bert_pcr3 = dill.load(f)\n",
    "    bert_pfizer3 = dill.load(f)\n",
    "    bert_quar3 = dill.load(f)\n",
    "    bert_rest3 = dill.load(f)\n",
    "    bert_vac3 = dill.load(f)"
   ]
  },
  {
   "cell_type": "markdown",
   "metadata": {},
   "source": [
    "Run 1"
   ]
  },
  {
   "cell_type": "code",
   "execution_count": 12,
   "metadata": {},
   "outputs": [],
   "source": [
    "wordcloud_image(\"bert\", \"reddit\", \"facemasks\", \"pos1\", reddit_wordcloud_terms(bert_fmask1, \"positive\"))\n",
    "wordcloud_image(\"bert\", \"reddit\", \"lockdown\", \"pos1\", reddit_wordcloud_terms(bert_ldown1, \"positive\"))\n",
    "wordcloud_image(\"bert\", \"reddit\", \"pcr\", \"pos1\", reddit_wordcloud_terms(bert_pcr1, \"positive\"))\n",
    "wordcloud_image(\"bert\", \"reddit\", \"pfizer\", \"pos1\", reddit_wordcloud_terms(bert_pfizer1, \"positive\"))\n",
    "wordcloud_image(\"bert\", \"reddit\", \"quarantine\", \"pos1\", reddit_wordcloud_terms(bert_quar1, \"positive\"))\n",
    "wordcloud_image(\"bert\", \"reddit\", \"restrictions\", \"pos1\", reddit_wordcloud_terms(bert_rest1, \"positive\"))\n",
    "wordcloud_image(\"bert\", \"reddit\", \"vaccine\", \"pos1\", reddit_wordcloud_terms(bert_vac1, \"positive\"))\n",
    "\n",
    "wordcloud_image(\"bert\", \"reddit\", \"facemasks\", \"neg1\", reddit_wordcloud_terms(bert_fmask1, \"negative\"))\n",
    "wordcloud_image(\"bert\", \"reddit\", \"lockdown\", \"neg1\", reddit_wordcloud_terms(bert_ldown1, \"negative\"))\n",
    "wordcloud_image(\"bert\", \"reddit\", \"pcr\", \"neg1\", reddit_wordcloud_terms(bert_pcr1, \"negative\"))\n",
    "wordcloud_image(\"bert\", \"reddit\", \"pfizer\", \"neg1\", reddit_wordcloud_terms(bert_pfizer1, \"negative\"))\n",
    "wordcloud_image(\"bert\", \"reddit\", \"quarantine\", \"neg1\", reddit_wordcloud_terms(bert_quar1, \"negative\"))\n",
    "wordcloud_image(\"bert\", \"reddit\", \"restrictions\", \"neg1\", reddit_wordcloud_terms(bert_rest1, \"negative\"))\n",
    "wordcloud_image(\"bert\", \"reddit\", \"vaccine\", \"neg1\", reddit_wordcloud_terms(bert_vac1, \"negative\"))"
   ]
  },
  {
   "cell_type": "markdown",
   "metadata": {},
   "source": [
    "Run 2"
   ]
  },
  {
   "cell_type": "code",
   "execution_count": 13,
   "metadata": {},
   "outputs": [],
   "source": [
    "wordcloud_image(\"bert\", \"reddit\", \"facemasks\", \"pos2\", reddit_wordcloud_terms(bert_fmask2, \"positive\"))\n",
    "wordcloud_image(\"bert\", \"reddit\", \"lockdown\", \"pos2\", reddit_wordcloud_terms(bert_ldown2, \"positive\"))\n",
    "wordcloud_image(\"bert\", \"reddit\", \"pcr\", \"pos2\", reddit_wordcloud_terms(bert_pcr2, \"positive\"))\n",
    "wordcloud_image(\"bert\", \"reddit\", \"pfizer\", \"pos2\", reddit_wordcloud_terms(bert_pfizer2, \"positive\"))\n",
    "wordcloud_image(\"bert\", \"reddit\", \"quarantine\", \"pos2\", reddit_wordcloud_terms(bert_quar2, \"positive\"))\n",
    "wordcloud_image(\"bert\", \"reddit\", \"restrictions\", \"pos2\", reddit_wordcloud_terms(bert_rest2, \"positive\"))\n",
    "wordcloud_image(\"bert\", \"reddit\", \"vaccine\", \"pos2\", reddit_wordcloud_terms(bert_vac2, \"positive\"))\n",
    "\n",
    "wordcloud_image(\"bert\", \"reddit\", \"facemasks\", \"neg2\", reddit_wordcloud_terms(bert_fmask2, \"negative\"))\n",
    "wordcloud_image(\"bert\", \"reddit\", \"lockdown\", \"neg2\", reddit_wordcloud_terms(bert_ldown2, \"negative\"))\n",
    "wordcloud_image(\"bert\", \"reddit\", \"pcr\", \"neg2\", reddit_wordcloud_terms(bert_pcr2, \"negative\"))\n",
    "wordcloud_image(\"bert\", \"reddit\", \"pfizer\", \"neg2\", reddit_wordcloud_terms(bert_pfizer2, \"negative\"))\n",
    "wordcloud_image(\"bert\", \"reddit\", \"quarantine\", \"neg2\", reddit_wordcloud_terms(bert_quar2, \"negative\"))\n",
    "wordcloud_image(\"bert\", \"reddit\", \"restrictions\", \"neg2\", reddit_wordcloud_terms(bert_rest2, \"negative\"))\n",
    "wordcloud_image(\"bert\", \"reddit\", \"vaccine\", \"neg2\", reddit_wordcloud_terms(bert_vac2, \"negative\"))"
   ]
  },
  {
   "cell_type": "markdown",
   "metadata": {},
   "source": [
    "Run 3"
   ]
  },
  {
   "cell_type": "code",
   "execution_count": 14,
   "metadata": {},
   "outputs": [],
   "source": [
    "wordcloud_image(\"bert\", \"reddit\", \"facemasks\", \"pos3\", reddit_wordcloud_terms(bert_fmask3, \"positive\"))\n",
    "wordcloud_image(\"bert\", \"reddit\", \"lockdown\", \"pos3\", reddit_wordcloud_terms(bert_ldown3, \"positive\"))\n",
    "wordcloud_image(\"bert\", \"reddit\", \"pcr\", \"pos3\", reddit_wordcloud_terms(bert_pcr3, \"positive\"))\n",
    "wordcloud_image(\"bert\", \"reddit\", \"pfizer\", \"pos3\", reddit_wordcloud_terms(bert_pfizer3, \"positive\"))\n",
    "wordcloud_image(\"bert\", \"reddit\", \"quarantine\", \"pos3\", reddit_wordcloud_terms(bert_quar3, \"positive\"))\n",
    "wordcloud_image(\"bert\", \"reddit\", \"restrictions\", \"pos3\", reddit_wordcloud_terms(bert_rest3, \"positive\"))\n",
    "wordcloud_image(\"bert\", \"reddit\", \"vaccine\", \"pos3\", reddit_wordcloud_terms(bert_vac3, \"positive\"))\n",
    "\n",
    "wordcloud_image(\"bert\", \"reddit\", \"facemasks\", \"neg3\", reddit_wordcloud_terms(bert_fmask3, \"negative\"))\n",
    "wordcloud_image(\"bert\", \"reddit\", \"lockdown\", \"neg3\", reddit_wordcloud_terms(bert_ldown3, \"negative\"))\n",
    "wordcloud_image(\"bert\", \"reddit\", \"pcr\", \"neg3\", reddit_wordcloud_terms(bert_pcr3, \"negative\"))\n",
    "wordcloud_image(\"bert\", \"reddit\", \"pfizer\", \"neg3\", reddit_wordcloud_terms(bert_pfizer3, \"negative\"))\n",
    "wordcloud_image(\"bert\", \"reddit\", \"quarantine\", \"neg3\", reddit_wordcloud_terms(bert_quar3, \"negative\"))\n",
    "wordcloud_image(\"bert\", \"reddit\", \"restrictions\", \"neg3\", reddit_wordcloud_terms(bert_rest3, \"negative\"))\n",
    "wordcloud_image(\"bert\", \"reddit\", \"vaccine\", \"neg3\", reddit_wordcloud_terms(bert_vac3, \"negative\"))"
   ]
  },
  {
   "cell_type": "markdown",
   "metadata": {},
   "source": [
    "TextBlob Twitter"
   ]
  },
  {
   "cell_type": "code",
   "execution_count": 15,
   "metadata": {},
   "outputs": [],
   "source": [
    "with open('twitter_vars/twitter_textblob_run1', 'rb') as f:\n",
    "    textblob_fmask1 = dill.load(f)\n",
    "    textblob_ldown1 = dill.load(f)\n",
    "    textblob_pcr1 = dill.load(f)\n",
    "    textblob_pfizer1 = dill.load(f)\n",
    "    textblob_quar1 = dill.load(f)\n",
    "    textblob_rest1 = dill.load(f)\n",
    "    textblob_vac1 = dill.load(f)"
   ]
  },
  {
   "cell_type": "code",
   "execution_count": 16,
   "metadata": {},
   "outputs": [],
   "source": [
    "with open('twitter_vars/twitter_textblob_run2', 'rb') as f:\n",
    "    textblob_fmask2 = dill.load(f)\n",
    "    textblob_ldown2 = dill.load(f)\n",
    "    textblob_pcr2 = dill.load(f)\n",
    "    textblob_pfizer2 = dill.load(f)\n",
    "    textblob_quar2 = dill.load(f)\n",
    "    textblob_rest2 = dill.load(f)\n",
    "    textblob_vac2 = dill.load(f)"
   ]
  },
  {
   "cell_type": "code",
   "execution_count": 17,
   "metadata": {},
   "outputs": [],
   "source": [
    "with open('twitter_vars/twitter_textblob_run3', 'rb') as f:\n",
    "    textblob_fmask3 = dill.load(f)\n",
    "    textblob_ldown3 = dill.load(f)\n",
    "    textblob_pcr3 = dill.load(f)\n",
    "    textblob_pfizer3 = dill.load(f)\n",
    "    textblob_quar3 = dill.load(f)\n",
    "    textblob_rest3 = dill.load(f)\n",
    "    textblob_vac3 = dill.load(f)"
   ]
  },
  {
   "cell_type": "markdown",
   "metadata": {},
   "source": [
    "Run 1"
   ]
  },
  {
   "cell_type": "code",
   "execution_count": 18,
   "metadata": {},
   "outputs": [],
   "source": [
    "wordcloud_image(\"textblob\", \"twitter\", \"facemasks\", \"pos1\", twitter_wordcloud_terms(textblob_fmask1, \"positive\"))\n",
    "wordcloud_image(\"textblob\", \"twitter\", \"lockdown\", \"pos1\", twitter_wordcloud_terms(textblob_ldown1, \"positive\"))\n",
    "wordcloud_image(\"textblob\", \"twitter\", \"pcr\", \"pos1\", twitter_wordcloud_terms(textblob_pcr1, \"positive\"))\n",
    "wordcloud_image(\"textblob\", \"twitter\", \"pfizer\", \"pos1\", twitter_wordcloud_terms(textblob_pfizer1, \"positive\"))\n",
    "wordcloud_image(\"textblob\", \"twitter\", \"quarantine\", \"pos1\", twitter_wordcloud_terms(textblob_quar1, \"positive\"))\n",
    "wordcloud_image(\"textblob\", \"twitter\", \"restrictions\", \"pos1\", twitter_wordcloud_terms(textblob_rest1, \"positive\"))\n",
    "wordcloud_image(\"textblob\", \"twitter\", \"vaccine\", \"pos1\", twitter_wordcloud_terms(textblob_vac1, \"positive\"))\n",
    "\n",
    "wordcloud_image(\"textblob\", \"twitter\", \"facemasks\", \"neg1\", twitter_wordcloud_terms(textblob_fmask1, \"negative\"))\n",
    "wordcloud_image(\"textblob\", \"twitter\", \"lockdown\", \"neg1\", twitter_wordcloud_terms(textblob_ldown1, \"negative\"))\n",
    "wordcloud_image(\"textblob\", \"twitter\", \"pcr\", \"neg1\", twitter_wordcloud_terms(textblob_pcr1, \"negative\"))\n",
    "wordcloud_image(\"textblob\", \"twitter\", \"pfizer\", \"neg1\", twitter_wordcloud_terms(textblob_pfizer1, \"negative\"))\n",
    "wordcloud_image(\"textblob\", \"twitter\", \"quarantine\", \"neg1\", twitter_wordcloud_terms(textblob_quar1, \"negative\"))\n",
    "wordcloud_image(\"textblob\", \"twitter\", \"restrictions\", \"neg1\", twitter_wordcloud_terms(textblob_rest1, \"negative\"))\n",
    "wordcloud_image(\"textblob\", \"twitter\", \"vaccine\", \"neg1\", twitter_wordcloud_terms(textblob_vac1, \"negative\"))"
   ]
  },
  {
   "cell_type": "markdown",
   "metadata": {},
   "source": [
    "Run 2"
   ]
  },
  {
   "cell_type": "code",
   "execution_count": 19,
   "metadata": {},
   "outputs": [],
   "source": [
    "wordcloud_image(\"textblob\", \"twitter\", \"facemasks\", \"pos2\", twitter_wordcloud_terms(textblob_fmask2, \"positive\"))\n",
    "wordcloud_image(\"textblob\", \"twitter\", \"lockdown\", \"pos2\", twitter_wordcloud_terms(textblob_ldown2, \"positive\"))\n",
    "wordcloud_image(\"textblob\", \"twitter\", \"pcr\", \"pos2\", twitter_wordcloud_terms(textblob_pcr2, \"positive\"))\n",
    "wordcloud_image(\"textblob\", \"twitter\", \"pfizer\", \"pos2\", twitter_wordcloud_terms(textblob_pfizer2, \"positive\"))\n",
    "wordcloud_image(\"textblob\", \"twitter\", \"quarantine\", \"pos2\", twitter_wordcloud_terms(textblob_quar2, \"positive\"))\n",
    "wordcloud_image(\"textblob\", \"twitter\", \"restrictions\", \"pos2\", twitter_wordcloud_terms(textblob_rest2, \"positive\"))\n",
    "wordcloud_image(\"textblob\", \"twitter\", \"vaccine\", \"pos2\", twitter_wordcloud_terms(textblob_vac2, \"positive\"))\n",
    "\n",
    "wordcloud_image(\"textblob\", \"twitter\", \"facemasks\", \"neg2\", twitter_wordcloud_terms(textblob_fmask2, \"negative\"))\n",
    "wordcloud_image(\"textblob\", \"twitter\", \"lockdown\", \"neg2\", twitter_wordcloud_terms(textblob_ldown2, \"negative\"))\n",
    "wordcloud_image(\"textblob\", \"twitter\", \"pcr\", \"neg2\", twitter_wordcloud_terms(textblob_pcr2, \"negative\"))\n",
    "wordcloud_image(\"textblob\", \"twitter\", \"pfizer\", \"neg2\", twitter_wordcloud_terms(textblob_pfizer2, \"negative\"))\n",
    "wordcloud_image(\"textblob\", \"twitter\", \"quarantine\", \"neg2\", twitter_wordcloud_terms(textblob_quar2, \"negative\"))\n",
    "wordcloud_image(\"textblob\", \"twitter\", \"restrictions\", \"neg2\", twitter_wordcloud_terms(textblob_rest2, \"negative\"))\n",
    "wordcloud_image(\"textblob\", \"twitter\", \"vaccine\", \"neg2\", twitter_wordcloud_terms(textblob_vac2, \"negative\"))"
   ]
  },
  {
   "cell_type": "markdown",
   "metadata": {},
   "source": [
    "Run 3"
   ]
  },
  {
   "cell_type": "code",
   "execution_count": 20,
   "metadata": {},
   "outputs": [],
   "source": [
    "wordcloud_image(\"textblob\", \"twitter\", \"facemasks\", \"pos3\", twitter_wordcloud_terms(textblob_fmask3, \"positive\"))\n",
    "wordcloud_image(\"textblob\", \"twitter\", \"lockdown\", \"pos3\", twitter_wordcloud_terms(textblob_ldown3, \"positive\"))\n",
    "wordcloud_image(\"textblob\", \"twitter\", \"pcr\", \"pos3\", twitter_wordcloud_terms(textblob_pcr3, \"positive\"))\n",
    "wordcloud_image(\"textblob\", \"twitter\", \"pfizer\", \"pos3\", twitter_wordcloud_terms(textblob_pfizer3, \"positive\"))\n",
    "wordcloud_image(\"textblob\", \"twitter\", \"quarantine\", \"pos3\", twitter_wordcloud_terms(textblob_quar3, \"positive\"))\n",
    "wordcloud_image(\"textblob\", \"twitter\", \"restrictions\", \"pos3\", twitter_wordcloud_terms(textblob_rest3, \"positive\"))\n",
    "wordcloud_image(\"textblob\", \"twitter\", \"vaccine\", \"pos3\", twitter_wordcloud_terms(textblob_vac3, \"positive\"))\n",
    "\n",
    "wordcloud_image(\"textblob\", \"twitter\", \"facemasks\", \"neg3\", twitter_wordcloud_terms(textblob_fmask3, \"negative\"))\n",
    "wordcloud_image(\"textblob\", \"twitter\", \"lockdown\", \"neg3\", twitter_wordcloud_terms(textblob_ldown3, \"negative\"))\n",
    "wordcloud_image(\"textblob\", \"twitter\", \"pcr\", \"neg3\", twitter_wordcloud_terms(textblob_pcr3, \"negative\"))\n",
    "wordcloud_image(\"textblob\", \"twitter\", \"pfizer\", \"neg3\", twitter_wordcloud_terms(textblob_pfizer3, \"negative\"))\n",
    "wordcloud_image(\"textblob\", \"twitter\", \"quarantine\", \"neg3\", twitter_wordcloud_terms(textblob_quar3, \"negative\"))\n",
    "wordcloud_image(\"textblob\", \"twitter\", \"restrictions\", \"neg3\", twitter_wordcloud_terms(textblob_rest3, \"negative\"))\n",
    "wordcloud_image(\"textblob\", \"twitter\", \"vaccine\", \"neg3\", twitter_wordcloud_terms(textblob_vac3, \"negative\"))"
   ]
  },
  {
   "cell_type": "markdown",
   "metadata": {},
   "source": [
    "TextBlob Reddit"
   ]
  },
  {
   "cell_type": "code",
   "execution_count": 21,
   "metadata": {},
   "outputs": [],
   "source": [
    "with open('reddit_vars/reddit_textblob_run1', 'rb') as f:\n",
    "    textblob_fmask1 = dill.load(f)\n",
    "    textblob_ldown1 = dill.load(f)\n",
    "    textblob_pcr1 = dill.load(f)\n",
    "    textblob_pfizer1 = dill.load(f)\n",
    "    textblob_quar1 = dill.load(f)\n",
    "    textblob_rest1 = dill.load(f)\n",
    "    textblob_vac1 = dill.load(f)"
   ]
  },
  {
   "cell_type": "code",
   "execution_count": 22,
   "metadata": {},
   "outputs": [],
   "source": [
    "with open('reddit_vars/reddit_textblob_run3', 'rb') as f:\n",
    "    textblob_fmask2 = dill.load(f)\n",
    "    textblob_ldown2 = dill.load(f)\n",
    "    textblob_pcr2 = dill.load(f)\n",
    "    textblob_pfizer2 = dill.load(f)\n",
    "    textblob_quar2 = dill.load(f)\n",
    "    textblob_rest2 = dill.load(f)\n",
    "    textblob_vac2 = dill.load(f)"
   ]
  },
  {
   "cell_type": "code",
   "execution_count": 23,
   "metadata": {},
   "outputs": [],
   "source": [
    "with open('reddit_vars/reddit_textblob_run3', 'rb') as f:\n",
    "    textblob_fmask3 = dill.load(f)\n",
    "    textblob_ldown3 = dill.load(f)\n",
    "    textblob_pcr3 = dill.load(f)\n",
    "    textblob_pfizer3 = dill.load(f)\n",
    "    textblob_quar3 = dill.load(f)\n",
    "    textblob_rest3 = dill.load(f)\n",
    "    textblob_vac3 = dill.load(f)"
   ]
  },
  {
   "cell_type": "markdown",
   "metadata": {},
   "source": [
    "Run 1"
   ]
  },
  {
   "cell_type": "code",
   "execution_count": 24,
   "metadata": {},
   "outputs": [],
   "source": [
    "wordcloud_image(\"textblob\", \"reddit\", \"facemasks\", \"pos1\", reddit_wordcloud_terms(textblob_fmask1, \"positive\"))\n",
    "wordcloud_image(\"textblob\", \"reddit\", \"lockdown\", \"pos1\", reddit_wordcloud_terms(textblob_ldown1, \"positive\"))\n",
    "wordcloud_image(\"textblob\", \"reddit\", \"pcr\", \"pos1\", reddit_wordcloud_terms(textblob_pcr1, \"positive\"))\n",
    "wordcloud_image(\"textblob\", \"reddit\", \"pfizer\", \"pos1\", reddit_wordcloud_terms(textblob_pfizer1, \"positive\"))\n",
    "wordcloud_image(\"textblob\", \"reddit\", \"quarantine\", \"pos1\", reddit_wordcloud_terms(textblob_quar1, \"positive\"))\n",
    "wordcloud_image(\"textblob\", \"reddit\", \"restrictions\", \"pos1\", reddit_wordcloud_terms(textblob_rest1, \"positive\"))\n",
    "wordcloud_image(\"textblob\", \"reddit\", \"vaccine\", \"pos1\", reddit_wordcloud_terms(textblob_vac1, \"positive\"))\n",
    "\n",
    "wordcloud_image(\"textblob\", \"reddit\", \"facemasks\", \"neg1\", reddit_wordcloud_terms(textblob_fmask1, \"negative\"))\n",
    "wordcloud_image(\"textblob\", \"reddit\", \"lockdown\", \"neg1\", reddit_wordcloud_terms(textblob_ldown1, \"negative\"))\n",
    "wordcloud_image(\"textblob\", \"reddit\", \"pcr\", \"neg1\", reddit_wordcloud_terms(textblob_pcr1, \"negative\"))\n",
    "wordcloud_image(\"textblob\", \"reddit\", \"pfizer\", \"neg1\", reddit_wordcloud_terms(textblob_pfizer1, \"negative\"))\n",
    "wordcloud_image(\"textblob\", \"reddit\", \"quarantine\", \"neg1\", reddit_wordcloud_terms(textblob_quar1, \"negative\"))\n",
    "wordcloud_image(\"textblob\", \"reddit\", \"restrictions\", \"neg1\", reddit_wordcloud_terms(textblob_rest1, \"negative\"))\n",
    "wordcloud_image(\"textblob\", \"reddit\", \"vaccine\", \"neg1\", reddit_wordcloud_terms(textblob_vac1, \"negative\"))"
   ]
  },
  {
   "cell_type": "markdown",
   "metadata": {},
   "source": [
    "Run 2"
   ]
  },
  {
   "cell_type": "code",
   "execution_count": 25,
   "metadata": {},
   "outputs": [],
   "source": [
    "wordcloud_image(\"textblob\", \"reddit\", \"facemasks\", \"pos2\", reddit_wordcloud_terms(textblob_fmask2, \"positive\"))\n",
    "wordcloud_image(\"textblob\", \"reddit\", \"lockdown\", \"pos2\", reddit_wordcloud_terms(textblob_ldown2, \"positive\"))\n",
    "wordcloud_image(\"textblob\", \"reddit\", \"pcr\", \"pos2\", reddit_wordcloud_terms(textblob_pcr2, \"positive\"))\n",
    "wordcloud_image(\"textblob\", \"reddit\", \"pfizer\", \"pos2\", reddit_wordcloud_terms(textblob_pfizer2, \"positive\"))\n",
    "wordcloud_image(\"textblob\", \"reddit\", \"quarantine\", \"pos2\", reddit_wordcloud_terms(textblob_quar2, \"positive\"))\n",
    "wordcloud_image(\"textblob\", \"reddit\", \"restrictions\", \"pos2\", reddit_wordcloud_terms(textblob_rest2, \"positive\"))\n",
    "wordcloud_image(\"textblob\", \"reddit\", \"vaccine\", \"pos2\", reddit_wordcloud_terms(textblob_vac2, \"positive\"))\n",
    "\n",
    "wordcloud_image(\"textblob\", \"reddit\", \"facemasks\", \"neg2\", reddit_wordcloud_terms(textblob_fmask2, \"negative\"))\n",
    "wordcloud_image(\"textblob\", \"reddit\", \"lockdown\", \"neg2\", reddit_wordcloud_terms(textblob_ldown2, \"negative\"))\n",
    "wordcloud_image(\"textblob\", \"reddit\", \"pcr\", \"neg2\", reddit_wordcloud_terms(textblob_pcr2, \"negative\"))\n",
    "wordcloud_image(\"textblob\", \"reddit\", \"pfizer\", \"neg2\", reddit_wordcloud_terms(textblob_pfizer2, \"negative\"))\n",
    "wordcloud_image(\"textblob\", \"reddit\", \"quarantine\", \"neg2\", reddit_wordcloud_terms(textblob_quar2, \"negative\"))\n",
    "wordcloud_image(\"textblob\", \"reddit\", \"restrictions\", \"neg2\", reddit_wordcloud_terms(textblob_rest2, \"negative\"))\n",
    "wordcloud_image(\"textblob\", \"reddit\", \"vaccine\", \"neg2\", reddit_wordcloud_terms(textblob_vac2, \"negative\"))"
   ]
  },
  {
   "cell_type": "markdown",
   "metadata": {},
   "source": [
    "Run 3"
   ]
  },
  {
   "cell_type": "code",
   "execution_count": 26,
   "metadata": {},
   "outputs": [],
   "source": [
    "wordcloud_image(\"textblob\", \"reddit\", \"facemasks\", \"pos3\", reddit_wordcloud_terms(textblob_fmask3, \"positive\"))\n",
    "wordcloud_image(\"textblob\", \"reddit\", \"lockdown\", \"pos3\", reddit_wordcloud_terms(textblob_ldown3, \"positive\"))\n",
    "wordcloud_image(\"textblob\", \"reddit\", \"pcr\", \"pos3\", reddit_wordcloud_terms(textblob_pcr3, \"positive\"))\n",
    "wordcloud_image(\"textblob\", \"reddit\", \"pfizer\", \"pos3\", reddit_wordcloud_terms(textblob_pfizer3, \"positive\"))\n",
    "wordcloud_image(\"textblob\", \"reddit\", \"quarantine\", \"pos3\", reddit_wordcloud_terms(textblob_quar3, \"positive\"))\n",
    "wordcloud_image(\"textblob\", \"reddit\", \"restrictions\", \"pos3\", reddit_wordcloud_terms(textblob_rest3, \"positive\"))\n",
    "wordcloud_image(\"textblob\", \"reddit\", \"vaccine\", \"pos3\", reddit_wordcloud_terms(textblob_vac3, \"positive\"))\n",
    "\n",
    "wordcloud_image(\"textblob\", \"reddit\", \"facemasks\", \"neg3\", reddit_wordcloud_terms(textblob_fmask3, \"negative\"))\n",
    "wordcloud_image(\"textblob\", \"reddit\", \"lockdown\", \"neg3\", reddit_wordcloud_terms(textblob_ldown3, \"negative\"))\n",
    "wordcloud_image(\"textblob\", \"reddit\", \"pcr\", \"neg3\", reddit_wordcloud_terms(textblob_pcr3, \"negative\"))\n",
    "wordcloud_image(\"textblob\", \"reddit\", \"pfizer\", \"neg3\", reddit_wordcloud_terms(textblob_pfizer3, \"negative\"))\n",
    "wordcloud_image(\"textblob\", \"reddit\", \"quarantine\", \"neg3\", reddit_wordcloud_terms(textblob_quar3, \"negative\"))\n",
    "wordcloud_image(\"textblob\", \"reddit\", \"restrictions\", \"neg3\", reddit_wordcloud_terms(textblob_rest3, \"negative\"))\n",
    "wordcloud_image(\"textblob\", \"reddit\", \"vaccine\", \"neg3\", reddit_wordcloud_terms(textblob_vac3, \"negative\"))"
   ]
  },
  {
   "cell_type": "markdown",
   "metadata": {},
   "source": [
    "VADER Twitter"
   ]
  },
  {
   "cell_type": "code",
   "execution_count": 28,
   "metadata": {},
   "outputs": [],
   "source": [
    "with open('twitter_vars/twitter_vader_run1', 'rb') as f:\n",
    "    vader_fmask1 = dill.load(f)\n",
    "    vader_ldown1 = dill.load(f)\n",
    "    vader_pcr1 = dill.load(f)\n",
    "    vader_pfizer1 = dill.load(f)\n",
    "    vader_quar1 = dill.load(f)\n",
    "    vader_rest1 = dill.load(f)\n",
    "    vader_vac1 = dill.load(f)"
   ]
  },
  {
   "cell_type": "code",
   "execution_count": 29,
   "metadata": {},
   "outputs": [],
   "source": [
    "with open('twitter_vars/twitter_vader_run2', 'rb') as f:\n",
    "    vader_fmask2 = dill.load(f)\n",
    "    vader_ldown2 = dill.load(f)\n",
    "    vader_pcr2 = dill.load(f)\n",
    "    vader_pfizer2 = dill.load(f)\n",
    "    vader_quar2 = dill.load(f)\n",
    "    vader_rest2 = dill.load(f)\n",
    "    vader_vac2 = dill.load(f)"
   ]
  },
  {
   "cell_type": "code",
   "execution_count": 30,
   "metadata": {},
   "outputs": [],
   "source": [
    "with open('twitter_vars/twitter_vader_run3', 'rb') as f:\n",
    "    vader_fmask3 = dill.load(f)\n",
    "    vader_ldown3 = dill.load(f)\n",
    "    vader_pcr3 = dill.load(f)\n",
    "    vader_pfizer3 = dill.load(f)\n",
    "    vader_quar3 = dill.load(f)\n",
    "    vader_rest3 = dill.load(f)\n",
    "    vader_vac3 = dill.load(f)"
   ]
  },
  {
   "cell_type": "markdown",
   "metadata": {},
   "source": [
    "Run 1"
   ]
  },
  {
   "cell_type": "code",
   "execution_count": 31,
   "metadata": {},
   "outputs": [],
   "source": [
    "wordcloud_image(\"vader\", \"twitter\", \"facemasks\", \"pos1\", twitter_wordcloud_terms(vader_fmask1, \"positive\"))\n",
    "wordcloud_image(\"vader\", \"twitter\", \"lockdown\", \"pos1\", twitter_wordcloud_terms(vader_ldown1, \"positive\"))\n",
    "wordcloud_image(\"vader\", \"twitter\", \"pcr\", \"pos1\", twitter_wordcloud_terms(vader_pcr1, \"positive\"))\n",
    "wordcloud_image(\"vader\", \"twitter\", \"pfizer\", \"pos1\", twitter_wordcloud_terms(vader_pfizer1, \"positive\"))\n",
    "wordcloud_image(\"vader\", \"twitter\", \"quarantine\", \"pos1\", twitter_wordcloud_terms(vader_quar1, \"positive\"))\n",
    "wordcloud_image(\"vader\", \"twitter\", \"restrictions\", \"pos1\", twitter_wordcloud_terms(vader_rest1, \"positive\"))\n",
    "wordcloud_image(\"vader\", \"twitter\", \"vaccine\", \"pos1\", twitter_wordcloud_terms(vader_vac1, \"positive\"))\n",
    "\n",
    "wordcloud_image(\"vader\", \"twitter\", \"facemasks\", \"neg1\", twitter_wordcloud_terms(vader_fmask1, \"negative\"))\n",
    "wordcloud_image(\"vader\", \"twitter\", \"lockdown\", \"neg1\", twitter_wordcloud_terms(vader_ldown1, \"negative\"))\n",
    "wordcloud_image(\"vader\", \"twitter\", \"pcr\", \"neg1\", twitter_wordcloud_terms(vader_pcr1, \"negative\"))\n",
    "wordcloud_image(\"vader\", \"twitter\", \"pfizer\", \"neg1\", twitter_wordcloud_terms(vader_pfizer1, \"negative\"))\n",
    "wordcloud_image(\"vader\", \"twitter\", \"quarantine\", \"neg1\", twitter_wordcloud_terms(vader_quar1, \"negative\"))\n",
    "wordcloud_image(\"vader\", \"twitter\", \"restrictions\", \"neg1\", twitter_wordcloud_terms(vader_rest1, \"negative\"))\n",
    "wordcloud_image(\"vader\", \"twitter\", \"vaccine\", \"neg1\", twitter_wordcloud_terms(vader_vac1, \"negative\"))"
   ]
  },
  {
   "cell_type": "markdown",
   "metadata": {},
   "source": [
    "Run 2"
   ]
  },
  {
   "cell_type": "code",
   "execution_count": 32,
   "metadata": {},
   "outputs": [],
   "source": [
    "wordcloud_image(\"vader\", \"twitter\", \"facemasks\", \"pos2\", twitter_wordcloud_terms(vader_fmask2, \"positive\"))\n",
    "wordcloud_image(\"vader\", \"twitter\", \"lockdown\", \"pos2\", twitter_wordcloud_terms(vader_ldown2, \"positive\"))\n",
    "wordcloud_image(\"vader\", \"twitter\", \"pcr\", \"pos2\", twitter_wordcloud_terms(vader_pcr2, \"positive\"))\n",
    "wordcloud_image(\"vader\", \"twitter\", \"pfizer\", \"pos2\", twitter_wordcloud_terms(vader_pfizer2, \"positive\"))\n",
    "wordcloud_image(\"vader\", \"twitter\", \"quarantine\", \"pos2\", twitter_wordcloud_terms(vader_quar2, \"positive\"))\n",
    "wordcloud_image(\"vader\", \"twitter\", \"restrictions\", \"pos2\", twitter_wordcloud_terms(vader_rest2, \"positive\"))\n",
    "wordcloud_image(\"vader\", \"twitter\", \"vaccine\", \"pos2\", twitter_wordcloud_terms(vader_vac2, \"positive\"))\n",
    "\n",
    "wordcloud_image(\"vader\", \"twitter\", \"facemasks\", \"neg2\", twitter_wordcloud_terms(vader_fmask2, \"negative\"))\n",
    "wordcloud_image(\"vader\", \"twitter\", \"lockdown\", \"neg2\", twitter_wordcloud_terms(vader_ldown2, \"negative\"))\n",
    "wordcloud_image(\"vader\", \"twitter\", \"pcr\", \"neg2\", twitter_wordcloud_terms(vader_pcr2, \"negative\"))\n",
    "wordcloud_image(\"vader\", \"twitter\", \"pfizer\", \"neg2\", twitter_wordcloud_terms(vader_pfizer2, \"negative\"))\n",
    "wordcloud_image(\"vader\", \"twitter\", \"quarantine\", \"neg2\", twitter_wordcloud_terms(vader_quar2, \"negative\"))\n",
    "wordcloud_image(\"vader\", \"twitter\", \"restrictions\", \"neg2\", twitter_wordcloud_terms(vader_rest2, \"negative\"))\n",
    "wordcloud_image(\"vader\", \"twitter\", \"vaccine\", \"neg2\", twitter_wordcloud_terms(vader_vac2, \"negative\"))"
   ]
  },
  {
   "cell_type": "markdown",
   "metadata": {},
   "source": [
    "Run 3"
   ]
  },
  {
   "cell_type": "code",
   "execution_count": 33,
   "metadata": {},
   "outputs": [],
   "source": [
    "wordcloud_image(\"vader\", \"twitter\", \"facemasks\", \"pos3\", twitter_wordcloud_terms(vader_fmask3, \"positive\"))\n",
    "wordcloud_image(\"vader\", \"twitter\", \"lockdown\", \"pos3\", twitter_wordcloud_terms(vader_ldown3, \"positive\"))\n",
    "wordcloud_image(\"vader\", \"twitter\", \"pcr\", \"pos3\", twitter_wordcloud_terms(vader_pcr3, \"positive\"))\n",
    "wordcloud_image(\"vader\", \"twitter\", \"pfizer\", \"pos3\", twitter_wordcloud_terms(vader_pfizer3, \"positive\"))\n",
    "wordcloud_image(\"vader\", \"twitter\", \"quarantine\", \"pos3\", twitter_wordcloud_terms(vader_quar3, \"positive\"))\n",
    "wordcloud_image(\"vader\", \"twitter\", \"restrictions\", \"pos3\", twitter_wordcloud_terms(vader_rest3, \"positive\"))\n",
    "wordcloud_image(\"vader\", \"twitter\", \"vaccine\", \"pos3\", twitter_wordcloud_terms(vader_vac3, \"positive\"))\n",
    "\n",
    "wordcloud_image(\"vader\", \"twitter\", \"facemasks\", \"neg3\", twitter_wordcloud_terms(vader_fmask3, \"negative\"))\n",
    "wordcloud_image(\"vader\", \"twitter\", \"lockdown\", \"neg3\", twitter_wordcloud_terms(vader_ldown3, \"negative\"))\n",
    "wordcloud_image(\"vader\", \"twitter\", \"pcr\", \"neg3\", twitter_wordcloud_terms(vader_pcr3, \"negative\"))\n",
    "wordcloud_image(\"vader\", \"twitter\", \"pfizer\", \"neg3\", twitter_wordcloud_terms(vader_pfizer3, \"negative\"))\n",
    "wordcloud_image(\"vader\", \"twitter\", \"quarantine\", \"neg3\", twitter_wordcloud_terms(vader_quar3, \"negative\"))\n",
    "wordcloud_image(\"vader\", \"twitter\", \"restrictions\", \"neg3\", twitter_wordcloud_terms(vader_rest3, \"negative\"))\n",
    "wordcloud_image(\"vader\", \"twitter\", \"vaccine\", \"neg3\", twitter_wordcloud_terms(vader_vac3, \"negative\"))"
   ]
  },
  {
   "cell_type": "markdown",
   "metadata": {},
   "source": [
    "Vader Twitter"
   ]
  },
  {
   "cell_type": "code",
   "execution_count": 34,
   "metadata": {},
   "outputs": [],
   "source": [
    "with open('reddit_vars/reddit_vader_run1', 'rb') as f:\n",
    "    vader_fmask1 = dill.load(f)\n",
    "    vader_ldown1 = dill.load(f)\n",
    "    vader_pcr1 = dill.load(f)\n",
    "    vader_pfizer1 = dill.load(f)\n",
    "    vader_quar1 = dill.load(f)\n",
    "    vader_rest1 = dill.load(f)\n",
    "    vader_vac1 = dill.load(f)"
   ]
  },
  {
   "cell_type": "code",
   "execution_count": 35,
   "metadata": {},
   "outputs": [],
   "source": [
    "with open('reddit_vars/reddit_vader_run2', 'rb') as f:\n",
    "    vader_fmask2 = dill.load(f)\n",
    "    vader_ldown2 = dill.load(f)\n",
    "    vader_pcr2 = dill.load(f)\n",
    "    vader_pfizer2 = dill.load(f)\n",
    "    vader_quar2 = dill.load(f)\n",
    "    vader_rest2 = dill.load(f)\n",
    "    vader_vac2 = dill.load(f)"
   ]
  },
  {
   "cell_type": "code",
   "execution_count": 36,
   "metadata": {},
   "outputs": [],
   "source": [
    "with open('reddit_vars/reddit_vader_run3', 'rb') as f:\n",
    "    vader_fmask3 = dill.load(f)\n",
    "    vader_ldown3 = dill.load(f)\n",
    "    vader_pcr3 = dill.load(f)\n",
    "    vader_pfizer3 = dill.load(f)\n",
    "    vader_quar3 = dill.load(f)\n",
    "    vader_rest3 = dill.load(f)\n",
    "    vader_vac3 = dill.load(f)"
   ]
  },
  {
   "cell_type": "markdown",
   "metadata": {},
   "source": [
    "Run 1"
   ]
  },
  {
   "cell_type": "code",
   "execution_count": 37,
   "metadata": {},
   "outputs": [],
   "source": [
    "wordcloud_image(\"vader\", \"reddit\", \"facemasks\", \"pos1\", reddit_wordcloud_terms(vader_fmask1, \"positive\"))\n",
    "wordcloud_image(\"vader\", \"reddit\", \"lockdown\", \"pos1\", reddit_wordcloud_terms(vader_ldown1, \"positive\"))\n",
    "wordcloud_image(\"vader\", \"reddit\", \"pcr\", \"pos1\", reddit_wordcloud_terms(vader_pcr1, \"positive\"))\n",
    "wordcloud_image(\"vader\", \"reddit\", \"pfizer\", \"pos1\", reddit_wordcloud_terms(vader_pfizer1, \"positive\"))\n",
    "wordcloud_image(\"vader\", \"reddit\", \"quarantine\", \"pos1\", reddit_wordcloud_terms(vader_quar1, \"positive\"))\n",
    "wordcloud_image(\"vader\", \"reddit\", \"restrictions\", \"pos1\", reddit_wordcloud_terms(vader_rest1, \"positive\"))\n",
    "wordcloud_image(\"vader\", \"reddit\", \"vaccine\", \"pos1\", reddit_wordcloud_terms(vader_vac1, \"positive\"))\n",
    "\n",
    "wordcloud_image(\"vader\", \"reddit\", \"facemasks\", \"neg1\", reddit_wordcloud_terms(vader_fmask1, \"negative\"))\n",
    "wordcloud_image(\"vader\", \"reddit\", \"lockdown\", \"neg1\", reddit_wordcloud_terms(vader_ldown1, \"negative\"))\n",
    "wordcloud_image(\"vader\", \"reddit\", \"pcr\", \"neg1\", reddit_wordcloud_terms(vader_pcr1, \"negative\"))\n",
    "wordcloud_image(\"vader\", \"reddit\", \"pfizer\", \"neg1\", reddit_wordcloud_terms(vader_pfizer1, \"negative\"))\n",
    "wordcloud_image(\"vader\", \"reddit\", \"quarantine\", \"neg1\", reddit_wordcloud_terms(vader_quar1, \"negative\"))\n",
    "wordcloud_image(\"vader\", \"reddit\", \"restrictions\", \"neg1\", reddit_wordcloud_terms(vader_rest1, \"negative\"))\n",
    "wordcloud_image(\"vader\", \"reddit\", \"vaccine\", \"neg1\", reddit_wordcloud_terms(vader_vac1, \"negative\"))"
   ]
  },
  {
   "cell_type": "markdown",
   "metadata": {},
   "source": [
    "Run 2"
   ]
  },
  {
   "cell_type": "code",
   "execution_count": 38,
   "metadata": {},
   "outputs": [],
   "source": [
    "wordcloud_image(\"vader\", \"reddit\", \"facemasks\", \"pos2\", reddit_wordcloud_terms(vader_fmask2, \"positive\"))\n",
    "wordcloud_image(\"vader\", \"reddit\", \"lockdown\", \"pos2\", reddit_wordcloud_terms(vader_ldown2, \"positive\"))\n",
    "wordcloud_image(\"vader\", \"reddit\", \"pcr\", \"pos2\", reddit_wordcloud_terms(vader_pcr2, \"positive\"))\n",
    "wordcloud_image(\"vader\", \"reddit\", \"pfizer\", \"pos2\", reddit_wordcloud_terms(vader_pfizer2, \"positive\"))\n",
    "wordcloud_image(\"vader\", \"reddit\", \"quarantine\", \"pos2\", reddit_wordcloud_terms(vader_quar2, \"positive\"))\n",
    "wordcloud_image(\"vader\", \"reddit\", \"restrictions\", \"pos2\", reddit_wordcloud_terms(vader_rest2, \"positive\"))\n",
    "wordcloud_image(\"vader\", \"reddit\", \"vaccine\", \"pos2\", reddit_wordcloud_terms(vader_vac2, \"positive\"))\n",
    "\n",
    "wordcloud_image(\"vader\", \"reddit\", \"facemasks\", \"neg2\", reddit_wordcloud_terms(vader_fmask2, \"negative\"))\n",
    "wordcloud_image(\"vader\", \"reddit\", \"lockdown\", \"neg2\", reddit_wordcloud_terms(vader_ldown2, \"negative\"))\n",
    "wordcloud_image(\"vader\", \"reddit\", \"pcr\", \"neg2\", reddit_wordcloud_terms(vader_pcr2, \"negative\"))\n",
    "wordcloud_image(\"vader\", \"reddit\", \"pfizer\", \"neg2\", reddit_wordcloud_terms(vader_pfizer2, \"negative\"))\n",
    "wordcloud_image(\"vader\", \"reddit\", \"quarantine\", \"neg2\", reddit_wordcloud_terms(vader_quar2, \"negative\"))\n",
    "wordcloud_image(\"vader\", \"reddit\", \"restrictions\", \"neg2\", reddit_wordcloud_terms(vader_rest2, \"negative\"))\n",
    "wordcloud_image(\"vader\", \"reddit\", \"vaccine\", \"neg2\", reddit_wordcloud_terms(vader_vac2, \"negative\"))"
   ]
  },
  {
   "cell_type": "markdown",
   "metadata": {},
   "source": [
    "Run 3"
   ]
  },
  {
   "cell_type": "code",
   "execution_count": 39,
   "metadata": {},
   "outputs": [],
   "source": [
    "wordcloud_image(\"vader\", \"reddit\", \"facemasks\", \"pos3\", reddit_wordcloud_terms(vader_fmask3, \"positive\"))\n",
    "wordcloud_image(\"vader\", \"reddit\", \"lockdown\", \"pos3\", reddit_wordcloud_terms(vader_ldown3, \"positive\"))\n",
    "wordcloud_image(\"vader\", \"reddit\", \"pcr\", \"pos3\", reddit_wordcloud_terms(vader_pcr3, \"positive\"))\n",
    "wordcloud_image(\"vader\", \"reddit\", \"pfizer\", \"pos3\", reddit_wordcloud_terms(vader_pfizer3, \"positive\"))\n",
    "wordcloud_image(\"vader\", \"reddit\", \"quarantine\", \"pos3\", reddit_wordcloud_terms(vader_quar3, \"positive\"))\n",
    "wordcloud_image(\"vader\", \"reddit\", \"restrictions\", \"pos3\", reddit_wordcloud_terms(vader_rest3, \"positive\"))\n",
    "wordcloud_image(\"vader\", \"reddit\", \"vaccine\", \"pos3\", reddit_wordcloud_terms(vader_vac3, \"positive\"))\n",
    "\n",
    "wordcloud_image(\"vader\", \"reddit\", \"facemasks\", \"neg3\", reddit_wordcloud_terms(vader_fmask3, \"negative\"))\n",
    "wordcloud_image(\"vader\", \"reddit\", \"lockdown\", \"neg3\", reddit_wordcloud_terms(vader_ldown3, \"negative\"))\n",
    "wordcloud_image(\"vader\", \"reddit\", \"pcr\", \"neg3\", reddit_wordcloud_terms(vader_pcr3, \"negative\"))\n",
    "wordcloud_image(\"vader\", \"reddit\", \"pfizer\", \"neg3\", reddit_wordcloud_terms(vader_pfizer3, \"negative\"))\n",
    "wordcloud_image(\"vader\", \"reddit\", \"quarantine\", \"neg3\", reddit_wordcloud_terms(vader_quar3, \"negative\"))\n",
    "wordcloud_image(\"vader\", \"reddit\", \"restrictions\", \"neg3\", reddit_wordcloud_terms(vader_rest3, \"negative\"))\n",
    "wordcloud_image(\"vader\", \"reddit\", \"vaccine\", \"neg3\", reddit_wordcloud_terms(vader_vac3, \"negative\"))"
   ]
  }
 ],
 "metadata": {
  "interpreter": {
   "hash": "4ebbf97e9f9e26eae94b47b69709ce5d0a0e95bc9af71f20dffa41bd870b01f6"
  },
  "kernelspec": {
   "display_name": "Python 3.7.9 ('topic_sentiment_across_sn')",
   "language": "python",
   "name": "python3"
  },
  "language_info": {
   "codemirror_mode": {
    "name": "ipython",
    "version": 3
   },
   "file_extension": ".py",
   "mimetype": "text/x-python",
   "name": "python",
   "nbconvert_exporter": "python",
   "pygments_lexer": "ipython3",
   "version": "3.7.9"
  },
  "orig_nbformat": 4
 },
 "nbformat": 4,
 "nbformat_minor": 2
}
