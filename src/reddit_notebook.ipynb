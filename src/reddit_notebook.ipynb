{
 "cells": [
  {
   "cell_type": "markdown",
   "metadata": {},
   "source": [
    "# Runs Reddit API to collect posts containing a search term, and returns post with comments on it"
   ]
  },
  {
   "cell_type": "markdown",
   "metadata": {},
   "source": [
    "### Import the Reddit credentials and modules required"
   ]
  },
  {
   "cell_type": "code",
   "execution_count": 1,
   "metadata": {},
   "outputs": [],
   "source": [
    "from redditcredentials import CLIENT_ID, CLIENT_SECRET, USERNAME_REDDIT, PASSWORD_REDDIT\n",
    "import requests"
   ]
  },
  {
   "cell_type": "markdown",
   "metadata": {},
   "source": [
    "### Setup the request for Reddit API, OAuth authentication"
   ]
  },
  {
   "cell_type": "code",
   "execution_count": 2,
   "metadata": {},
   "outputs": [
    {
     "data": {
      "text/plain": [
       "<Response [200]>"
      ]
     },
     "execution_count": 2,
     "metadata": {},
     "output_type": "execute_result"
    }
   ],
   "source": [
    "# Authorisation code from https://towardsdatascience.com/how-to-use-the-reddit-api-in-python-5e05ddfd1e5c, as tried what API github suggested and did not work\n",
    "auth = requests.auth.HTTPBasicAuth(CLIENT_ID, CLIENT_SECRET)\n",
    "\n",
    "data = {'grant_type': 'password',\n",
    "        'username': USERNAME_REDDIT,\n",
    "        'password': PASSWORD_REDDIT}\n",
    "\n",
    "headers = {'User-Agent': 'TopicSentimentAcrossSN/0.0.1'}\n",
    "\n",
    "res = requests.post('https://www.reddit.com/api/v1/access_token',\n",
    "                    auth=auth, data=data, headers=headers)\n",
    "\n",
    "TOKEN = res.json()['access_token']\n",
    "\n",
    "headers = {**headers, **{'Authorization': f\"bearer {TOKEN}\"}}\n",
    "requests.get('https://oauth.reddit.com/api/v1/me', headers=headers)"
   ]
  },
  {
   "cell_type": "markdown",
   "metadata": {},
   "source": [
    "### Set search term and create the dictionary to hold posts"
   ]
  },
  {
   "cell_type": "code",
   "execution_count": 23,
   "metadata": {},
   "outputs": [],
   "source": [
    "search_term = 'Scotrail'\n",
    "reddit_posts = {}"
   ]
  },
  {
   "cell_type": "markdown",
   "metadata": {},
   "source": [
    "### Function to get the comments from the posts"
   ]
  },
  {
   "cell_type": "code",
   "execution_count": 35,
   "metadata": {},
   "outputs": [],
   "source": [
    "def getCommentsFromPosts(post_id, post_title):\n",
    "        comment_results = requests.get(\"https://oauth.reddit.com/r/all/comments/\" + str(post_id),\n",
    "                                headers=headers, params={'limit': '25'})\n",
    "\n",
    "        print(\"PRINTING COMMENT RESULTS FOR THE TOPIC: \\n\")\n",
    "\n",
    "        comments = comment_results.json()[1]['data']['children'][:-1]   #slices last value as it is just list of id's\n",
    "        all_comments = []\n",
    "\n",
    "        for comment in comments:\n",
    "                comment_text = comment['data']['body']\n",
    "                all_comments += [comment_text]\n",
    "        \n",
    "        reddit_posts[post_title] = all_comments"
   ]
  },
  {
   "cell_type": "markdown",
   "metadata": {},
   "source": [
    "### Find results on search term from reddit posts, and collect comments containing that topic"
   ]
  },
  {
   "cell_type": "code",
   "execution_count": 36,
   "metadata": {},
   "outputs": [
    {
     "name": "stdout",
     "output_type": "stream",
     "text": [
      "PRINTING SEARCH RESULTS FOR THE TOPIC: \n",
      "\n",
      "Scotrail Strike Going Ahead during COP26 Good Luck to Everybody Involved\n",
      "PRINTING COMMENT RESULTS FOR THE TOPIC: \n",
      "\n",
      "Massive yes vote in ScotRail pay dispute\n",
      "PRINTING COMMENT RESULTS FOR THE TOPIC: \n",
      "\n",
      "Unite confirm they will not be striking during COP26 after agreement reached with ScotRail\n",
      "PRINTING COMMENT RESULTS FOR THE TOPIC: \n",
      "\n",
      "Scotrail Strikes COP26\n",
      "PRINTING COMMENT RESULTS FOR THE TOPIC: \n",
      "\n",
      "ScotRail and Caledonian Sleeper strike confirmed during COP26\n",
      "PRINTING COMMENT RESULTS FOR THE TOPIC: \n",
      "\n",
      "Rail workers announce 24-hour strike action during COP26 in Scotrail pay dispute\n",
      "PRINTING COMMENT RESULTS FOR THE TOPIC: \n",
      "\n",
      "Scotrail strikes and travelling to Murrayfield\n",
      "PRINTING COMMENT RESULTS FOR THE TOPIC: \n",
      "\n",
      "Scotrail criticised by Aberdeen SNP MP Stephen Flynn for providing insufficient service for football fans travelling from the North East and terminating the service at Dundee over \"abuse towards staff\"\n",
      "PRINTING COMMENT RESULTS FOR THE TOPIC: \n",
      "\n",
      "Sturgeon offers rail staff inflation-busting pay rise. SNP seeks to end ScotRail strikes with bumper salary hike likely to spark anger across rest of UK, where industry pay is frozen.\n",
      "PRINTING COMMENT RESULTS FOR THE TOPIC: \n",
      "\n",
      "Sturgeon offers rail staff inflation-busting pay rise. SNP seeks to end ScotRail strikes with bumper salary hike likely to spark anger across rest of UK, where industry pay is frozen.\n",
      "PRINTING COMMENT RESULTS FOR THE TOPIC: \n",
      "\n",
      "ScotRail encouraging suicide\n",
      "PRINTING COMMENT RESULTS FOR THE TOPIC: \n",
      "\n",
      "Covid in Scotland: Scotrail will not enforce face masks on trains\n",
      "PRINTING COMMENT RESULTS FOR THE TOPIC: \n",
      "\n",
      "ScotRail offer staff payrise of 4.7% in bid to stop strikes before COP26\n",
      "PRINTING COMMENT RESULTS FOR THE TOPIC: \n",
      "\n",
      "Seeing someone unmasked on Scotrail and abandoning all hope of doing anything productive in favour of seething and fantasising about saying something brave\n",
      "PRINTING COMMENT RESULTS FOR THE TOPIC: \n",
      "\n",
      "Is there a trick to getting on Scotrail WiFi? Keep tick the box and clicking the button and it just refreshes to the same screen but unticked. It only works 50% of the time.\n",
      "PRINTING COMMENT RESULTS FOR THE TOPIC: \n",
      "\n",
      "When Scotrail has had enough of your anti-LGBT+ shit!\n",
      "PRINTING COMMENT RESULTS FOR THE TOPIC: \n",
      "\n",
      "Scotrail engineers vote for strike action after pay talks collapse\n",
      "PRINTING COMMENT RESULTS FOR THE TOPIC: \n",
      "\n",
      "Massive yes vote in ScotRail pay dispute\n",
      "PRINTING COMMENT RESULTS FOR THE TOPIC: \n",
      "\n",
      "Would anyone be willing to answer a few questions for my uni assignment about the Scotrail strikes during COP?\n",
      "PRINTING COMMENT RESULTS FOR THE TOPIC: \n",
      "\n",
      "SNP minister has 'no idea' why ScotRail staff plan to strike during COP26\n",
      "PRINTING COMMENT RESULTS FOR THE TOPIC: \n",
      "\n",
      "Hundreds of axed ScotRail trains will not be restored under planned post-pandemic timetable\n",
      "PRINTING COMMENT RESULTS FOR THE TOPIC: \n",
      "\n",
      "ScotRail panned for price of new Glasgow-Edinburgh ticket\n",
      "PRINTING COMMENT RESULTS FOR THE TOPIC: \n",
      "\n",
      "ScotRail transport\n",
      "PRINTING COMMENT RESULTS FOR THE TOPIC: \n",
      "\n",
      "43035 and 43130 top and tail the ScotRail Inverness to Aberdeen service 2021-09-30\n",
      "PRINTING COMMENT RESULTS FOR THE TOPIC: \n",
      "\n",
      "Scotland fans fume at Scotrail after travel chaos ahead of Israel clash\n",
      "PRINTING COMMENT RESULTS FOR THE TOPIC: \n",
      "\n"
     ]
    }
   ],
   "source": [
    "results = requests.get(\"https://oauth.reddit.com/r/all/search\", \n",
    "                headers=headers, params={'limit': '25', 'q':{search_term}})\n",
    "\n",
    "print(\"PRINTING SEARCH RESULTS FOR THE TOPIC: \\n\")\n",
    "\n",
    "posts = results.json()['data']['children']\n",
    "\n",
    "for post in posts:\n",
    "        post_title = post['data']['title']\n",
    "        print(post_title)\n",
    "        post_id = post['data']['id']\n",
    "        getCommentsFromPosts(post_id, post_title)"
   ]
  },
  {
   "cell_type": "markdown",
   "metadata": {},
   "source": [
    "### Dictionary results"
   ]
  },
  {
   "cell_type": "code",
   "execution_count": 37,
   "metadata": {},
   "outputs": [
    {
     "name": "stdout",
     "output_type": "stream",
     "text": [
      "{'Scotrail Strike Going Ahead during COP26 Good Luck to Everybody Involved': [\"Inflation is shooting up, wages are stagnant, and employers are still strapped for funds from the fallout of the pandemic. Energy costs are through the roof and business hasn't come back to many sectors. There will be a winter of strikes ahead I feel.\", 'I live in Lenzie and work in Partick. With the trains off my commute has now went from 40 mins to 2 hours and my employer refuses to let me work from home even though I probably could.   \\nMon the workers but fuck me this is gonna be a shite 2 weeks :(', \"They've been given until 5pm on Wednesday otherwise the strikes are going ahead. I'm screwed getting to work but I hope they get the pay they deserve. Pay people what they're worth.\", \"If Scotrail and the unions don't agree to resolve the strikes before Cop26, I Graeme Day is booted from his position. It's absolutely shocking that the Scottish Government are letting these strikes go ahead during one of the biggest events Scotland has ever had. They have had over seven months of Sunday strikes and yet we are on the verge of having nothing during Cop26.\\n\\nAs if those in the central belt don't have to deal with enough disruption as it is, but now the only easy way to get round Glasgow will be going as well. \\n\\nThis has been a complete and utter shambles from the Scottish Government.\", \"visiting a pal up near Mallaig in just shy of a fortnight's time, this will be fun not .\\n\\nup the workers\", 'I was speaking to a member of staff at Central today as I’m going on holiday next week by train and he was saying that he’s 80% confident the strike won’t go ahead and that an agreement will be met. \\n\\nHe also said that even if it does happen, it may not be every single service that is affected as not every member of staff is a union member but they would need to prioritise some routes as they’d obviously have a massively reduced workforce.', \"What I read a few days ago is that Unions where outright rejecting offers from the Scottish Government without consulting Union Members, if that's true that doesn't help end the negotiations, it should be the Union members who decide whether the offer is good or not.\\n\\nEdit : here's a link to what I was referring to, https://www.bbc.com/news/uk-scotland-59021053\\n\\nFor the record I support better pay for Rail Workers as I use Rail Travel on a weekly basis, service needs to improve.\", 'RIP cunts from commuter towns trying to get into work lmao we’re fucked \\n\\nClarkston, East Kilbride, Hamilton, Larkhall, and Newton Mearns (etc) currently on suicide watch.  What’s that, wagie? Missed your bus? Sad!', \"Gonna be a cunt for me but let's get this resolved n get the workers paid!\", 'They are Lowkey playing with fire when your job is 100% replaceable with technology. \\n\\nI can see self driving trains and some kind of ticket automation check coming in the near future. \\n\\nCompanies would rather buy machines and robots rather than pay people what they are due, ‘tis a sad reality.\\n\\nDownvoted fur wit exactly? 😂'], 'Massive yes vote in ScotRail pay dispute': [\"Good. By all accounts the staggered pay rise they were offering came with a lot of small print which was not good for the staff. \\n\\n\\nGoing to be very embarrassing for the Scottish government if this happens during COP26. By all accounts all trains between Glasgow and Edinburgh will be impacted which means a climate conference with everyone having to drive places. Government should have stepped in sooner to resolve this but they obviously didn't want to because they are taking over from abelio next year and we're hoping to not have to look like the bad guys.\"], 'Unite confirm they will not be striking during COP26 after agreement reached with ScotRail': ['RMT still out', 'So are the trains runnin or nah?'], 'Scotrail Strikes COP26': ['The offer put forward by Abellio (2% or thereabouts for 2 years) came with a lot of conditions attached. The worst one being that they couldn’t guarantee no redundancies for gateline/booking office staff. So I think conductors etc are doing the right thing. They’re not just thinking of themselves. It’s also for other scotrail employees. \\n\\nWhen inflation is sitting at about 4% does that sound like a good offer?', \"World class from RMT 👏👏👏\\n\\nFully taking advantage of a major global event that's coming to the city and knowing full well a large portion of people now work from home.\\n\\nWell played - up the unions 🙌\", 'Fully support them but damn is it grim to think im going to have to give Firstbus my custom to get to work during this time.', \"Loving the linked article about the binmen on strike. The leader's energy is infectious. Good on them.  https://www.glasgowtimes.co.uk/news/19647288.binmen-glasgow-vote-strike-cop26-amid-pay-rise-row/\", 'Unions are having a field day with Cop26 lol', 'Good on them!', 'Up the workers and the unions!', 'Solidarity', 'With the prices scotrail charge, how the fuck can they not pay their workers a decent wage.', 'Good- GMB member myself.   I am holding my breath for next month REAL living wage increase.  20pence an hour last year.', 'I’m expecting absolute chaos in Glasgow during COP. And I for one welcome it. The more distribution, strikes and anarchy the better IMO. Let the world see we are not putting up with this shit any longer.', 'Good on them.', 'Heartening to see solidarity in the comments. And also see a union box clever. Usually they just play the game. A day on strike that affects few, the boss agrees 0.5% more and the strike day pays for itself. Union says \" we did our job\" . Business says \" we listened and acted\". Worker, worse off.\\nSo although I think there is little merit in defending a bigger rise for conductors on £32k, its nice to see a union be a union.', 'Making my job even harder. Great', \"Great so now other working class folk are gonna have to struggle to get to work now. Just pay these cunts off and bring in a lot more of they machines where customers paint out their own tickets. Think they have a shit job now, wait till they need to work in Farmfoods and have a Karen scream at them because they won't take an out of date voucher\", 'I’m going to get a job with Scotrail so I never have to work /hj'], 'ScotRail and Caledonian Sleeper strike confirmed during COP26': ['Why do they need until March to take the contract over from Abellio?', \"this plus the refuse strike is going to hit hard unless GCC + the Scottish Gov + UK Government actually do something. will absolutely cripple the conference considering the M8 is busy enough as it is without rail commuters as well as all the delegates who may get trains. refuse strikes will also hit massively considering what a huge issue it is in glasgow atm, fly tipping, litter and bins have been dreadful and will not give a good impression of the city, especially if it can't stay clean during COP.\\n\\ntl;dr needs urgent attention or glasgow is fucked\", 'Seems like a great idea to knobble low carbon transport during a climate summit. And it won’t strengthen calls for more automation', 'Snapshot:\\n\\n1. An archived version of _ScotRail and Caledonian Sleeper strike confirmed during COP26_ can be found [here.](https://archive.is/?run=1&amp;url=https://www.bbc.com/news/uk-scotland-scotland-politics-58917265)      \\n\\n\\n*I am a bot, and this action was performed automatically. Please [contact the moderators of this subreddit](/message/compose/?to=/r/ukpolitics) if you have any questions or concerns.*'], 'Rail workers announce 24-hour strike action during COP26 in Scotrail pay dispute': [\"Good for them. Striking at a time is the most disruptive or most humiliating to the government is always the most effective way to do it.\\n\\nThough personally I always liked the approach in France. Run a reduced service and refuse to take any money from the public, that way they're facing running costs and no income. \\n\\nSaved about 200 euros on my holidays.\", 'On the one hand I’m all for it, but fucking hell it’s SO inconvenient. That’s the point obviously, but no me we’re in a situation where:\\n\\nA service we rely on was seriously over priced and slightly unreliable at the best of times.\\n\\nNow INCREDIBLY unreliable and the workers are unhappy and suffering.\\n\\nLiterally no-one is happy not even the workers of the company. \\n\\nWhen is it going to end? Why do other countries have their shit together and Scotland doesn’t? What is actually going on here?', 'This whole situation is very frustrating. I don’t blame the staff but absolutely wow at scotrail for refusing to give in to the staffs demand. It’s literally caused so much inconvenience for me and I’ve had to cancel so much because of the Sunday strike.', '&gt;\"Unite’s engineering members will now take part in a series of 24 hour stoppages \"\\n\\nSo this is the maintenance staff and not the drivers and conductors who have been striking on Sundays as of late?  There\\'s not really much detail in the article about what they want and their current conditions to judge this really.', 'Victory to the RMT!', 'Always interesting to see the alleged \"left wing, pro worker\" posters suddenly change their tune when it reflects poorly on the Scottish government.', 'I usually cycle past the sec to get to work, was planning on getting the train during cop26. I guess ill take an enormous detour round glasgow instead then. So environmental.', 'Privatizing the railways was such a great idea!\\n\\n- some tory cunt somewhere, probably', '[deleted]', 'Glad I have a car.'], 'Scotrail strikes and travelling to Murrayfield': ['A walk is only 23 and a bit hours if you fancy the scenic route', \"Megabus?\\n\\nI'm coming up from England and staying with friends in Glasgow. We've booked a Megabus across.\", 'If you can bus it from Ayr to Glasgow Buchanan Street Bus Station, you could catch the 747 to Edinburgh Airport and get off at Ingliston Park and Ride and then jump on the tram.', 'Not sure of that exact route but coach is a good option as Murrayfield is on the right side of town for that. If you can get to Glasgow it should be easy enough', 'Ferry to Belfast, then flight into Edinburgh Airport. Tram from the airport stops at Murrayfield.'], 'Scotrail criticised by Aberdeen SNP MP Stephen Flynn for providing insufficient service for football fans travelling from the North East and terminating the service at Dundee over \"abuse towards staff\"': [\"Scotrail really is a terrible service. I've never had a good thought about Scotrail in my entire life.\", \"I see it's that condescending wee wank Angus that's replying to him.  One of the worst social media individuals I've encountered\", 'Of all the people to be wee prick to that scotrail rep has picked an MSP', \"It's almost like international fixtures are planned months in advance so scotrail could put on extra services, bastards\", \"Abellio have never been interested in anything more than making money. \\n\\nHopefully the rail service improves significantly when it's back I'm public hands. They can start by handing wee Angus his jotters\", \"So you're telling me that Scotrail handles football matches worse than the Japanese raiways handles a magnitude 6 earthquake? Not surprised tbf.\", 'Leigh Griffiths shouting at the trains as they pass by. Must be trying to impress a bird.', 'I often forget there are people living in what is known as “Aberdeen” too, can’t blame them', 'Yet his party refuses to nationalise it and flogged it to the Dutch government for pennies. Absolute gobshite.'], 'Sturgeon offers rail staff inflation-busting pay rise. SNP seeks to end ScotRail strikes with bumper salary hike likely to spark anger across rest of UK, where industry pay is frozen.': ['Rail staff took the pay freeze because they were told it was for the greater good and there is no money to give. \\n\\nAll sounds like lies again, perhaps we will see the return of strikes', \"Should work alright with HMG's push toward a high wages economy, amirite?\", 'When a guy checking your ticket and doing the doors is on £40k pa (plus final salary pension), then the economy is really fucked up.', 'Snapshot:\\n\\n1. An archived version of _Sturgeon offers rail staff inflation-busting pay rise. SNP seeks to end ScotRail strikes with bumper salary hike likely to spark anger across rest of UK, where industry pay is frozen._ can be found [here.](https://archive.is/?run=1&amp;url=https://www.telegraph.co.uk/business/2021/10/12/sturgeon-offers-rail-staff-inflation-busting-pay-rise/)      \\n\\n\\n*I am a bot, and this action was performed automatically. Please [contact the moderators of this subreddit](/message/compose/?to=/r/ukpolitics) if you have any questions or concerns.*'], 'ScotRail encouraging suicide': ['But If they put it before where the rails are, then it would likely blocks the doors of the train', \"Please don't have children.\", 'nice'], 'Covid in Scotland: Scotrail will not enforce face masks on trains': [\"It shouldn't be up to regular staff to enforce the law. They don't get paid enough to deal with the aggression that would come with this.\\n\\nI was asked to enforce mask wearing for a major supermarket at the start of the year by standing at the front door (I just work checkouts part time I don't have security training) and the amount of abuse I received for asking people if they want a mask was incredible. It was not worth what I get paid.\", 'Just wear a fucking mask how difficult is that, people are such children', \"They haven't ever enforced it.  That's why I haven't been on a train since early 2020.\", 'They have never enforced it and the story is BBC shit-stirring at its finest. The hard of thinking have now been given permission to not wear a mask by the BBC. Well done.', \"It's fairly easy. Just wear a mask and don't be a cunt.\", 'If people are getting away with not wearing masks, surely people can get away with not buying tickets?', 'If you want the staff to enforce masks. Give them tazers. Otherwise stay quiet.', \"Thank god. Masks should never have been mandated on trains in the first place. I don't personally mind wearing a mask in an indoors station and when walking in the train, however after sitting down, you should be able to take it off similar to logic in restaurants as the distances between people and ventilation are comparable.\", 'I mean they could at least put announcements  that wearing masks is mandatory on the train.  That would be the bare minimum, but they dont even do that anymore.', \"Who actually cares? The sub is just a page of constant moaning and utter pish majority of the time. If you have had your Jab and got your mask on what you so bothered for? Your life's must be miserable\"], 'ScotRail offer staff payrise of 4.7% in bid to stop strikes before COP26': ['Is ScotRail owned by a private company?\\n\\nWhy did it take them so long to offer a pay rise? \\n\\nSorry just a little confused!', 'Hopefully this is a step in the right direction. It is ridiculous to promote a green and sustainable future when the public transport operator was on strike on Sundays.', '&gt;ScotRail offer staff payrise of 4.7% in bid to stop strikes before COP26\\n\\n&gt;ScotRail have made a pay offer of 4.7% to staff in a bid to end a series of weekend strikes, with industrial action for the next two weekends put on hold while the offer is considered.\\n\\n&gt;Workers at the rail firm have been holding a series of strikes over pay in recent weeks, with plans to continue each Sunday between now and November 28.\\n\\n&gt;Now the Scotsman understands an offer has been made to staff of an initial 2.5% backdated to April this year, with an additional 2.2% promised in April 2022.\\n\\n&gt;There is also a separate offer on the table of a £300 bonus payment to all staff for ensuring that COP26 is fully supported between October 31, and November 12.\\n\\n&gt;With some world leaders staying in Edinburgh and travelling to Glasgow for the summit, there are expected to be delays along the M8.\\n\\n&gt;It is understood that the offer represents improved terms made to staff, after weeks of disruption across Scotland’s rail network.\\n\\n&gt;If strikes continue as scheduled, they will occur all day on consecutive Sundays; October 31, November 7, 14, 21, and 28.\\n\\n&gt;Planned strikes for October 17 and 24 have been called off while the offer is considered.\\n\\n&gt;Unite says members will be balloted on the latest offer between October 13 and 25.\\n\\n&gt;A spokesperson for RMT said: “The offer has been received, and going through normal process of being discussed by our reps across Scotland.\\n\\n&gt;Needs to be given full consideration and will be taking whatever time is necessary before taking the right decision. We’ll be issuing a further statement in due course.”\\n\\n&gt;A ScotRail spokesperson said: “We’re seeing customers gradually return to Scotland’s Railway, but the scale of the financial situation ScotRail is facing is stark.\\n\\n&gt;“We will continue to engage with the rail trade unions to find an agreement on pay and conditions.\\n\\n&gt;“To build a more sustainable and greener railway for the future and reduce the burden on the taxpayer, we need to change. All of us in the railway – management, staff, trade unions, suppliers, and government – need to work together to modernise the railway so that it is fit for the future.”', \"It would be nice if the 2/3rds of people, at time of writing, who have downvoted this could share their reasons.  Not enough of a raise?  Hate public sector employees getting paid more?  Let us know!  \\n\\n--\\n\\nI'll wait to see the RMT's recommendation, but good news and hopefully underlines for some people the necessity of strike action.\", \"Wait and see if they say they're happy to accept it. I'm guessing given half of the rise comes in next year this must have been greenlit by the Scottish government as that's when they are taking over. Makes you wonder why they didn't get involved sooner.\"], 'Seeing someone unmasked on Scotrail and abandoning all hope of doing anything productive in favour of seething and fantasising about saying something brave': ['Got a train from Edinburgh to York, the announcement went like this:\\n\\n\"Face masks are still mandatory on Scottish public transport. Since we are in Scotland and a train is a form of public transport, that means it is mandatory to wear a face mask, unless medically exempt. While a face mask does look nice on your wrist or sitting on your table, it\\'s not doing its job there.\"\\n\\nThe looks of smugness and amusement I could see through the compartment were amazing. I thrive for the passive aggressiveness sometimes. Donna, a living legend.'], 'Is there a trick to getting on Scotrail WiFi? Keep tick the box and clicking the button and it just refreshes to the same screen but unticked. It only works 50% of the time.': [\"No trick, sometimes train says no but doesn't tell you it said no.\", \"I don't know if it works the same way as on the bus but on the bus you tick the wee box and connect but then once you reach your data limit it will disconnect you and when you try to tick the wee box and try to reconnect it will just refresh back to the connect page until the next day (or whenever the data limit resets) \\n\\nYou say it doesn't always work, does it always work first time? And when it fails if you try to reconnect instantly does it work or do you need to wait a while?\"], 'When Scotrail has had enough of your anti-LGBT+ shit!': [\"Hopefully the next thing they offer the LGBTQ+ community is a rail service that isn't overpriced and constantly late. At least now the trains are both cancelled and inclusive.\", \"I've never thought to follow Scotrail on twitter but if it's this much fun I might start\", 'Just as well it was Ste on the twitter page that day &amp; gave a civil shoot down.\\n\\nAngus would have went 1990s undertaker on him with his reply.', 'What are straight colours tho? I might have been doing this wrong ……', 'Scotrail? Oh Aye!\\n\\nhttps://youtu.be/Th7Mx2B4sXg', 'Discriminated against 😂😂😂 what a soppin wet fish of a man', 'Shout-out to that commenter for finally coming out... As a massive fucking bellend.', 'Exchanges like this make me think one day we’ll get really bored of the internet. Its always the exact same nonsense arguments and comebacks. I swear i’ve seen this word for word back and forth on Facebook, Youtube, Instagram for the last ten years. People who comment shite don’t deserve interaction.', 'Or, in other words, “go fuck yourself”', 'From a design standpoint, I wish it was reversed, that way the arrows make it look more aerodynamic', 'Hop aboard the gay train', 'Seems strange that only 2/3 of one carriage is painted. Did they run out of paint?'], 'Scotrail engineers vote for strike action after pay talks collapse': ['Looks like Abellio are in the \"cut and run\" phase of private industry running what\\'s basically a monopoly. \\n\\nShould be nationally run with a goal of providing cheaper, greener transport rather than making a profit. Hope the redundancies don\\'t happen before Abellio get the boot, those will be skilled people we need going forward.', 'Good on them', 'When are they wanting to strike exactly? Can’t be Sundays because that’s already taken.', 'Company makes £65m pre-tax loss\\n\\nworkers go on strike demanding pay rise\\n\\n&amp;#x200B;\\n\\nclassic', 'Anyone know what the terms offered were?', \"The trains haven't ran on a Sunday for around 6 months, HALF A FUCKING YEAR. I hope the engineers are gonna strike on the Sunday also, as its already a fucking farce its been allowed to go this long, especially now the cou try is fully open and people are going to large events on Sundays, like football etc ..\", \"Cheek pml  not as if they are over worked and underpaid  it's the complete opposite they are underworked and overpaid. And everyone is expected to be paid more when the company are going down the shitter they are all the same at Scotrail greed over anything else\", \"So the employees of the famously shit rail firm are going on strike because they don't think their pay reflects their performance.\\n\\nIf their pay reflected their performance, their pay would consist of being lined up and spat on by the scottish public.\"], 'Would anyone be willing to answer a few questions for my uni assignment about the Scotrail strikes during COP?': ['Sure happy to.', 'From the tag that you’re using it looks like you’re wanting to paint it in a negative light rather then being open to both sides.', 'Go for it', 'Go on then', 'Sure'], \"SNP minister has 'no idea' why ScotRail staff plan to strike during COP26\": ['That\\'s some spin - so he\\'s said \"RMT members will have voted unaware of a new offer... There was a mandate for industrial action on the premise no offer was forthcoming\" \\nThe presenter then asks \"So why do you think they\\'re doing this\" \\nAnd he responds \"No idea, you\\'d have to ask them\"\\n\\nFuck sake, shite reporting, pure clickbait title -  he\\'s saying he has no idea why they\\'ve carried on with industrial action despite the new offer being put on the table, not that he has no idea why they\\'re striking.', 'There\\'s a lot of bad in a very short story. Firstly, the assumption that the union members voted by post and didn\\'t know what they were voting for when the strike action has been going on for close to a year is insulting. That\\'s a complete foot in mouth by him.\\n\\n\\nMore worryingly it also appears that the SNP have \"taken a side\" in this dispute and it is not the side of the workers. For a party that wants to paint themselves as left wing that\\'s not a good look. \\n\\n\\nBeing left wing is more than just social issues. They\\'re the east bits that just require you to take the public with you. Being economically left is harder and this is a big fail.\\n\\n\\nAlso, where the fuck are the Greens? They\\'ve been trying to court unions for a while and public transport would seem a good one for them to get with. If anyone can find something from any of them I\\'d be happy to see it but this far their silence on this and the proposed GMB strike from the council staff is deafening.', 'If an SNP minister can’t figure out why strikes are going to happen then there is a far bigger problem than I ever imagined.', 'Its so funny when folk in this sub tell me that the SNP are left-wing, social democrats or even socialists. Aye they talk the big game - but when it comes down to actually supporting the unions or developing left-wing policy, suddenly they have no clue why the plebs are acting up and embarrassing Scotland.\\n\\nTartan Tories indeed.'], 'Hundreds of axed ScotRail trains will not be restored under planned post-pandemic timetable': ['Traveling by train is now a luxury, just like a century ago. The plebs are left to drive or cycle instead.', \"&gt; ScotRail plans to cut 300 services a day from its pre-pandemic levels to save taxpayers up to £40 million a year\\n\\nIt might save them $40m now, but what about the wider economic impact to businesses from loss of revenue? Then there's always the increase in cost to councils and government for roads because of increases in car traffic.\", 'Consultation Link: https://www.scotrail.co.uk/about-scotrail/fit-future\\n\\nObviously much fewer people are commuting, and cuts in the peak hour services are justified because of that. However, Scotrail’s proposals involve cutting the off peak service by as much as 50% in addition to the peak services (compared to pre-Covid timetable). This disproportionately affects key workers (think healthcare, hospitality, manufacturing, trades etc.) that don’t work in an office and WFH isn’t and option and who also usually work irregular non 9-5 shifts, so they are more likely to commute in the off peak.\\n\\nWhat ScotRail should’ve done is only cut peak extra services (that mainly serve those who can WFH) and not touch the off peak timetable. As such, there needs to be a pushback against this timetable change.\\n\\nRead about the changes affecting your route and how your service will look like compared to the pre-pandemic timetable. Then voice your opposition in the online consultation form provided! \\n\\nIn addition, write to your MSP and tell them that this is a bad deal for your area. It will discourage even more people from using trains as services will be less frequent, and people will have to wait  up to 50% longer for their train.'], 'ScotRail panned for price of new Glasgow-Edinburgh ticket': ['“We’re confident that these fares will help bring former customers back, and attract new ones”\\n\\nI might be doing this commute next year. Why on earth would I take the train instead of driving or getting the bus.', \"Am I missing something, or does this £30 ticket actually save you nothing, give or take a few quid? On-peak tickets cost £15.50 on the day, off-peak cost £13.50, so you're saving either £1, -£1, or -£3, depending on the combination of journeys you take.\", \"£30 return for a 45 minute journey is madness, but people are going to get a shock in March when Scotrail are brought back into public ownership. Nationalising will not solve the problem. Despite what some people like to think, the franchise owners only make a 2-3% margin.\\n\\nThe Scottish Government need to increase the subsidy if we want to reduce ticket prices. Given that they are proposing £40m of cuts and slashing timetables, I can't see that happening any time soon. Most train operators take the majority of revenue from traditional commuters - most of which are not coming back into the office full time again. There will have to be some very difficult decisions made in the coming months as to how the funding shortfall is plugged.\", 'For anyone that just travels to the other city socially (weekends, odd weekday) and has a partner, i’d recommend the Two Together railcard. You make your money back basically if you do over 5 journeys a year.  We use it everywhere we go now for 1/3rd off.', 'Trying to get as much money as they can before they’re given the boot.', \"It's an open return usable within 30 days, and it's marginally cheaper than how people have to do it now (two singles). I don't see what all of the fuss is about. 🤷\\u200d♂️\"], 'ScotRail transport': ['If you’re under 30 or can share the trip with someone else then get a railcard - will save you 30%.\\n\\nAlso, don’t commute to Edinburgh. Did it for two years and it melted my brain - constantly tired and on the move with zero time for yourself.', 'It’s £409pm from Queen street, which is the direct service. \\nThe £250pm you can only take the cross country service from Central which is 30 mins longer journey time and only runs once an hour', 'my partner did this commute and it killed her wallet and her spirit', 'You may want to look into the CityLink bus service as well, not sure if that might work out cheaper than the train?\\n\\nwww.citylink.co.uk', \"I'd say after a while try relocating to edinburgh if that's a possibility. The route is not long from Glasgow but depending on the day/time it will get very busy and you may not always get a seat. The bus is of course cheaper and the advantage of train is of course the scenery or if someone is motion sick but given you'll be commuting there regularly, I'd opt to save some funds by taking bus. But I will suggest, if your circumstances allow, pls get an accomodation near your workplace as personally I find the longer commute for work just isn't worth it.\", \"I'd move to Edinburgh, mate. Even if a place in Edinburgh costs you ~£200 per month more than where you are now, it'll still end up costing the same or less than the very cheapest commute would cost, plus you wouldn't have to do that hellish, hellish commute.\\n\\nIf you're struggling for places to stay in Edinburgh, I'd look at Kirkcaldy or Burntisland in Fife - both are way better, faster and cheaper commutes than Glasgow. Anywhere on the Fife circle is a really fast, quiet and beautiful commute - you get to cross the Forth Bridge every day, and it's breathtaking, both in the morning and the evening!\\n\\nFailing that, West Lothian or Stirling/Larbert are cheap and decent commutes for Edinburgh, but busy as fuck.\\n\\nTl;dr - don't even try the Glasgow-Edinburgh commute, it's ungodly awful.\", 'I was paying £109 a week 13 years ago.\\n\\nThen discovered the megabus that was £40 a week although about 30 minutes longer', 'Do you need to travel everyday?\\n\\nI did the Glasgow to Edinburgh commute but only 2/3 days per week and the 10 journey tickets worked out cheapest for me.', \"Have you checked the bus prices? Not quite as quick (and potentially a lot slower if there's bad traffic), but the bus stations are both pretty central to the cities (even handier if you can get on/off nearer your work/home)\", \"I'd recommend the bus to be honest. It'll be much cheaper, is a good, comfortable service, and just takes a little bit longer (traffic permitting, but it's rarely been an issue for me.) Both bus stations are very central too.\"], '43035 and 43130 top and tail the ScotRail Inverness to Aberdeen service 2021-09-30': [], 'Scotland fans fume at Scotrail after travel chaos ahead of Israel clash': [\"There's a tweet about this already mate. I know you prefer tweets\", 'Steve Clarke must be sacked for this.', 'Scotrail and being shite: \\n\\nName a better duo.']}\n"
     ]
    }
   ],
   "source": [
    "print(reddit_posts)"
   ]
  }
 ],
 "metadata": {
  "interpreter": {
   "hash": "81845dbb79d117afed2f128a4bda775071ee668bf9e9d02bb4620ddcda801259"
  },
  "kernelspec": {
   "display_name": "Python 3.7.9 64-bit ('jup_env': conda)",
   "name": "python3"
  },
  "language_info": {
   "codemirror_mode": {
    "name": "ipython",
    "version": 3
   },
   "file_extension": ".py",
   "mimetype": "text/x-python",
   "name": "python",
   "nbconvert_exporter": "python",
   "pygments_lexer": "ipython3",
   "version": "3.7.9"
  },
  "orig_nbformat": 4
 },
 "nbformat": 4,
 "nbformat_minor": 2
}
