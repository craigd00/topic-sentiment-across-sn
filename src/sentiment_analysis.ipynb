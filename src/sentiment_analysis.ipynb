{
 "cells": [
  {
   "cell_type": "code",
   "execution_count": 1,
   "metadata": {},
   "outputs": [],
   "source": [
    "import matplotlib.pyplot as plt\n",
    "from shared_modules import load_dill_vars"
   ]
  },
  {
   "cell_type": "markdown",
   "metadata": {},
   "source": [
    "Loading Variables"
   ]
  },
  {
   "cell_type": "code",
   "execution_count": 13,
   "metadata": {},
   "outputs": [],
   "source": [
    "twitter_vars = load_dill_vars(\"twitter\")\n",
    "reddit_vars = load_dill_vars(\"reddit\")"
   ]
  },
  {
   "cell_type": "code",
   "execution_count": 14,
   "metadata": {},
   "outputs": [
    {
     "data": {
      "text/html": [
       "<div>\n",
       "<style scoped>\n",
       "    .dataframe tbody tr th:only-of-type {\n",
       "        vertical-align: middle;\n",
       "    }\n",
       "\n",
       "    .dataframe tbody tr th {\n",
       "        vertical-align: top;\n",
       "    }\n",
       "\n",
       "    .dataframe thead th {\n",
       "        text-align: right;\n",
       "    }\n",
       "</style>\n",
       "<table border=\"1\" class=\"dataframe\">\n",
       "  <thead>\n",
       "    <tr style=\"text-align: right;\">\n",
       "      <th></th>\n",
       "      <th>post</th>\n",
       "      <th>subreddit</th>\n",
       "      <th>sentiment</th>\n",
       "    </tr>\n",
       "  </thead>\n",
       "  <tbody>\n",
       "    <tr>\n",
       "      <th>0</th>\n",
       "      <td>Wore the same face mask many hours and days in...</td>\n",
       "      <td>AskDocs</td>\n",
       "      <td>negative</td>\n",
       "    </tr>\n",
       "    <tr>\n",
       "      <th>1</th>\n",
       "      <td>The feeling of peeling off a facemask after a ...</td>\n",
       "      <td>TwoSentenceHorror</td>\n",
       "      <td>positive</td>\n",
       "    </tr>\n",
       "    <tr>\n",
       "      <th>2</th>\n",
       "      <td>Harley N95 Respirator Face Mask</td>\n",
       "      <td>KN95FaceMask</td>\n",
       "      <td>neutral</td>\n",
       "    </tr>\n",
       "    <tr>\n",
       "      <th>3</th>\n",
       "      <td>Clear face shield 🛡 facemask on tits</td>\n",
       "      <td>CoronavirusNSFW</td>\n",
       "      <td>neutral</td>\n",
       "    </tr>\n",
       "    <tr>\n",
       "      <th>4</th>\n",
       "      <td>Nothing beats Nyla Rose's facemask. Just my op...</td>\n",
       "      <td>AEWOfficial</td>\n",
       "      <td>neutral</td>\n",
       "    </tr>\n",
       "    <tr>\n",
       "      <th>...</th>\n",
       "      <td>...</td>\n",
       "      <td>...</td>\n",
       "      <td>...</td>\n",
       "    </tr>\n",
       "    <tr>\n",
       "      <th>1192</th>\n",
       "      <td>I can't even begin to convey my thanks for wha...</td>\n",
       "      <td>CoronavirusAustralia</td>\n",
       "      <td>negative</td>\n",
       "    </tr>\n",
       "    <tr>\n",
       "      <th>1193</th>\n",
       "      <td>\\- female, because of the red wallet, mask wit...</td>\n",
       "      <td>scienceofdeduction</td>\n",
       "      <td>neutral</td>\n",
       "    </tr>\n",
       "    <tr>\n",
       "      <th>1194</th>\n",
       "      <td>Don't forget the face mask.</td>\n",
       "      <td>CleaningTips</td>\n",
       "      <td>neutral</td>\n",
       "    </tr>\n",
       "    <tr>\n",
       "      <th>1195</th>\n",
       "      <td>I feel ya. It can be hard. &amp;amp; to be honest ...</td>\n",
       "      <td>Adulting</td>\n",
       "      <td>neutral</td>\n",
       "    </tr>\n",
       "    <tr>\n",
       "      <th>1196</th>\n",
       "      <td>I live in the far Canadian north... if we stop...</td>\n",
       "      <td>running</td>\n",
       "      <td>neutral</td>\n",
       "    </tr>\n",
       "  </tbody>\n",
       "</table>\n",
       "<p>1197 rows × 3 columns</p>\n",
       "</div>"
      ],
      "text/plain": [
       "                                                   post             subreddit  \\\n",
       "0     Wore the same face mask many hours and days in...               AskDocs   \n",
       "1     The feeling of peeling off a facemask after a ...     TwoSentenceHorror   \n",
       "2                       Harley N95 Respirator Face Mask          KN95FaceMask   \n",
       "3                  Clear face shield 🛡 facemask on tits       CoronavirusNSFW   \n",
       "4     Nothing beats Nyla Rose's facemask. Just my op...           AEWOfficial   \n",
       "...                                                 ...                   ...   \n",
       "1192  I can't even begin to convey my thanks for wha...  CoronavirusAustralia   \n",
       "1193  \\- female, because of the red wallet, mask wit...    scienceofdeduction   \n",
       "1194                        Don't forget the face mask.          CleaningTips   \n",
       "1195  I feel ya. It can be hard. &amp; to be honest ...              Adulting   \n",
       "1196  I live in the far Canadian north... if we stop...               running   \n",
       "\n",
       "     sentiment  \n",
       "0     negative  \n",
       "1     positive  \n",
       "2      neutral  \n",
       "3      neutral  \n",
       "4      neutral  \n",
       "...        ...  \n",
       "1192  negative  \n",
       "1193   neutral  \n",
       "1194   neutral  \n",
       "1195   neutral  \n",
       "1196   neutral  \n",
       "\n",
       "[1197 rows x 3 columns]"
      ]
     },
     "execution_count": 14,
     "metadata": {},
     "output_type": "execute_result"
    }
   ],
   "source": [
    "reddit_vars[\"bert\"][\"run2\"][\"facemasks\"]"
   ]
  },
  {
   "cell_type": "code",
   "execution_count": 8,
   "metadata": {},
   "outputs": [
    {
     "data": {
      "text/plain": [
       "[                                                  tweet sentiment\n",
       " 0     Our Protection against Covid Sale is here! Don...  positive\n",
       " 1     Our Protection against Covid Sale is here! Don...  positive\n",
       " 2     This is really interesting from @marcowenjones...  positive\n",
       " 3     \"What are the rules and guidance for #facemask...  negative\n",
       " 4     At the outset of the pandemic, WHO experts adv...  negative\n",
       " ...                                                 ...       ...\n",
       " 8455  #Zetawhite.Whitening for the whole body – suit...  positive\n",
       " 8456  @ready1878 Fair play to the dude keeping his f...  positive\n",
       " 8457  Facemask girl outsider  para ewas COVID-19.. h...   neutral\n",
       " 8458  Cold morning on Loudon, going with the Spider ...   neutral\n",
       " 8459  Hey guys! Enjoy today's discounts and bonuses ...  positive\n",
       " \n",
       " [8460 rows x 2 columns],\n",
       "                                                     tweet sentiment\n",
       " 0       Any form of lockdown will be a death sentence ...  negative\n",
       " 1       I was going to renew my passport but everytime...  positive\n",
       " 2       I don't usually agree with anything Julia Hart...  positive\n",
       " 3       It’s fascinating how people run to this space ...  positive\n",
       " 4       @SupDog_SkaDog apparently there's a new varian...  negative\n",
       " ...                                                   ...       ...\n",
       " 137360  COVID in Germany: Bavaria cancels Christmas ma...  negative\n",
       " 137361  USDCAD: Oil Drop &amp; European Lockdown Risks...  negative\n",
       " 137362  There can be no doubt: the EU &amp; constituti...  negative\n",
       " 137363  Austria becomes the first European country to ...  negative\n",
       " 137364  @iraptrc Owww that’s so rubbish 😩 I PRAY the U...  positive\n",
       " \n",
       " [137365 rows x 2 columns],\n",
       "                                                    tweet sentiment\n",
       " 0      No one— and I mean NO ONE— should give two hoo...  negative\n",
       " 1      @DannyDonnelly1 @abbeycentre Covid is a con al...  positive\n",
       " 2      Decisive action is being taken to stop the spr...  negative\n",
       " 3      @efie41209591 @drDendere @TRTWorldNow Audrey B...   neutral\n",
       " 4      Outing to ‘PCR’ world this morning-this time t...  positive\n",
       " ...                                                  ...       ...\n",
       " 44590  @garrethmcdaid @luberachi @docmait It’s import...  positive\n",
       " 44591  Cases are meaningless \\nThe more PCR tests the...  negative\n",
       " 44592  My Covid PCR test result - negative!! Yes! Whe...  negative\n",
       " 44593  @kaoticanat Glad you're fine 💜 at that time I ...  positive\n",
       " 44594  @jayr1972 Bugger. Good idea to get a confirmat...  positive\n",
       " \n",
       " [44595 rows x 2 columns],\n",
       "                                                    tweet sentiment\n",
       " 0      L'articolo è del 12/7/21\\n#omicron #mezzorainp...  positive\n",
       " 1      Funny, this new varient now causes the same sy...  positive\n",
       " 2      @peck_neil @Roberthastosay @BorisJohnson @saji...   neutral\n",
       " 3      @geometric @Yesat_Erday A huge disadvantage wi...  positive\n",
       " 4      Hey @pfizer. @MarkSlapinski is the degenerate ...  negative\n",
       " ...                                                  ...       ...\n",
       " 83192  2 - said she saw the nanoparticles move and cl...   neutral\n",
       " 83193  11/ Pg 11  \\n\\n\"It took the FDA precisely 108 ...   neutral\n",
       " 83194  @did_40 @MsRobinHosking In Canada, the AZ vacc...  positive\n",
       " 83195             @JohnAtilano Pfizer! How did yours go?   neutral\n",
       " 83196  @ogilville1 @JimeeLiberty @zeetubes @vaxxinesR...  positive\n",
       " \n",
       " [83197 rows x 2 columns],\n",
       "                                                    tweet sentiment\n",
       " 0      Where has the #Omicron Covid variant been spot...   neutral\n",
       " 1      But not to worry- I'm sure our strong rhetoric...  positive\n",
       " 2      'Asking health children to quarantine is not a...  negative\n",
       " 3      @EllisLover I came down with it Jan5th. Didn't...  negative\n",
       " 4      Will Americans returning from South Africa hav...   neutral\n",
       " ...                                                  ...       ...\n",
       " 71652  @RealRonHoward How do  you deaal with boredom ...   neutral\n",
       " 71653  @davidfrum @chadloder Ar you bored in this qua...  negative\n",
       " 71654  @Nas How do you deaal  with boredom in this qu...   neutral\n",
       " 71655  @xyzzyspoonshift Such good recs! Twin Peaks wa...  positive\n",
       " 71656  @6BillionPeople How do you deaal with boredom ...   neutral\n",
       " \n",
       " [71657 rows x 2 columns],\n",
       "                                                     tweet sentiment\n",
       " 0       @SkyNews It’s maddening how firmly Labour say ...   neutral\n",
       " 1       @GainsAssociates @aag_ventures Is your project...   neutral\n",
       " 2       @StushieBobbins Michael don't want to have a R...  positive\n",
       " 3       @DMwonzora @edmnangagwa @CyrilRamaphosa @LAZAR...   neutral\n",
       " 4       Biden doing exactly what Trump did in regards ...  positive\n",
       " ...                                                   ...       ...\n",
       " 108880  @GasBuddyGuy Is the price increase tied to les...  positive\n",
       " 108881  @olliegerlach I haven't read them or seen the ...   neutral\n",
       " 108882  Violent clashes erupt during anti-lockdown dem...  negative\n",
       " 108883  @Mihi_Forbes They want to do whatever they lik...  positive\n",
       " 108884  @aedangk Most peer to peer things, it’s trivia...  negative\n",
       " \n",
       " [108885 rows x 2 columns],\n",
       "                                                     tweet sentiment\n",
       " 0       @NelsonAlmUK @HartmanDave @samstein Rare doesn...  positive\n",
       " 1       @jkenney @CMOH_Alberta \\nVaccine passports are...  positive\n",
       " 2       @AlexSharrard @Kelsig3D @coopercooperco COVID ...   neutral\n",
       " 3       @AP TRADITIONAL VACCINE vs MRNA\\n\\nIf you want...  positive\n",
       " 4       The FDA Produced First Batch of ‘Confidential’...   neutral\n",
       " ...                                                   ...       ...\n",
       " 234063  @sputnikvaccine We also belive that vaccine is...  positive\n",
       " 234064  @NathanBurba Twitter bots, a tale as old as ti...   neutral\n",
       " 234065  Dr. McCullough calls for a cessation of the va...  positive\n",
       " 234066  The Left is utterly incapable of understanding...  negative\n",
       " 234067  @Cblazer13 @timburchett It's the right wing GO...   neutral\n",
       " \n",
       " [234068 rows x 2 columns],\n",
       " datetime.timedelta(days=-1, seconds=79593, microseconds=48294)]"
      ]
     },
     "execution_count": 8,
     "metadata": {},
     "output_type": "execute_result"
    }
   ],
   "source": [
    "twitter_vars[\"afinn\"][0][\"run1\"]"
   ]
  },
  {
   "cell_type": "code",
   "execution_count": 11,
   "metadata": {},
   "outputs": [
    {
     "data": {
      "text/plain": [
       "datetime.timedelta(days=-1, seconds=78232, microseconds=402174)"
      ]
     },
     "execution_count": 11,
     "metadata": {},
     "output_type": "execute_result"
    }
   ],
   "source": [
    "twitter_vars[\"afinn\"][\"run3\"][7]"
   ]
  },
  {
   "cell_type": "code",
   "execution_count": null,
   "metadata": {},
   "outputs": [],
   "source": [
    "reddit_vars = load_dill_vars(\"reddit\")"
   ]
  },
  {
   "cell_type": "markdown",
   "metadata": {},
   "source": [
    "Twitter"
   ]
  },
  {
   "cell_type": "code",
   "execution_count": 2,
   "metadata": {},
   "outputs": [],
   "source": [
    "tw_af_fmasks1, tw_af_ldown1, tw_af_pcr1, tw_af_pfizer1, tw_af_quar1, tw_af_rest1, tw_af_vac1, tw_af_time1 = load_dill_vars(\"twitter\", \"afinn\", \"run1\")\n",
    "tw_af_fmasks2, tw_af_ldown2, tw_af_pcr2, tw_af_pfizer2, tw_af_quar2, tw_af_rest2, tw_af_vac2, tw_af_time2 = load_dill_vars(\"twitter\", \"afinn\", \"run2\")\n",
    "tw_af_fmasks3, tw_af_ldown3, tw_af_pcr3, tw_af_pfizer3, tw_af_quar3, tw_af_rest3, tw_af_vac3, tw_af_time3 = load_dill_vars(\"twitter\", \"afinn\", \"run3\")"
   ]
  },
  {
   "cell_type": "code",
   "execution_count": null,
   "metadata": {},
   "outputs": [],
   "source": [
    "tw_bert_fmasks1, tw_bert_ldown1, tw_bert_pcr1, tw_bert_pfizer1, tw_bert_quar1, tw_bert_rest1, tw_bert_vac1, tw_bert_time1 = load_dill_vars(\"twitter\", \"bert\", \"run1\")\n",
    "tw_bert_fmasks2, tw_bert_ldown2, tw_bert_pcr2, tw_bert_pfizer2, tw_bert_quar2, tw_bert_rest2, tw_bert_vac2, tw_bert_time2 = load_dill_vars(\"twitter\", \"bert\", \"run2\")\n",
    "tw_bert_fmasks3, tw_bert_ldown3, tw_bert_pcr3, tw_bert_pfizer3, tw_bert_quar3, tw_bert_rest3, tw_bert_vac3, tw_bert_time3 = load_dill_vars(\"twitter\", \"bert\", \"run3\")"
   ]
  },
  {
   "cell_type": "code",
   "execution_count": 8,
   "metadata": {},
   "outputs": [],
   "source": [
    "tw_tblob_fmasks1, tw_tblob_ldown1, tw_tblob_pcr1, tw_tblob_pfizer1, tw_tblob_quar1, tw_tblob_rest1, tw_tblob_vac1, tw_tblob_time1 = load_dill_vars(\"twitter\", \"textblob\", \"run1\")\n",
    "tw_tblob_fmasks2, tw_tblob_ldown2, tw_tblob_pcr2, tw_tblob_pfizer2, tw_tblob_quar2, tw_tblob_rest2, tw_tblob_vac2, tw_tblob_time2 = load_dill_vars(\"twitter\", \"textblob\", \"run2\")\n",
    "tw_tblob_fmasks3, tw_tblob_ldown3, tw_tblob_pcr3, tw_tblob_pfizer3, tw_tblob_quar3, tw_tblob_rest3, tw_tblob_vac3, tw_tblob_time3 = load_dill_vars(\"twitter\", \"textblob\", \"run3\")"
   ]
  },
  {
   "cell_type": "code",
   "execution_count": null,
   "metadata": {},
   "outputs": [],
   "source": [
    "tw_vder_fmasks1, tw_vder_ldown1, tw_vder_pcr1, tw_vder_pfizer1, tw_vder_quar1, tw_vder_rest1, tw_vder_vac1, tw_vder_time1 = load_dill_vars(\"twitter\", \"vader\", \"run1\")\n",
    "tw_vder_fmasks2, tw_vder_ldown2, tw_vder_pcr2, tw_vder_pfizer2, tw_vder_quar2, tw_vder_rest2, tw_vder_vac2, tw_vder_time2 = load_dill_vars(\"twitter\", \"vader\", \"run2\")\n",
    "tw_vder_fmasks3, tw_vder_ldown3, tw_vder_pcr3, tw_vder_pfizer3, tw_vder_quar3, tw_vder_rest3, tw_vder_vac3, tw_vder_time3 = load_dill_vars(\"twitter\", \"vader\", \"run3\")"
   ]
  },
  {
   "cell_type": "markdown",
   "metadata": {},
   "source": [
    "Reddit"
   ]
  },
  {
   "cell_type": "code",
   "execution_count": null,
   "metadata": {},
   "outputs": [],
   "source": [
    "red_af_fmasks1, red_af_ldown1, red_af_pcr1, red_af_pfizer1, red_af_quar1, red_af_rest1, red_af_vac1, red_af_time1 = load_dill_vars(\"reddit\", \"afinn\", \"run1\")\n",
    "red_af_fmasks2, red_af_ldown2, red_af_pcr2, red_af_pfizer2, red_af_quar2, red_af_rest2, red_af_vac2, red_af_time2 = load_dill_vars(\"reddit\", \"afinn\", \"run2\")\n",
    "red_af_fmasks3, red_af_ldown3, red_af_pcr3, red_af_pfizer3, red_af_quar3, red_af_rest3, red_af_vac3, red_af_time3 = load_dill_vars(\"reddit\", \"afinn\", \"run3\")"
   ]
  },
  {
   "cell_type": "code",
   "execution_count": null,
   "metadata": {},
   "outputs": [],
   "source": [
    "red_bert_fmasks1, red_bert_ldown1, red_bert_pcr1, red_bert_pfizer1, red_bert_quar1, red_bert_rest1, red_bert_vac1, red_bert_time1 = load_dill_vars(\"reddit\", \"bert\", \"run1\")\n",
    "red_bert_fmasks2, red_bert_ldown2, red_bert_pcr2, red_bert_pfizer2, red_bert_quar2, red_bert_rest2, red_bert_vac2, red_bert_time2 = load_dill_vars(\"reddit\", \"bert\", \"run2\")\n",
    "red_bert_fmasks3, red_bert_ldown3, red_bert_pcr3, red_bert_pfizer3, red_bert_quar3, red_bert_rest3, red_bert_vac3, red_bert_time3 = load_dill_vars(\"reddit\", \"bert\", \"run3\")"
   ]
  },
  {
   "cell_type": "code",
   "execution_count": null,
   "metadata": {},
   "outputs": [],
   "source": [
    "red_tblob_fmasks1, red_tblob_ldown1, red_tblob_pcr1, red_tblob_pfizer1, red_tblob_quar1, red_tblob_rest1, red_tblob_vac1, red_tblob_time1 = load_dill_vars(\"reddit\", \"textblob\", \"run1\")\n",
    "red_tblob_fmasks2, red_tblob_ldown2, red_tblob_pcr2, red_tblob_pfizer2, red_tblob_quar2, red_tblob_rest2, red_tblob_vac2, red_tblob_time2 = load_dill_vars(\"reddit\", \"textblob\", \"run2\")\n",
    "red_tblob_fmasks3, red_tblob_ldown3, red_tblob_pcr3, red_tblob_pfizer3, red_tblob_quar3, red_tblob_rest3, red_tblob_vac3, red_tblob_time3 = load_dill_vars(\"reddit\", \"textblob\", \"run3\")"
   ]
  },
  {
   "cell_type": "code",
   "execution_count": null,
   "metadata": {},
   "outputs": [],
   "source": [
    "red_vder_fmasks1, red_vder_ldown1, red_vder_pcr1, red_vder_pfizer1, red_vder_quar1, red_vder_rest1, red_vder_vac1, red_vder_time1 = load_dill_vars(\"reddit\", \"vader\", \"run1\")\n",
    "red_vder_fmasks2, red_vder_ldown2, red_vder_pcr2, red_vder_pfizer2, red_vder_quar2, red_vder_rest2, red_vder_vac2, red_vder_time2 = load_dill_vars(\"reddit\", \"vader\", \"run2\")\n",
    "red_vder_fmasks3, red_vder_ldown3, red_vder_pcr3, red_vder_pfizer3, red_vder_quar3, red_vder_rest3, red_vder_vac3, red_vder_time3 = load_dill_vars(\"reddit\", \"vader\", \"run3\")"
   ]
  },
  {
   "cell_type": "markdown",
   "metadata": {},
   "source": [
    "Time Calculation"
   ]
  },
  {
   "cell_type": "code",
   "execution_count": 13,
   "metadata": {},
   "outputs": [
    {
     "data": {
      "text/plain": [
       "79593"
      ]
     },
     "execution_count": 13,
     "metadata": {},
     "output_type": "execute_result"
    }
   ],
   "source": [
    "af_time1.seconds"
   ]
  },
  {
   "cell_type": "code",
   "execution_count": 18,
   "metadata": {},
   "outputs": [
    {
     "data": {
      "text/plain": [
       "-9696.757419"
      ]
     },
     "execution_count": 18,
     "metadata": {},
     "output_type": "execute_result"
    }
   ],
   "source": [
    "af_time2.total_seconds()"
   ]
  },
  {
   "cell_type": "code",
   "execution_count": 19,
   "metadata": {},
   "outputs": [
    {
     "data": {
      "text/plain": [
       "-235.991299"
      ]
     },
     "execution_count": 19,
     "metadata": {},
     "output_type": "execute_result"
    }
   ],
   "source": [
    "tblob_time2.total_seconds()"
   ]
  },
  {
   "cell_type": "code",
   "execution_count": 25,
   "metadata": {},
   "outputs": [
    {
     "data": {
      "text/plain": [
       "105637.654774"
      ]
     },
     "execution_count": 25,
     "metadata": {},
     "output_type": "execute_result"
    }
   ],
   "source": [
    "-bert_time2.total_seconds()"
   ]
  },
  {
   "cell_type": "code",
   "execution_count": 24,
   "metadata": {},
   "outputs": [
    {
     "data": {
      "text/plain": [
       "datetime.timedelta(days=-2, seconds=67162, microseconds=345226)"
      ]
     },
     "execution_count": 24,
     "metadata": {},
     "output_type": "execute_result"
    }
   ],
   "source": [
    "bert_time2"
   ]
  },
  {
   "cell_type": "code",
   "execution_count": 22,
   "metadata": {},
   "outputs": [
    {
     "data": {
      "text/plain": [
       "-9206.295075"
      ]
     },
     "execution_count": 22,
     "metadata": {},
     "output_type": "execute_result"
    }
   ],
   "source": [
    "vader_time2.total_seconds()"
   ]
  },
  {
   "cell_type": "code",
   "execution_count": null,
   "metadata": {},
   "outputs": [],
   "source": []
  },
  {
   "cell_type": "markdown",
   "metadata": {},
   "source": [
    "Time Graphs"
   ]
  },
  {
   "cell_type": "code",
   "execution_count": null,
   "metadata": {},
   "outputs": [],
   "source": [
    "import matplotlib.pyplot as plt\n",
    "\n",
    "fig, axarr = plt.subplots(2, 3)"
   ]
  }
 ],
 "metadata": {
  "interpreter": {
   "hash": "4ebbf97e9f9e26eae94b47b69709ce5d0a0e95bc9af71f20dffa41bd870b01f6"
  },
  "kernelspec": {
   "display_name": "Python 3.7.9 ('topic_sentiment_across_sn')",
   "language": "python",
   "name": "python3"
  },
  "language_info": {
   "codemirror_mode": {
    "name": "ipython",
    "version": 3
   },
   "file_extension": ".py",
   "mimetype": "text/x-python",
   "name": "python",
   "nbconvert_exporter": "python",
   "pygments_lexer": "ipython3",
   "version": "3.7.9"
  },
  "orig_nbformat": 4
 },
 "nbformat": 4,
 "nbformat_minor": 2
}
