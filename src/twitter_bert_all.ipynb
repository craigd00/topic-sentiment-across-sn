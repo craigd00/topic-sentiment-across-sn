{
 "cells": [
  {
   "cell_type": "code",
   "execution_count": 1,
   "metadata": {},
   "outputs": [],
   "source": [
    "from mongodbcredentials import CONNECTION_STRING, CONNECTION_STRING_JAN_1, CONNECTION_STRING_JAN_2 \n",
    "from pymongo import MongoClient\n",
    "import certifi\n",
    "import pandas as pd\n",
    "import dill   # For saving variables\n",
    "from dill import dump, load\n",
    "import datetime\n",
    "from shared_modules import database_as_tweet, database_as_bert, positive_neg_count_df, plot_run_sentiment, sentiment_dpts"
   ]
  },
  {
   "cell_type": "markdown",
   "metadata": {},
   "source": [
    "Code for the first run of data"
   ]
  },
  {
   "cell_type": "code",
   "execution_count": 2,
   "metadata": {},
   "outputs": [],
   "source": [
    "client = MongoClient(CONNECTION_STRING, tlsCAFile=certifi.where())"
   ]
  },
  {
   "cell_type": "code",
   "execution_count": 3,
   "metadata": {},
   "outputs": [],
   "source": [
    "twitter_facemasks = client.TwitterFacemasks\n",
    "twitter_lockdown = client.TwitterLockdown\n",
    "twitter_pcr = client.TwitterPCR\n",
    "twitter_pfizer = client.TwitterPfizer\n",
    "twitter_quarantine = client.TwitterQuarantine\n",
    "twitter_restrictions = client.TwitterRestrictions\n",
    "twitter_vaccine = client.TwitterVaccination"
   ]
  },
  {
   "cell_type": "code",
   "execution_count": 4,
   "metadata": {},
   "outputs": [],
   "source": [
    "facemasks_df = database_as_tweet(twitter_facemasks, \"twitter\")\n",
    "lockdown_df = database_as_tweet(twitter_lockdown, \"twitter\")\n",
    "pcr_df = database_as_tweet(twitter_pcr, \"twitter\")\n",
    "pfizer_df = database_as_tweet(twitter_pfizer, \"twitter\")\n",
    "quarantine_df = database_as_tweet(twitter_quarantine, \"twitter\")\n",
    "restrictions_df = database_as_tweet(twitter_restrictions, \"twitter\")\n",
    "vaccine_df = database_as_tweet(twitter_vaccine, \"twitter\")"
   ]
  },
  {
   "cell_type": "code",
   "execution_count": 5,
   "metadata": {},
   "outputs": [],
   "source": [
    "start = datetime.datetime.now()"
   ]
  },
  {
   "cell_type": "code",
   "execution_count": 6,
   "metadata": {},
   "outputs": [],
   "source": [
    "facemask_sentiment = facemasks_df.apply(database_as_bert, axis=1)"
   ]
  },
  {
   "cell_type": "code",
   "execution_count": 7,
   "metadata": {},
   "outputs": [],
   "source": [
    "lockdown_sentiment = lockdown_df.apply(database_as_bert, axis=1)"
   ]
  },
  {
   "cell_type": "code",
   "execution_count": 8,
   "metadata": {},
   "outputs": [],
   "source": [
    "pcr_sentiment = pcr_df.apply(database_as_bert, axis=1)"
   ]
  },
  {
   "cell_type": "code",
   "execution_count": 9,
   "metadata": {},
   "outputs": [],
   "source": [
    "pfizer_sentiment = pfizer_df.apply(database_as_bert, axis=1)"
   ]
  },
  {
   "cell_type": "code",
   "execution_count": 10,
   "metadata": {},
   "outputs": [],
   "source": [
    "quarantine_sentiment = quarantine_df.apply(database_as_bert, axis=1)"
   ]
  },
  {
   "cell_type": "code",
   "execution_count": 11,
   "metadata": {},
   "outputs": [],
   "source": [
    "restrictions_sentiment = restrictions_df.apply(database_as_bert, axis=1)"
   ]
  },
  {
   "cell_type": "code",
   "execution_count": 12,
   "metadata": {},
   "outputs": [
    {
     "name": "stderr",
     "output_type": "stream",
     "text": [
      "Token indices sequence length is longer than the specified maximum sequence length for this model (624 > 512). Running this sequence through the model will result in indexing errors\n"
     ]
    }
   ],
   "source": [
    "vaccine_sentiment = vaccine_df.apply(database_as_bert, axis=1)"
   ]
  },
  {
   "cell_type": "code",
   "execution_count": 13,
   "metadata": {},
   "outputs": [],
   "source": [
    "end = datetime.datetime.now()\n",
    "diff1 = start - end"
   ]
  },
  {
   "cell_type": "code",
   "execution_count": 14,
   "metadata": {},
   "outputs": [],
   "source": [
    "#saves vars\n",
    "with open('twitter_bert_run1', 'wb') as f:\n",
    "    dill.dump(facemask_sentiment, f)\n",
    "    dill.dump(lockdown_sentiment, f)\n",
    "    dill.dump(pcr_sentiment, f)\n",
    "    dill.dump(pfizer_sentiment, f)\n",
    "    dill.dump(quarantine_sentiment, f)\n",
    "    dill.dump(restrictions_sentiment, f)\n",
    "    dill.dump(vaccine_sentiment, f)\n",
    "    dill.dump(diff1, f)"
   ]
  },
  {
   "cell_type": "code",
   "execution_count": 15,
   "metadata": {},
   "outputs": [],
   "source": [
    "facemasks_metrics = positive_neg_count_df(facemask_sentiment)\n",
    "lockdown_metrics = positive_neg_count_df(lockdown_sentiment)\n",
    "pcr_metrics = positive_neg_count_df(pcr_sentiment)\n",
    "pfizer_metrics = positive_neg_count_df(pfizer_sentiment)\n",
    "quarantine_metrics = positive_neg_count_df(quarantine_sentiment)\n",
    "restrictions_metrics = positive_neg_count_df(restrictions_sentiment)\n",
    "vaccine_metrics = positive_neg_count_df(vaccine_sentiment)"
   ]
  },
  {
   "cell_type": "code",
   "execution_count": 16,
   "metadata": {},
   "outputs": [],
   "source": [
    "dpts1 = sentiment_dpts(facemasks_metrics, lockdown_metrics, pcr_metrics,\\\n",
    "        pfizer_metrics, quarantine_metrics, restrictions_metrics, vaccine_metrics)"
   ]
  },
  {
   "cell_type": "code",
   "execution_count": 17,
   "metadata": {},
   "outputs": [
    {
     "data": {
      "text/plain": [
       "<Figure size 432x288 with 0 Axes>"
      ]
     },
     "metadata": {},
     "output_type": "display_data"
    },
    {
     "data": {
      "image/png": "[encoded data removed]",
      "text/plain": [
       "<Figure size 1296x720 with 1 Axes>"
      ]
     },
     "metadata": {
      "needs_background": "light"
     },
     "output_type": "display_data"
    }
   ],
   "source": [
    "plot_run_sentiment(dpts1, \"twitter_bert1.png\", \"Twitter Bert Run 1 Sentiment\")"
   ]
  },
  {
   "cell_type": "markdown",
   "metadata": {},
   "source": [
    "Sentiment for Twitter Run 2"
   ]
  },
  {
   "cell_type": "code",
   "execution_count": 18,
   "metadata": {},
   "outputs": [],
   "source": [
    "client2 = MongoClient(CONNECTION_STRING_JAN_1, tlsCAFile=certifi.where())"
   ]
  },
  {
   "cell_type": "code",
   "execution_count": 19,
   "metadata": {},
   "outputs": [],
   "source": [
    "twitter_facemasks_2 = client2.TwitterFacemask2\n",
    "twitter_lockdown_2 = client2.TwitterLockdown2\n",
    "twitter_pcr_2 = client2.TwitterPCR2\n",
    "twitter_pfizer_2 = client2.TwitterPfizer2\n",
    "twitter_quarantine_2 = client2.TwitterQuarantine2\n",
    "twitter_restrictions_2 = client2.TwitterRestrictions2\n",
    "twitter_vaccine_2 = client2.TwitterVaccination2"
   ]
  },
  {
   "cell_type": "code",
   "execution_count": 20,
   "metadata": {},
   "outputs": [],
   "source": [
    "facemasks2_df = database_as_tweet(twitter_facemasks_2, \"twitter\")\n",
    "lockdown2_df = database_as_tweet(twitter_lockdown_2, \"twitter\")\n",
    "pcr2_df = database_as_tweet(twitter_pcr_2, \"twitter\")\n",
    "pfizer2_df = database_as_tweet(twitter_pfizer_2, \"twitter\")\n",
    "quarantine2_df = database_as_tweet(twitter_quarantine_2, \"twitter\")\n",
    "restrictions2_df = database_as_tweet(twitter_restrictions_2, \"twitter\")\n",
    "vaccine2_df = database_as_tweet(twitter_vaccine_2, \"twitter\")"
   ]
  },
  {
   "cell_type": "code",
   "execution_count": 21,
   "metadata": {},
   "outputs": [],
   "source": [
    "start = datetime.datetime.now()"
   ]
  },
  {
   "cell_type": "code",
   "execution_count": 22,
   "metadata": {},
   "outputs": [],
   "source": [
    "facemask2_sentiment = facemasks2_df.apply(database_as_bert, axis=1)"
   ]
  },
  {
   "cell_type": "code",
   "execution_count": 23,
   "metadata": {},
   "outputs": [],
   "source": [
    "lockdown2_sentiment = lockdown2_df.apply(database_as_bert, axis=1)"
   ]
  },
  {
   "cell_type": "code",
   "execution_count": 24,
   "metadata": {},
   "outputs": [],
   "source": [
    "pcr2_sentiment = pcr2_df.apply(database_as_bert, axis=1)"
   ]
  },
  {
   "cell_type": "code",
   "execution_count": 25,
   "metadata": {},
   "outputs": [],
   "source": [
    "pfizer2_sentiment = pfizer2_df.apply(database_as_bert, axis=1)"
   ]
  },
  {
   "cell_type": "code",
   "execution_count": 26,
   "metadata": {},
   "outputs": [],
   "source": [
    "quarantine2_sentiment = quarantine2_df.apply(database_as_bert, axis=1)"
   ]
  },
  {
   "cell_type": "code",
   "execution_count": 27,
   "metadata": {},
   "outputs": [],
   "source": [
    "restrictions2_sentiment = restrictions2_df.apply(database_as_bert, axis=1)"
   ]
  },
  {
   "cell_type": "code",
   "execution_count": 28,
   "metadata": {},
   "outputs": [],
   "source": [
    "vaccine2_sentiment = vaccine2_df.apply(database_as_bert, axis=1)"
   ]
  },
  {
   "cell_type": "code",
   "execution_count": 29,
   "metadata": {},
   "outputs": [],
   "source": [
    "end = datetime.datetime.now()\n",
    "diff2 = start - end"
   ]
  },
  {
   "cell_type": "code",
   "execution_count": 30,
   "metadata": {},
   "outputs": [],
   "source": [
    "with open('twitter_bert_run2', 'wb') as f:\n",
    "    dill.dump(facemask2_sentiment, f)\n",
    "    dill.dump(lockdown2_sentiment, f)\n",
    "    dill.dump(pcr2_sentiment, f)\n",
    "    dill.dump(pfizer2_sentiment, f)\n",
    "    dill.dump(quarantine2_sentiment, f)\n",
    "    dill.dump(restrictions2_sentiment, f)\n",
    "    dill.dump(vaccine2_sentiment, f)\n",
    "    dill.dump(diff2, f)"
   ]
  },
  {
   "cell_type": "code",
   "execution_count": 31,
   "metadata": {},
   "outputs": [],
   "source": [
    "facemasks2_metrics = positive_neg_count_df(facemask2_sentiment)\n",
    "lockdown2_metrics = positive_neg_count_df(lockdown2_sentiment)\n",
    "pcr2_metrics = positive_neg_count_df(pcr2_sentiment)\n",
    "pfizer2_metrics = positive_neg_count_df(pfizer2_sentiment)\n",
    "quarantine2_metrics = positive_neg_count_df(quarantine2_sentiment)\n",
    "restrictions2_metrics = positive_neg_count_df(restrictions2_sentiment)\n",
    "vaccine2_metrics = positive_neg_count_df(vaccine2_sentiment)"
   ]
  },
  {
   "cell_type": "code",
   "execution_count": 32,
   "metadata": {},
   "outputs": [],
   "source": [
    "dpts2 = sentiment_dpts(facemasks2_metrics, lockdown2_metrics, pcr2_metrics,\\\n",
    "        pfizer2_metrics, quarantine2_metrics, restrictions2_metrics, vaccine2_metrics)"
   ]
  },
  {
   "cell_type": "code",
   "execution_count": 33,
   "metadata": {},
   "outputs": [
    {
     "data": {
      "text/plain": [
       "<Figure size 432x288 with 0 Axes>"
      ]
     },
     "metadata": {},
     "output_type": "display_data"
    },
    {
     "data": {
      "image/png": "[encoded data removed]",
      "text/plain": [
       "<Figure size 1296x720 with 1 Axes>"
      ]
     },
     "metadata": {
      "needs_background": "light"
     },
     "output_type": "display_data"
    }
   ],
   "source": [
    "plot_run_sentiment(dpts2, \"twitter_bert2.png\", \"Twitter Bert Run 2 Sentiment\")"
   ]
  },
  {
   "cell_type": "markdown",
   "metadata": {},
   "source": [
    "Sentiment for Twitter Run 3"
   ]
  },
  {
   "cell_type": "code",
   "execution_count": 34,
   "metadata": {},
   "outputs": [],
   "source": [
    "client3 = MongoClient(CONNECTION_STRING_JAN_2, tlsCAFile=certifi.where())"
   ]
  },
  {
   "cell_type": "code",
   "execution_count": 35,
   "metadata": {},
   "outputs": [],
   "source": [
    "twitter_facemasks_3 = client3.TwitterFacemask3\n",
    "twitter_lockdown_3 = client3.TwitterLockdown3\n",
    "twitter_pcr_3 = client3.TwitterPCR3\n",
    "twitter_pfizer_3 = client3.TwitterPfizer3\n",
    "twitter_quarantine_3 = client3.TwitterQuarantine3\n",
    "twitter_restrictions_3 = client3.TwitterRestrictions3\n",
    "twitter_vaccine_3 = client3.TwitterVaccine3"
   ]
  },
  {
   "cell_type": "code",
   "execution_count": 36,
   "metadata": {},
   "outputs": [],
   "source": [
    "facemasks3_df = database_as_tweet(twitter_facemasks_3, \"twitter\")\n",
    "lockdown3_df = database_as_tweet(twitter_lockdown_3, \"twitter\")\n",
    "pcr3_df = database_as_tweet(twitter_pcr_3, \"twitter\")\n",
    "pfizer3_df = database_as_tweet(twitter_pfizer_3, \"twitter\")\n",
    "quarantine3_df = database_as_tweet(twitter_quarantine_3, \"twitter\")\n",
    "restrictions3_df = database_as_tweet(twitter_restrictions_3, \"twitter\")\n",
    "vaccine3_df = database_as_tweet(twitter_vaccine_3, \"twitter\")"
   ]
  },
  {
   "cell_type": "code",
   "execution_count": 37,
   "metadata": {},
   "outputs": [],
   "source": [
    "start = datetime.datetime.now()"
   ]
  },
  {
   "cell_type": "code",
   "execution_count": 38,
   "metadata": {},
   "outputs": [],
   "source": [
    "facemask3_sentiment = facemasks3_df.apply(database_as_bert, axis=1)"
   ]
  },
  {
   "cell_type": "code",
   "execution_count": 39,
   "metadata": {},
   "outputs": [],
   "source": [
    "lockdown3_sentiment = lockdown3_df.apply(database_as_bert, axis=1)"
   ]
  },
  {
   "cell_type": "code",
   "execution_count": 40,
   "metadata": {},
   "outputs": [],
   "source": [
    "pcr3_sentiment = pcr3_df.apply(database_as_bert, axis=1)"
   ]
  },
  {
   "cell_type": "code",
   "execution_count": 41,
   "metadata": {},
   "outputs": [],
   "source": [
    "pfizer3_sentiment = pfizer3_df.apply(database_as_bert, axis=1)"
   ]
  },
  {
   "cell_type": "code",
   "execution_count": 42,
   "metadata": {},
   "outputs": [],
   "source": [
    "quarantine3_sentiment = quarantine3_df.apply(database_as_bert, axis=1)"
   ]
  },
  {
   "cell_type": "code",
   "execution_count": 43,
   "metadata": {},
   "outputs": [],
   "source": [
    "restrictions3_sentiment = restrictions3_df.apply(database_as_bert, axis=1)"
   ]
  },
  {
   "cell_type": "code",
   "execution_count": 44,
   "metadata": {},
   "outputs": [],
   "source": [
    "vaccine3_sentiment = vaccine3_df.apply(database_as_bert, axis=1)"
   ]
  },
  {
   "cell_type": "code",
   "execution_count": 45,
   "metadata": {},
   "outputs": [],
   "source": [
    "end = datetime.datetime.now()\n",
    "diff3 = start - end"
   ]
  },
  {
   "cell_type": "code",
   "execution_count": 46,
   "metadata": {},
   "outputs": [],
   "source": [
    "with open('twitter_bert_run3', 'wb') as f:\n",
    "    dill.dump(facemask3_sentiment, f)\n",
    "    dill.dump(lockdown3_sentiment, f)\n",
    "    dill.dump(pcr3_sentiment, f)\n",
    "    dill.dump(pfizer3_sentiment, f)\n",
    "    dill.dump(quarantine3_sentiment, f)\n",
    "    dill.dump(restrictions3_sentiment, f)\n",
    "    dill.dump(vaccine3_sentiment, f)\n",
    "    dill.dump(diff3, f)"
   ]
  },
  {
   "cell_type": "code",
   "execution_count": 47,
   "metadata": {},
   "outputs": [],
   "source": [
    "facemasks3_metrics = positive_neg_count_df(facemask3_sentiment)\n",
    "lockdown3_metrics = positive_neg_count_df(lockdown3_sentiment)\n",
    "pcr3_metrics = positive_neg_count_df(pcr3_sentiment)\n",
    "pfizer3_metrics = positive_neg_count_df(pfizer3_sentiment)\n",
    "quarantine3_metrics = positive_neg_count_df(quarantine3_sentiment)\n",
    "restrictions3_metrics = positive_neg_count_df(restrictions3_sentiment)\n",
    "vaccine3_metrics = positive_neg_count_df(vaccine3_sentiment)"
   ]
  },
  {
   "cell_type": "code",
   "execution_count": 48,
   "metadata": {},
   "outputs": [],
   "source": [
    "dpts3 = sentiment_dpts(facemasks3_metrics, lockdown3_metrics, pcr3_metrics,\\\n",
    "        pfizer3_metrics, quarantine3_metrics, restrictions3_metrics, vaccine3_metrics)"
   ]
  },
  {
   "cell_type": "code",
   "execution_count": 49,
   "metadata": {},
   "outputs": [
    {
     "data": {
      "text/plain": [
       "<Figure size 432x288 with 0 Axes>"
      ]
     },
     "metadata": {},
     "output_type": "display_data"
    },
    {
     "data": {
      "image/png": "[encoded data removed]",
      "text/plain": [
       "<Figure size 1296x720 with 1 Axes>"
      ]
     },
     "metadata": {
      "needs_background": "light"
     },
     "output_type": "display_data"
    }
   ],
   "source": [
    "plot_run_sentiment(dpts3, \"twitter_bert3.png\", \"Twitter Bert Run 3 Sentiment\")"
   ]
  }
 ],
 "metadata": {
  "interpreter": {
   "hash": "81845dbb79d117afed2f128a4bda775071ee668bf9e9d02bb4620ddcda801259"
  },
  "kernelspec": {
   "display_name": "Python 3.7.9 ('jup_env')",
   "language": "python",
   "name": "python3"
  },
  "language_info": {
   "codemirror_mode": {
    "name": "ipython",
    "version": 3
   },
   "file_extension": ".py",
   "mimetype": "text/x-python",
   "name": "python",
   "nbconvert_exporter": "python",
   "pygments_lexer": "ipython3",
   "version": "3.7.9"
  },
  "orig_nbformat": 4
 },
 "nbformat": 4,
 "nbformat_minor": 2
}
