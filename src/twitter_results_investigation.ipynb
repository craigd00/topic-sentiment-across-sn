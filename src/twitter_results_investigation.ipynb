{
 "cells": [
  {
   "cell_type": "code",
   "execution_count": 1,
   "metadata": {},
   "outputs": [],
   "source": [
    "from mongodbcredentials import CONNECTION_STRING\n",
    "from pymongo import MongoClient\n",
    "import certifi\n",
    "from vaderSentiment.vaderSentiment import SentimentIntensityAnalyzer"
   ]
  },
  {
   "cell_type": "code",
   "execution_count": 2,
   "metadata": {},
   "outputs": [],
   "source": [
    "client = MongoClient(CONNECTION_STRING, tlsCAFile=certifi.where())"
   ]
  },
  {
   "cell_type": "code",
   "execution_count": 3,
   "metadata": {},
   "outputs": [],
   "source": [
    "twitter_facemasks = client.TwitterFacemasks\n",
    "twitter_lockdown = client.TwitterLockdown\n",
    "twitter_pcr = client.TwitterPCR\n",
    "twitter_pfizer = client.TwitterPfizer\n",
    "twitter_quarantine = client.TwitterQuarantine\n",
    "twitter_restrictions = client.TwitterRestrictions\n",
    "twitter_vaccine = client.TwitterVaccination"
   ]
  },
  {
   "cell_type": "code",
   "execution_count": 4,
   "metadata": {},
   "outputs": [],
   "source": [
    "def get_mostcommon_posts(db):\n",
    "    top_tweets = db.SocialMediaPosts.aggregate([\n",
    "        { \"$group\": { \"_id\": \"$tweet\", \"count\": { \"$sum\": 1 }}}, \n",
    "        { \"$sort\": { \"_id.tweet\":1, \"count\": -1 }  },\n",
    "    ])\n",
    "    top_tweets = save_results(top_tweets)\n",
    "    return top_tweets[:10]"
   ]
  },
  {
   "cell_type": "code",
   "execution_count": 5,
   "metadata": {},
   "outputs": [],
   "source": [
    "def save_results(data):\n",
    "    results = []\n",
    "    for result in data:\n",
    "        dictionary = {}\n",
    "        dictionary['tweet'] = result['_id']\n",
    "        dictionary['count'] = result['count']\n",
    "        results += [dictionary]\n",
    "\n",
    "    return results"
   ]
  },
  {
   "cell_type": "code",
   "execution_count": 6,
   "metadata": {},
   "outputs": [],
   "source": [
    "analyzer = SentimentIntensityAnalyzer()"
   ]
  },
  {
   "cell_type": "code",
   "execution_count": 7,
   "metadata": {},
   "outputs": [],
   "source": [
    "def database_as_dictionary(db):\n",
    "    list_of_dicts = []\n",
    "\n",
    "    for entry in db.SocialMediaPosts.find():\n",
    "        empty = {}\n",
    "        empty['tweet'] = entry['tweet']\n",
    "\n",
    "        vs = analyzer.polarity_scores(entry['tweet'])\n",
    "        compound = vs['compound']\n",
    "  \n",
    "        if (compound >= 0.05):\n",
    "            empty['sentiment'] = 'positive'\n",
    "\n",
    "        elif (compound <= -0.05):\n",
    "            empty['sentiment'] = 'negative'\n",
    "\n",
    "        else:\n",
    "            empty['sentiment'] = 'neutral'\n",
    "\n",
    "        list_of_dicts += [empty]\n",
    "    return list_of_dicts"
   ]
  },
  {
   "cell_type": "code",
   "execution_count": 8,
   "metadata": {},
   "outputs": [],
   "source": [
    "facemasks_dict = database_as_dictionary(twitter_facemasks)\n",
    "lockdown_dict = database_as_dictionary(twitter_lockdown)\n",
    "pcr_dict = database_as_dictionary(twitter_pcr)\n",
    "pfizer_dict = database_as_dictionary(twitter_pfizer)\n",
    "quarantine_dict = database_as_dictionary(twitter_quarantine)\n",
    "restrictions_dict = database_as_dictionary(twitter_restrictions)\n",
    "vaccine_dict = database_as_dictionary(twitter_vaccine)"
   ]
  },
  {
   "cell_type": "code",
   "execution_count": 9,
   "metadata": {},
   "outputs": [],
   "source": [
    "def pos_neg_count(dictionary):\n",
    "    total_sentiment = {}\n",
    "    total_sentiment['positive'] = 0\n",
    "    total_sentiment['negative'] = 0\n",
    "    total_sentiment['neutral'] = 0\n",
    "    num_of_posts = 0\n",
    "\n",
    "    for post in dictionary:\n",
    "        num_of_posts += 1\n",
    "        if post['sentiment'] == 'positive':\n",
    "            total_sentiment['positive'] += 1\n",
    "\n",
    "        elif post['sentiment'] == 'negative':\n",
    "            total_sentiment['negative'] += 1\n",
    "\n",
    "        else:\n",
    "            total_sentiment['neutral'] += 1\n",
    "\n",
    "    total_sentiment['pos_perc'] = (total_sentiment['positive']/num_of_posts) * 100\n",
    "    total_sentiment['neg_perc'] = (total_sentiment['negative']/num_of_posts) * 100\n",
    "    total_sentiment['neu_perc'] = (total_sentiment['neutral']/num_of_posts) * 100\n",
    "    \n",
    "    return total_sentiment"
   ]
  },
  {
   "cell_type": "code",
   "execution_count": 10,
   "metadata": {},
   "outputs": [],
   "source": [
    "facemasks_sentiment = pos_neg_count(facemasks_dict)\n",
    "lockdown_sentiment = pos_neg_count(lockdown_dict)\n",
    "pcr_sentiment = pos_neg_count(pcr_dict)\n",
    "pfizer_sentiment = pos_neg_count(pfizer_dict)\n",
    "quarantine_sentiment = pos_neg_count(quarantine_dict)\n",
    "restrictions_sentiment = pos_neg_count(restrictions_dict)\n",
    "vaccine_sentiment = pos_neg_count(vaccine_dict)"
   ]
  },
  {
   "cell_type": "code",
   "execution_count": 11,
   "metadata": {},
   "outputs": [],
   "source": [
    "import matplotlib.pyplot as plt\n",
    "import numpy as np"
   ]
  },
  {
   "cell_type": "code",
   "execution_count": 12,
   "metadata": {},
   "outputs": [],
   "source": [
    "list_of_topics = ['Facemasks', 'Lockdown', 'PCR', 'Pfizer', 'Quarantine', 'Restrictions', 'Vaccine']"
   ]
  },
  {
   "cell_type": "code",
   "execution_count": 13,
   "metadata": {},
   "outputs": [],
   "source": [
    "def plot_topics(list_of_topics, data_points):\n",
    "    fig = plt.figure()\n",
    "    x_point = np.arange(7)\n",
    "    fig = plt.figure(figsize=(18, 10))\n",
    "    ax = fig.add_axes([0,0,1,1])\n",
    "    ax.bar(x_point + 0.00, data_points[0], color = 'g', width = 0.25)\n",
    "    ax.bar(x_point + 0.25, data_points[1], color = 'r', width = 0.25)\n",
    "    ax.bar(x_point + 0.50, data_points[2], color = 'b', width = 0.25)\n",
    "    ax.set_ylabel('Number of posts', fontweight='bold', fontsize=16)\n",
    "    ax.set_xlabel('Search query', fontweight='bold', fontsize=16)\n",
    "    ax.set_title(\"Sentiment amongst Twitter queries\", fontweight='bold', fontsize=20)\n",
    "    plt.xticks(x_point + 0.25, list_of_topics)\n",
    "\n",
    "    ax.legend(labels=['Positive', 'Negative', 'Neutral'])"
   ]
  },
  {
   "cell_type": "code",
   "execution_count": 14,
   "metadata": {},
   "outputs": [],
   "source": [
    "query_dpts = []\n",
    "positive = []\n",
    "negative = []\n",
    "neutral = []\n",
    "\n",
    "for sentiment in facemasks_sentiment, lockdown_sentiment, pcr_sentiment, \\\n",
    "    pfizer_sentiment, quarantine_sentiment, restrictions_sentiment, vaccine_sentiment:\n",
    "    positive += [sentiment['pos_perc']]\n",
    "    negative += [sentiment['neg_perc']]\n",
    "    neutral += [sentiment['neu_perc']]\n",
    "\n",
    "query_dpts += [positive, negative, neutral]"
   ]
  },
  {
   "cell_type": "code",
   "execution_count": 15,
   "metadata": {},
   "outputs": [
    {
     "data": {
      "text/plain": [
       "<Figure size 432x288 with 0 Axes>"
      ]
     },
     "metadata": {},
     "output_type": "display_data"
    },
    {
     "data": {
      "image/png": "[encoded data removed]",
      "text/plain": [
       "<Figure size 1296x720 with 1 Axes>"
      ]
     },
     "metadata": {
      "needs_background": "light"
     },
     "output_type": "display_data"
    }
   ],
   "source": [
    "plot_topics(list_of_topics, query_dpts)"
   ]
  }
 ],
 "metadata": {
  "interpreter": {
   "hash": "81845dbb79d117afed2f128a4bda775071ee668bf9e9d02bb4620ddcda801259"
  },
  "kernelspec": {
   "display_name": "Python 3.7.9 64-bit ('jup_env': conda)",
   "language": "python",
   "name": "python3"
  },
  "language_info": {
   "codemirror_mode": {
    "name": "ipython",
    "version": 3
   },
   "file_extension": ".py",
   "mimetype": "text/x-python",
   "name": "python",
   "nbconvert_exporter": "python",
   "pygments_lexer": "ipython3",
   "version": "3.7.9"
  },
  "orig_nbformat": 4
 },
 "nbformat": 4,
 "nbformat_minor": 2
}
