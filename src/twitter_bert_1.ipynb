{
 "cells": [
  {
   "cell_type": "code",
   "execution_count": 2,
   "metadata": {},
   "outputs": [],
   "source": [
    "from mongodbcredentials import CONNECTION_STRING\n",
    "from pymongo import MongoClient\n",
    "import certifi\n",
    "import pandas as pd\n",
    "from twitter_modules import database_as_tweet, database_as_bert, positive_neg_count_df, plot_topics"
   ]
  },
  {
   "cell_type": "code",
   "execution_count": 3,
   "metadata": {},
   "outputs": [],
   "source": [
    "client = MongoClient(CONNECTION_STRING, tlsCAFile=certifi.where())"
   ]
  },
  {
   "cell_type": "code",
   "execution_count": 4,
   "metadata": {},
   "outputs": [],
   "source": [
    "twitter_facemasks = client.TwitterFacemasks\n",
    "twitter_lockdown = client.TwitterLockdown\n",
    "twitter_pcr = client.TwitterPCR\n",
    "twitter_pfizer = client.TwitterPfizer\n",
    "twitter_quarantine = client.TwitterQuarantine\n",
    "twitter_restrictions = client.TwitterRestrictions\n",
    "twitter_vaccine = client.TwitterVaccination"
   ]
  },
  {
   "cell_type": "code",
   "execution_count": 5,
   "metadata": {},
   "outputs": [],
   "source": [
    "facemasks_dict = database_as_tweet(twitter_facemasks)\n",
    "lockdown_dict = database_as_tweet(twitter_lockdown)\n",
    "pcr_dict = database_as_tweet(twitter_pcr)\n",
    "pfizer_dict = database_as_tweet(twitter_pfizer)\n",
    "quarantine_dict = database_as_tweet(twitter_quarantine)\n",
    "restrictions_dict = database_as_tweet(twitter_restrictions)\n",
    "vaccine_dict = database_as_tweet(twitter_vaccine)\n"
   ]
  },
  {
   "cell_type": "code",
   "execution_count": 6,
   "metadata": {},
   "outputs": [],
   "source": [
    "facemasks_df = pd.DataFrame(facemasks_dict, columns=['tweet'])\n",
    "lockdown_df = pd.DataFrame(lockdown_dict, columns=['tweet'])\n",
    "pcr_df = pd.DataFrame(pcr_dict, columns=['tweet'])\n",
    "pfizer_df = pd.DataFrame(pfizer_dict, columns=['tweet'])\n",
    "quarantine_df = pd.DataFrame(quarantine_dict, columns=['tweet'])\n",
    "restrictions_df = pd.DataFrame(restrictions_dict, columns=['tweet'])\n",
    "vaccine_df = pd.DataFrame(vaccine_dict, columns=['tweet'])"
   ]
  },
  {
   "cell_type": "code",
   "execution_count": 12,
   "metadata": {},
   "outputs": [],
   "source": [
    "facemask_sentiment = facemasks_df.apply(database_as_bert, axis=1)"
   ]
  },
  {
   "cell_type": "code",
   "execution_count": 13,
   "metadata": {},
   "outputs": [],
   "source": [
    "lockdown_sentiment = lockdown_df.apply(database_as_bert, axis=1)"
   ]
  },
  {
   "cell_type": "code",
   "execution_count": 14,
   "metadata": {},
   "outputs": [],
   "source": [
    "pcr_sentiment = pcr_df.apply(database_as_bert, axis=1)"
   ]
  },
  {
   "cell_type": "code",
   "execution_count": 15,
   "metadata": {},
   "outputs": [],
   "source": [
    "pfizer_sentiment = pfizer_df.apply(database_as_bert, axis=1)"
   ]
  },
  {
   "cell_type": "code",
   "execution_count": 16,
   "metadata": {},
   "outputs": [],
   "source": [
    "quarantine_sentiment = quarantine_df.apply(database_as_bert, axis=1)"
   ]
  },
  {
   "cell_type": "code",
   "execution_count": 17,
   "metadata": {},
   "outputs": [],
   "source": [
    "restrictions_sentiment = restrictions_df.apply(database_as_bert, axis=1)"
   ]
  },
  {
   "cell_type": "code",
   "execution_count": 81,
   "metadata": {},
   "outputs": [
    {
     "name": "stdout",
     "output_type": "stream",
     "text": [
      "0\n",
      "39\n",
      "1\n",
      "30\n",
      "2\n",
      "43\n",
      "3\n",
      "43\n",
      "4\n",
      "38\n"
     ]
    }
   ],
   "source": [
    "vaccine_sentiment = vaccine_df.apply(database_as_bert, axis=1)"
   ]
  },
  {
   "cell_type": "code",
   "execution_count": null,
   "metadata": {},
   "outputs": [],
   "source": [
    "facemasks_sentiment = positive_neg_count_df(facemask_sentiment)\n",
    "lockdown_sentiment = positive_neg_count_df(lockdown_sentiment)\n",
    "pcr_sentiment = positive_neg_count_df(pcr_sentiment)\n",
    "pfizer_sentiment = positive_neg_count_df(pfizer_sentiment)\n",
    "quarantine_sentiment = positive_neg_count_df(quarantine_sentiment)\n",
    "restrictions_sentiment = positive_neg_count_df(restrictions_sentiment)\n",
    "vaccine_sentiment = positive_neg_count_df(vaccine_sentiment)"
   ]
  },
  {
   "cell_type": "code",
   "execution_count": null,
   "metadata": {},
   "outputs": [],
   "source": [
    "list_of_topics = ['Facemasks', 'Lockdown', 'PCR', 'Pfizer', 'Quarantine', 'Restrictions', 'Vaccine']"
   ]
  },
  {
   "cell_type": "code",
   "execution_count": null,
   "metadata": {},
   "outputs": [],
   "source": [
    "query_dpts = []\n",
    "positive = []\n",
    "negative = []\n",
    "neutral = []\n",
    "\n",
    "for sentiment in facemasks_sentiment, lockdown_sentiment, pcr_sentiment, \\\n",
    "    pfizer_sentiment, quarantine_sentiment, restrictions_sentiment, vaccine_sentiment:\n",
    "    positive += [sentiment['pos_perc']]\n",
    "    negative += [sentiment['neg_perc']]\n",
    "    neutral += [sentiment['neu_perc']]\n",
    "\n",
    "query_dpts += [positive, negative, neutral]"
   ]
  },
  {
   "cell_type": "code",
   "execution_count": null,
   "metadata": {},
   "outputs": [],
   "source": [
    "plot_topics(list_of_topics, query_dpts)"
   ]
  }
 ],
 "metadata": {
  "interpreter": {
   "hash": "81845dbb79d117afed2f128a4bda775071ee668bf9e9d02bb4620ddcda801259"
  },
  "kernelspec": {
   "display_name": "Python 3.7.9 ('jup_env')",
   "language": "python",
   "name": "python3"
  },
  "language_info": {
   "codemirror_mode": {
    "name": "ipython",
    "version": 3
   },
   "file_extension": ".py",
   "mimetype": "text/x-python",
   "name": "python",
   "nbconvert_exporter": "python",
   "pygments_lexer": "ipython3",
   "version": "3.7.9"
  },
  "orig_nbformat": 4
 },
 "nbformat": 4,
 "nbformat_minor": 2
}
