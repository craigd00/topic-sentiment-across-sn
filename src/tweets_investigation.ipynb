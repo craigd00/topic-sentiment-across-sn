{
 "cells": [
  {
   "cell_type": "code",
   "execution_count": 1,
   "metadata": {},
   "outputs": [],
   "source": [
    "import matplotlib.pyplot as plt\n",
    "import numpy as np\n",
    "from shared_modules import load_dill_vars, get_times, graph_time, get_library_results\n"
   ]
  },
  {
   "cell_type": "code",
   "execution_count": 2,
   "metadata": {},
   "outputs": [],
   "source": [
    "twitter_vars = load_dill_vars(\"twitter\")\n",
    "reddit_vars = load_dill_vars(\"reddit\")"
   ]
  },
  {
   "cell_type": "code",
   "execution_count": 6,
   "metadata": {},
   "outputs": [],
   "source": [
    "tblob_pcr = twitter_vars[\"textblob\"][\"run1\"][\"pcr\"]"
   ]
  },
  {
   "cell_type": "code",
   "execution_count": 17,
   "metadata": {},
   "outputs": [],
   "source": [
    "def positive_neg_neutral(df, lib):\n",
    "    pos = df[df[\"sentiment\"] == \"positive\"]\n",
    "    neg = df[df[\"sentiment\"] == \"negative\"]\n",
    "    neu = df[df[\"sentiment\"] == \"neutral\"]\n",
    "    print(lib + \" Results...\")\n",
    "    print(\"Positive: \", len(pos)/len(df)*100)\n",
    "    print(\"Negative: \", len(neg)/len(df)*100)\n",
    "    print(\"Neutral: \", len(neu)/len(df)*100)"
   ]
  },
  {
   "cell_type": "code",
   "execution_count": 18,
   "metadata": {},
   "outputs": [
    {
     "name": "stdout",
     "output_type": "stream",
     "text": [
      "afinn Results...\n",
      "Positive:  32.58690350525971\n",
      "Negative:  37.45859571215375\n",
      "Neutral:  29.95450078258654\n",
      "bert Results...\n",
      "Positive:  15.052597095329961\n",
      "Negative:  43.47031631055946\n",
      "Neutral:  41.47708659411058\n",
      "textblob Results...\n",
      "Positive:  40.455720161613215\n",
      "Negative:  18.6073599534088\n",
      "Neutral:  40.93691988497798\n",
      "vader Results...\n",
      "Positive:  41.05266989407782\n",
      "Negative:  35.228042077676264\n",
      "Neutral:  23.719288028245913\n"
     ]
    }
   ],
   "source": [
    "for library in twitter_vars:\n",
    "    for run in twitter_vars[library]:\n",
    "        for term in twitter_vars[library][run]:\n",
    "            if term == \"lockdown\" and run == \"run1\":\n",
    "                positive_neg_neutral(twitter_vars[library][run][term], library)"
   ]
  },
  {
   "cell_type": "code",
   "execution_count": 19,
   "metadata": {},
   "outputs": [
    {
     "name": "stdout",
     "output_type": "stream",
     "text": [
      "afinn Results...\n",
      "Positive:  30.272826699933354\n",
      "Negative:  43.435668267341114\n",
      "Neutral:  26.29150503272553\n",
      "bert Results...\n",
      "Positive:  9.082403404138969\n",
      "Negative:  51.784951381649776\n",
      "Neutral:  39.13264521421125\n",
      "textblob Results...\n",
      "Positive:  42.18005024181007\n",
      "Negative:  20.20652118187877\n",
      "Neutral:  37.61342857631116\n",
      "vader Results...\n",
      "Positive:  38.526411128390045\n",
      "Negative:  39.175795068099866\n",
      "Neutral:  22.29779380351009\n"
     ]
    }
   ],
   "source": [
    "for library in twitter_vars:\n",
    "    for run in twitter_vars[library]:\n",
    "        for term in twitter_vars[library][run]:\n",
    "            if term == \"vaccine\" and run == \"run1\":\n",
    "                positive_neg_neutral(twitter_vars[library][run][term], library)"
   ]
  }
 ],
 "metadata": {
  "interpreter": {
   "hash": "4ebbf97e9f9e26eae94b47b69709ce5d0a0e95bc9af71f20dffa41bd870b01f6"
  },
  "kernelspec": {
   "display_name": "Python 3.7.9 ('topic_sentiment_across_sn')",
   "language": "python",
   "name": "python3"
  },
  "language_info": {
   "codemirror_mode": {
    "name": "ipython",
    "version": 3
   },
   "file_extension": ".py",
   "mimetype": "text/x-python",
   "name": "python",
   "nbconvert_exporter": "python",
   "pygments_lexer": "ipython3",
   "version": "3.7.9"
  },
  "orig_nbformat": 4
 },
 "nbformat": 4,
 "nbformat_minor": 2
}
