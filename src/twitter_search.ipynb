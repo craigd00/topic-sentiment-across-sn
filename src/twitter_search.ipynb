{
 "cells": [
  {
   "cell_type": "code",
   "execution_count": null,
   "metadata": {},
   "outputs": [],
   "source": [
    "import tweepy\n",
    "import json\n",
    "from pymongo import MongoClient\n",
    "from datetime import datetime\n",
    "import time\n",
    "import sys\n",
    "\n",
    "import emoji\n",
    "import re"
   ]
  },
  {
   "cell_type": "code",
   "execution_count": null,
   "metadata": {},
   "outputs": [],
   "source": [
    "from twittercredentials import consumer_key, consumer_secret, access_token, access_token_secret"
   ]
  },
  {
   "cell_type": "code",
   "execution_count": null,
   "metadata": {},
   "outputs": [],
   "source": [
    "auth = tweepy.OAuthHandler(consumer_key, consumer_secret )\n",
    "auth.set_access_token(access_token, access_token_secret)\n",
    "api = tweepy.API(auth, wait_on_rate_limit=True)\n",
    "if (not api):\n",
    "    print('Can\\'t authenticate')\n",
    "    print('failed cosumeer id ----------: ', consumer_key )"
   ]
  },
  {
   "cell_type": "code",
   "execution_count": null,
   "metadata": {},
   "outputs": [],
   "source": [
    "# entities based on keywords chosen from clustering\n",
    "query = \"scotrail\"  #test query at the moment to test"
   ]
  },
  {
   "cell_type": "code",
   "execution_count": null,
   "metadata": {},
   "outputs": [],
   "source": [
    "count = 100 # number of tweets to grab in one go\n",
    "\n",
    "last_id = -1    # used to update last id to gather tweets from different users\n",
    "new_tweets = True   # used to go round in loop\n",
    "counter = -1    # counter to update times we have gathered data"
   ]
  },
  {
   "cell_type": "code",
   "execution_count": null,
   "metadata": {},
   "outputs": [],
   "source": [
    "storing_tweets = []"
   ]
  },
  {
   "cell_type": "code",
   "execution_count": null,
   "metadata": {},
   "outputs": [],
   "source": [
    "while new_tweets:\n",
    "        counter+=1  # adds one to the counter everytime we try and search for tweets\n",
    "\n",
    "        try:\n",
    "            if(counter < 180):  #this is so we do not go over 180 requests as this is Rest API limit\n",
    "                new_tweets = api.search(q=query, count=count, lang=\"en\", tweet_mode='extended', max_id=str(last_id - 1))\n",
    "         \n",
    "                if not new_tweets:  # makes sure there is tweets to look at\n",
    "                    break\n",
    "          \n",
    "                for t in new_tweets:\n",
    "                   \n",
    "                    t = json.dumps(t._json) #   Rest API has to load json differently\n",
    "                    tweet = json.loads(t)\n",
    "\n",
    "                    retweet = False\n",
    "\n",
    "                    if tweet['retweeted'] or tweet['full_text'].startswith('RT') == True:\n",
    "                        retweet = True\n",
    "\n",
    "                    if tweet['truncated']:\n",
    "                        text = tweet['extended_tweet']['full_text']\n",
    "                    else:\n",
    "                        text = tweet['full_text']\n",
    "\n",
    "                    if (retweet == False) and (text not in storing_tweets): #no point adding same text to list, will encourage bot tweets etc\n",
    "                        storing_tweets.append(text)\n",
    "                     \n",
    "                last_id = new_tweets[-1].id\n",
    "            else:\n",
    "                print(\"15 minute delay\")\n",
    "                break   #just so can test data atm\n",
    "                counter = 0 # sets counter back to zero\n",
    "                time.sleep(15*60)   # sleeps for 15 mins to comply with regulations\n",
    "                \n",
    "        except tweepy.TweepError as e:\n",
    "            break\n",
    "            "
   ]
  },
  {
   "cell_type": "code",
   "execution_count": null,
   "metadata": {},
   "outputs": [],
   "source": [
    "print(storing_tweets)"
   ]
  },
  {
   "cell_type": "markdown",
   "metadata": {},
   "source": [
    "## VADER Sentiment Analysis with twitter, testing obviously"
   ]
  },
  {
   "cell_type": "code",
   "execution_count": null,
   "metadata": {},
   "outputs": [],
   "source": [
    "from vaderSentiment.vaderSentiment import SentimentIntensityAnalyzer\n",
    "analyzer = SentimentIntensityAnalyzer()\n",
    "# Example code:\n",
    "\n",
    "f = open(\"tweet_scores.txt\", \"x\", encoding=\"utf-8\")\n",
    "\n",
    "for twitter_post in storing_tweets:\n",
    "  vs = analyzer.polarity_scores(twitter_post)\n",
    "  compound = vs['compound']\n",
    "  sentiment_score = compound * 100\n",
    "  print(\"The post '\" + twitter_post + \"' has a sentiment score of: \" + (str(sentiment_score)) + \"%\")\n",
    "  \n",
    "  if (compound >= 0.05):\n",
    "    print(\"The post was POSITIVE\")\n",
    "    f.write(\"\\n\" + twitter_post + \": RESULT = POSITIVE\")\n",
    "  elif (compound <= -0.05):\n",
    "    print(\"The post was NEGATIVE\")\n",
    "    f.write(\"\\n\" + twitter_post + \": RESULT = NEGATIVE\")\n",
    "  else:\n",
    "    print(\"The post was NEUTRAL\")\n",
    "    f.write(\"\\n\" + twitter_post + \": RESULT = NEUTRAL\")\n",
    "  print(\"{:-<65} {}\".format(twitter_post, str(vs)))\n",
    "\n",
    "f.close()"
   ]
  }
 ],
 "metadata": {
  "interpreter": {
   "hash": "81845dbb79d117afed2f128a4bda775071ee668bf9e9d02bb4620ddcda801259"
  },
  "kernelspec": {
   "display_name": "Python 3.7.9 64-bit ('jup_env': conda)",
   "name": "python3"
  },
  "language_info": {
   "codemirror_mode": {
    "name": "ipython",
    "version": 3
   },
   "file_extension": ".py",
   "mimetype": "text/x-python",
   "name": "python",
   "nbconvert_exporter": "python",
   "pygments_lexer": "ipython3",
   "version": "3.7.9"
  },
  "orig_nbformat": 4
 },
 "nbformat": 4,
 "nbformat_minor": 2
}
