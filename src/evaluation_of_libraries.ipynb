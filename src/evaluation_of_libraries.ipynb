{
 "cells": [
  {
   "cell_type": "code",
   "execution_count": 15,
   "metadata": {},
   "outputs": [],
   "source": [
    "import pandas as pd\n",
    "from sklearn.metrics import confusion_matrix, ConfusionMatrixDisplay, classification_report \n",
    "import string\n",
    "import re\n",
    "import matplotlib.pyplot as plt\n",
    "from shared_modules import database_as_afinn, database_as_bert, database_as_textblob, database_as_vader, process_emoji"
   ]
  },
  {
   "cell_type": "markdown",
   "metadata": {},
   "source": [
    "Loads CSV file into pandas"
   ]
  },
  {
   "cell_type": "code",
   "execution_count": 2,
   "metadata": {},
   "outputs": [],
   "source": [
    "test2 = pd.read_csv(\"csv_test_files/covid-19_vaccine_tweets_with_sentiment.csv\", encoding=\"ISO-8859-1\")"
   ]
  },
  {
   "cell_type": "markdown",
   "metadata": {},
   "source": [
    "Replaces the numbered labels with sentiment labels"
   ]
  },
  {
   "cell_type": "code",
   "execution_count": 3,
   "metadata": {},
   "outputs": [],
   "source": [
    "test2 = test2.replace(1, \"negative\")\n",
    "test2 = test2.replace(2, \"neutral\")\n",
    "test2 = test2.replace(3, \"positive\")"
   ]
  },
  {
   "cell_type": "markdown",
   "metadata": {},
   "source": [
    "Gets input for the functions without the sentiment"
   ]
  },
  {
   "cell_type": "code",
   "execution_count": 4,
   "metadata": {},
   "outputs": [],
   "source": [
    "afinn_inputs = pd.DataFrame(test2[\"tweet_text\"])\n",
    "bert_inputs = pd.DataFrame(test2[\"tweet_text\"])\n",
    "textblob_inputs = pd.DataFrame(test2[\"tweet_text\"])\n",
    "vader_inputs = pd.DataFrame(test2[\"tweet_text\"])"
   ]
  },
  {
   "cell_type": "markdown",
   "metadata": {},
   "source": [
    "Applies the sentiment functions to the dataset"
   ]
  },
  {
   "cell_type": "code",
   "execution_count": 20,
   "metadata": {},
   "outputs": [],
   "source": [
    "afinn_inputs[\"label\"] = afinn_inputs[\"tweet_text\"].apply(database_as_afinn)\n",
    "bert_inputs[\"label\"] = bert_inputs[\"tweet_text\"].apply(database_as_bert)\n",
    "textblob_inputs[\"label\"] = textblob_inputs[\"tweet_text\"].apply(database_as_textblob)\n",
    "vader_inputs[\"label\"] = vader_inputs[\"tweet_text\"].apply(database_as_vader)"
   ]
  },
  {
   "cell_type": "markdown",
   "metadata": {},
   "source": [
    "Calculate model accuracy"
   ]
  },
  {
   "cell_type": "code",
   "execution_count": 6,
   "metadata": {},
   "outputs": [],
   "source": [
    "def model_accuracy(input, name):\n",
    "    test_labels = test2[\"label\"].to_list()\n",
    "    input_labels = input[\"label\"].to_list()\n",
    "    print(\"The report for \" + name + \":\")\n",
    "    print(classification_report(test_labels, input_labels, digits=3))"
   ]
  },
  {
   "cell_type": "code",
   "execution_count": 123,
   "metadata": {},
   "outputs": [
    {
     "name": "stdout",
     "output_type": "stream",
     "text": [
      "The report for Afinn:\n",
      "              precision    recall  f1-score   support\n",
      "\n",
      "    negative      0.165     0.564     0.256       420\n",
      "     neutral      0.698     0.412     0.518      3680\n",
      "    positive      0.445     0.561     0.496      1900\n",
      "\n",
      "    accuracy                          0.470      6000\n",
      "   macro avg      0.436     0.512     0.423      6000\n",
      "weighted avg      0.581     0.470     0.493      6000\n",
      "\n"
     ]
    }
   ],
   "source": [
    "model_accuracy(afinn_inputs, \"Afinn\")"
   ]
  },
  {
   "cell_type": "code",
   "execution_count": 124,
   "metadata": {},
   "outputs": [
    {
     "name": "stdout",
     "output_type": "stream",
     "text": [
      "The report for BERT:\n",
      "              precision    recall  f1-score   support\n",
      "\n",
      "    negative      0.235     0.733     0.356       420\n",
      "     neutral      0.740     0.645     0.689      3680\n",
      "    positive      0.686     0.536     0.602      1900\n",
      "\n",
      "    accuracy                          0.617      6000\n",
      "   macro avg      0.554     0.638     0.549      6000\n",
      "weighted avg      0.688     0.617     0.638      6000\n",
      "\n"
     ]
    }
   ],
   "source": [
    "model_accuracy(bert_inputs, \"BERT\")"
   ]
  },
  {
   "cell_type": "code",
   "execution_count": 125,
   "metadata": {},
   "outputs": [
    {
     "name": "stdout",
     "output_type": "stream",
     "text": [
      "The report for TextBlob:\n",
      "              precision    recall  f1-score   support\n",
      "\n",
      "    negative      0.147     0.257     0.187       420\n",
      "     neutral      0.674     0.440     0.532      3680\n",
      "    positive      0.399     0.602     0.480      1900\n",
      "\n",
      "    accuracy                          0.478      6000\n",
      "   macro avg      0.407     0.433     0.400      6000\n",
      "weighted avg      0.550     0.478     0.492      6000\n",
      "\n"
     ]
    }
   ],
   "source": [
    "model_accuracy(textblob_inputs, \"TextBlob\")"
   ]
  },
  {
   "cell_type": "code",
   "execution_count": 126,
   "metadata": {},
   "outputs": [
    {
     "name": "stdout",
     "output_type": "stream",
     "text": [
      "The report for VADER:\n",
      "              precision    recall  f1-score   support\n",
      "\n",
      "    negative      0.162     0.521     0.248       420\n",
      "     neutral      0.717     0.379     0.496      3680\n",
      "    positive      0.431     0.613     0.506      1900\n",
      "\n",
      "    accuracy                          0.463      6000\n",
      "   macro avg      0.437     0.505     0.417      6000\n",
      "weighted avg      0.587     0.463     0.482      6000\n",
      "\n"
     ]
    }
   ],
   "source": [
    "model_accuracy(vader_inputs, \"VADER\")"
   ]
  },
  {
   "cell_type": "code",
   "execution_count": 99,
   "metadata": {},
   "outputs": [],
   "source": [
    "def create_confusion_matrix(title, input_labels):\n",
    "    matrix = confusion_matrix(test2[\"label\"].to_list(), input_labels[\"label\"].to_list())\n",
    "    cmd = ConfusionMatrixDisplay(matrix, display_labels=['Negative', 'Neutral', 'Positive'])\n",
    "    fig, ax = plt.subplots(figsize=(9,9))\n",
    "    cmd.plot(ax=ax)\n",
    "    plt.title(title.capitalize() + \" Confusion Matrix\", weight=\"bold\")\n",
    "    plt.savefig(\"confusion_matrices/\" + title + \".png\")\n"
   ]
  },
  {
   "cell_type": "code",
   "execution_count": 100,
   "metadata": {},
   "outputs": [
    {
     "data": {
      "image/png": "[encoded data removed]",
      "text/plain": [
       "<Figure size 648x648 with 2 Axes>"
      ]
     },
     "metadata": {
      "needs_background": "light"
     },
     "output_type": "display_data"
    }
   ],
   "source": [
    "create_confusion_matrix(\"afinn\", afinn_inputs)"
   ]
  },
  {
   "cell_type": "code",
   "execution_count": 101,
   "metadata": {},
   "outputs": [
    {
     "data": {
      "image/png": "[encoded data removed]",
      "text/plain": [
       "<Figure size 648x648 with 2 Axes>"
      ]
     },
     "metadata": {
      "needs_background": "light"
     },
     "output_type": "display_data"
    }
   ],
   "source": [
    "create_confusion_matrix(\"bert\", bert_inputs)"
   ]
  },
  {
   "cell_type": "code",
   "execution_count": 102,
   "metadata": {},
   "outputs": [
    {
     "data": {
      "image/png": "[encoded data removed]",
      "text/plain": [
       "<Figure size 648x648 with 2 Axes>"
      ]
     },
     "metadata": {
      "needs_background": "light"
     },
     "output_type": "display_data"
    }
   ],
   "source": [
    "create_confusion_matrix(\"textblob\", textblob_inputs)"
   ]
  },
  {
   "cell_type": "code",
   "execution_count": 103,
   "metadata": {},
   "outputs": [
    {
     "data": {
      "image/png": "[encoded data removed]",
      "text/plain": [
       "<Figure size 648x648 with 2 Axes>"
      ]
     },
     "metadata": {
      "needs_background": "light"
     },
     "output_type": "display_data"
    }
   ],
   "source": [
    "create_confusion_matrix(\"vader\", vader_inputs)"
   ]
  },
  {
   "cell_type": "markdown",
   "metadata": {},
   "source": [
    "Test how preprocessing affects results"
   ]
  },
  {
   "cell_type": "markdown",
   "metadata": {},
   "source": [
    "Process taken from https://medium.com/analytics-vidhya/basic-tweet-preprocessing-method-with-python-56b4e53854a1"
   ]
  },
  {
   "cell_type": "code",
   "execution_count": 38,
   "metadata": {},
   "outputs": [
    {
     "name": "stderr",
     "output_type": "stream",
     "text": [
      "[nltk_data] Downloading package punkt to\n",
      "[nltk_data]     C:\\Users\\craig\\AppData\\Roaming\\nltk_data...\n",
      "[nltk_data]   Package punkt is already up-to-date!\n"
     ]
    }
   ],
   "source": [
    "import nltk\n",
    "nltk.download('punkt')\n",
    "from nltk.tokenize import word_tokenize\n",
    "from nltk.corpus import stopwords"
   ]
  },
  {
   "cell_type": "code",
   "execution_count": 49,
   "metadata": {},
   "outputs": [],
   "source": [
    "def preprocessing(post):\n",
    "\n",
    "    stop_words = set(stopwords.words('english'))        # sets stop words\n",
    "    text = process_emoji(post)      # removes emojis\n",
    "    removed_punctuation = [char for char in text if char not in string.punctuation]     # removes punctuation\n",
    "    removed_punctuation = ''.join(removed_punctuation)\n",
    "\n",
    "    lowercase = removed_punctuation.lower()     # lowers text\n",
    "\n",
    "    url_remove = re.sub('((www\\.[^\\s]+)|(https?://[^\\s]+)|(http?://[^\\s]+))', '', lowercase)        # removes url\n",
    "    url_remove = re.sub(r'http\\S+', '', url_remove)\n",
    "    \n",
    "    remove_uname = re.sub('@[^\\s]+', '', url_remove)        # removes username\n",
    "\n",
    "    remove_htag = re.sub(r'#([^\\s]+)', r'\\1', remove_uname)     # removes hashtag\n",
    "\n",
    "    remove_htag = word_tokenize(remove_htag)\n",
    "\n",
    "    no_stopwords = []\n",
    "    \n",
    "    for w in remove_htag:       # removes stop words\n",
    "        if w not in stop_words:\n",
    "            no_stopwords.append(w)\n",
    "\n",
    "    return ' '.join(no_stopwords)"
   ]
  },
  {
   "cell_type": "code",
   "execution_count": 50,
   "metadata": {},
   "outputs": [
    {
     "data": {
      "text/plain": [
       "'piersmorgan wathc back lad'"
      ]
     },
     "execution_count": 50,
     "metadata": {},
     "output_type": "execute_result"
    }
   ],
   "source": [
    "preprocessing(\"@piersmorgan WATHC your back lad!\")"
   ]
  },
  {
   "cell_type": "code",
   "execution_count": 51,
   "metadata": {},
   "outputs": [],
   "source": [
    "afinn_inputs = pd.DataFrame(test2[\"tweet_text\"])\n",
    "bert_inputs = pd.DataFrame(test2[\"tweet_text\"])\n",
    "textblob_inputs = pd.DataFrame(test2[\"tweet_text\"])\n",
    "vader_inputs = pd.DataFrame(test2[\"tweet_text\"])"
   ]
  },
  {
   "cell_type": "code",
   "execution_count": 52,
   "metadata": {},
   "outputs": [],
   "source": [
    "afinn_inputs[\"preprocessed\"] = afinn_inputs[\"tweet_text\"].apply(preprocessing)\n",
    "textblob_inputs[\"preprocessed\"] = textblob_inputs[\"tweet_text\"].apply(preprocessing)\n",
    "vader_inputs[\"preprocessed\"] = vader_inputs[\"tweet_text\"].apply(preprocessing)"
   ]
  },
  {
   "cell_type": "code",
   "execution_count": 53,
   "metadata": {},
   "outputs": [],
   "source": [
    "afinn_inputs[\"label\"] = afinn_inputs[\"preprocessed\"].apply(database_as_afinn)\n",
    "bert_inputs[\"label\"] = bert_inputs[\"tweet_text\"].apply(database_as_bert)\n",
    "textblob_inputs[\"label\"] = textblob_inputs[\"preprocessed\"].apply(database_as_textblob)\n",
    "vader_inputs[\"label\"] = vader_inputs[\"preprocessed\"].apply(database_as_vader)"
   ]
  },
  {
   "cell_type": "code",
   "execution_count": 54,
   "metadata": {},
   "outputs": [
    {
     "name": "stdout",
     "output_type": "stream",
     "text": [
      "The report for Afinn:\n",
      "              precision    recall  f1-score   support\n",
      "\n",
      "    negative      0.171     0.538     0.260       420\n",
      "     neutral      0.702     0.427     0.531      3680\n",
      "    positive      0.446     0.574     0.502      1900\n",
      "\n",
      "    accuracy                          0.481      6000\n",
      "   macro avg      0.440     0.513     0.431      6000\n",
      "weighted avg      0.584     0.481     0.503      6000\n",
      "\n"
     ]
    }
   ],
   "source": [
    "model_accuracy(afinn_inputs, \"Afinn\")"
   ]
  },
  {
   "cell_type": "code",
   "execution_count": 55,
   "metadata": {},
   "outputs": [
    {
     "name": "stdout",
     "output_type": "stream",
     "text": [
      "The report for BERT:\n",
      "              precision    recall  f1-score   support\n",
      "\n",
      "    negative      0.235     0.733     0.356       420\n",
      "     neutral      0.740     0.645     0.689      3680\n",
      "    positive      0.686     0.536     0.602      1900\n",
      "\n",
      "    accuracy                          0.617      6000\n",
      "   macro avg      0.554     0.638     0.549      6000\n",
      "weighted avg      0.688     0.617     0.638      6000\n",
      "\n"
     ]
    }
   ],
   "source": [
    "model_accuracy(bert_inputs, \"BERT\")"
   ]
  },
  {
   "cell_type": "code",
   "execution_count": 56,
   "metadata": {},
   "outputs": [
    {
     "name": "stdout",
     "output_type": "stream",
     "text": [
      "The report for TextBlob:\n",
      "              precision    recall  f1-score   support\n",
      "\n",
      "    negative      0.143     0.245     0.180       420\n",
      "     neutral      0.678     0.479     0.561      3680\n",
      "    positive      0.413     0.582     0.483      1900\n",
      "\n",
      "    accuracy                          0.495      6000\n",
      "   macro avg      0.411     0.435     0.408      6000\n",
      "weighted avg      0.557     0.495     0.510      6000\n",
      "\n"
     ]
    }
   ],
   "source": [
    "model_accuracy(textblob_inputs, \"TextBlob\")"
   ]
  },
  {
   "cell_type": "code",
   "execution_count": 57,
   "metadata": {},
   "outputs": [
    {
     "name": "stdout",
     "output_type": "stream",
     "text": [
      "The report for VADER:\n",
      "              precision    recall  f1-score   support\n",
      "\n",
      "    negative      0.167     0.490     0.249       420\n",
      "     neutral      0.716     0.386     0.502      3680\n",
      "    positive      0.431     0.631     0.512      1900\n",
      "\n",
      "    accuracy                          0.471      6000\n",
      "   macro avg      0.438     0.502     0.421      6000\n",
      "weighted avg      0.587     0.471     0.487      6000\n",
      "\n"
     ]
    }
   ],
   "source": [
    "model_accuracy(vader_inputs, \"VADER\")"
   ]
  },
  {
   "cell_type": "markdown",
   "metadata": {},
   "source": [
    "Tweet accuracy"
   ]
  },
  {
   "cell_type": "code",
   "execution_count": 65,
   "metadata": {},
   "outputs": [],
   "source": [
    "post = \"i am feeling so sick after the vaccine\""
   ]
  },
  {
   "cell_type": "code",
   "execution_count": 68,
   "metadata": {},
   "outputs": [],
   "source": [
    "post2 = \"i had the coronavirus vaccine today\""
   ]
  },
  {
   "cell_type": "code",
   "execution_count": 69,
   "metadata": {},
   "outputs": [],
   "source": [
    "afinn_test = database_as_afinn(post2)\n",
    "bert_test = database_as_bert(post2)\n",
    "tblob_test = database_as_textblob(post2)\n",
    "vader_test = database_as_vader(post2)"
   ]
  },
  {
   "cell_type": "code",
   "execution_count": 70,
   "metadata": {},
   "outputs": [
    {
     "name": "stdout",
     "output_type": "stream",
     "text": [
      "Afinn classified this post as:  neutral\n",
      "BERT classified this post as:  neutral\n",
      "TextBlob classified this post as:  neutral\n",
      "VADER classified this post as:  neutral\n"
     ]
    }
   ],
   "source": [
    "print(\"Afinn classified this post as: \", afinn_test)\n",
    "print(\"BERT classified this post as: \", bert_test)\n",
    "print(\"TextBlob classified this post as: \", tblob_test)\n",
    "print(\"VADER classified this post as: \", vader_test)"
   ]
  }
 ],
 "metadata": {
  "interpreter": {
   "hash": "4ebbf97e9f9e26eae94b47b69709ce5d0a0e95bc9af71f20dffa41bd870b01f6"
  },
  "kernelspec": {
   "display_name": "Python 3.7.9 ('topic_sentiment_across_sn')",
   "language": "python",
   "name": "python3"
  },
  "language_info": {
   "codemirror_mode": {
    "name": "ipython",
    "version": 3
   },
   "file_extension": ".py",
   "mimetype": "text/x-python",
   "name": "python",
   "nbconvert_exporter": "python",
   "pygments_lexer": "ipython3",
   "version": "3.7.9"
  },
  "orig_nbformat": 4
 },
 "nbformat": 4,
 "nbformat_minor": 2
}
