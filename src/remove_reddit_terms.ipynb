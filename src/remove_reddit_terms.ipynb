{
 "cells": [
  {
   "cell_type": "code",
   "execution_count": 1,
   "metadata": {},
   "outputs": [],
   "source": [
    "from mongodbcredentials import CONNECTION_STRING, CONNECTION_STRING_JAN_1, CONNECTION_STRING_JAN_2\n",
    "from pymongo import MongoClient\n",
    "import certifi\n",
    "from reddit_modules import posts_as_dict, remove_terms"
   ]
  },
  {
   "cell_type": "code",
   "execution_count": 25,
   "metadata": {},
   "outputs": [],
   "source": [
    "client = MongoClient(CONNECTION_STRING, tlsCAFile=certifi.where())      # connects to Mongo DB"
   ]
  },
  {
   "cell_type": "code",
   "execution_count": 26,
   "metadata": {},
   "outputs": [],
   "source": [
    "reddit_facemasks = client.RedditFacemasks       # connects to databases\n",
    "reddit_lockdown = client.RedditLockdown\n",
    "reddit_pcr = client.RedditPCR\n",
    "reddit_pfizer = client.RedditPfizer\n",
    "reddit_quarantine = client.RedditQuarantine\n",
    "reddit_restrictions = client.RedditRestrictions\n",
    "reddit_vaccine = client.RedditVaccination"
   ]
  },
  {
   "cell_type": "code",
   "execution_count": null,
   "metadata": {},
   "outputs": [],
   "source": [
    "face_dict = posts_as_dict(reddit_facemasks)\n",
    "lockdown_dict = posts_as_dict(reddit_lockdown)\n",
    "pcr_dict = posts_as_dict(reddit_pcr)\n",
    "pfizer_dict = posts_as_dict(reddit_pfizer)\n",
    "quarantine_dict = posts_as_dict(reddit_quarantine)\n",
    "restrictions_dict = posts_as_dict(reddit_restrictions)\n",
    "vaccine_dict = posts_as_dict(reddit_vaccine)"
   ]
  },
  {
   "cell_type": "code",
   "execution_count": 23,
   "metadata": {},
   "outputs": [],
   "source": [
    "#filtering\n",
    "remove_terms(face_dict, reddit_facemasks, [\"facemask\", \"face mask\", \"face-mask\"])       # deletes terms from database where it doesnt contain keywords\n",
    "remove_terms(lockdown_dict, reddit_lockdown, [\"lockdown\"])\n",
    "remove_terms(pcr_dict, reddit_pcr, [\"pcr\"])\n",
    "remove_terms(pfizer_dict, reddit_pfizer, [\"pfizer\"])\n",
    "remove_terms(quarantine_dict, reddit_quarantine, [\"quarantine\"])\n",
    "remove_terms(restrictions_dict, reddit_restrictions, [\"restriction\"])\n",
    "remove_terms(vaccine_dict, reddit_vaccine, [\"vaccine\", \"vaccination\"])"
   ]
  },
  {
   "cell_type": "code",
   "execution_count": 8,
   "metadata": {},
   "outputs": [],
   "source": [
    "client = MongoClient(CONNECTION_STRING_JAN_1, tlsCAFile=certifi.where())"
   ]
  },
  {
   "cell_type": "code",
   "execution_count": 9,
   "metadata": {},
   "outputs": [],
   "source": [
    "reddit_facemasks = client.RedditFacemask2\n",
    "reddit_lockdown = client.RedditLockdown2\n",
    "reddit_pcr = client.RedditPCR2\n",
    "reddit_pfizer = client.RedditPfizer2\n",
    "reddit_quarantine = client.RedditQuarantine2\n",
    "reddit_restrictions = client.RedditRestrictions2\n",
    "reddit_vaccine = client.RedditVaccination2"
   ]
  },
  {
   "cell_type": "code",
   "execution_count": 10,
   "metadata": {},
   "outputs": [],
   "source": [
    "face_dict = posts_as_dict(reddit_facemasks)\n",
    "lockdown_dict = posts_as_dict(reddit_lockdown)\n",
    "pcr_dict = posts_as_dict(reddit_pcr)\n",
    "pfizer_dict = posts_as_dict(reddit_pfizer)\n",
    "quarantine_dict = posts_as_dict(reddit_quarantine)\n",
    "restrictions_dict = posts_as_dict(reddit_restrictions)\n",
    "vaccine_dict = posts_as_dict(reddit_vaccine)"
   ]
  },
  {
   "cell_type": "code",
   "execution_count": 12,
   "metadata": {},
   "outputs": [],
   "source": [
    "remove_terms(face_dict, reddit_facemasks, [\"facemask\", \"face mask\", \"face-mask\"])\n",
    "remove_terms(lockdown_dict, reddit_lockdown, [\"lockdown\"])\n",
    "remove_terms(pcr_dict, reddit_pcr, [\"pcr\"])\n",
    "remove_terms(pfizer_dict, reddit_pfizer, [\"pfizer\"])\n",
    "remove_terms(quarantine_dict, reddit_quarantine, [\"quarantine\"])\n",
    "remove_terms(restrictions_dict, reddit_restrictions, [\"restriction\"])\n",
    "remove_terms(vaccine_dict, reddit_vaccine, [\"vaccine\", \"vaccination\"])"
   ]
  },
  {
   "cell_type": "code",
   "execution_count": 19,
   "metadata": {},
   "outputs": [],
   "source": [
    "client = MongoClient(CONNECTION_STRING_JAN_2, tlsCAFile=certifi.where())"
   ]
  },
  {
   "cell_type": "code",
   "execution_count": 20,
   "metadata": {},
   "outputs": [],
   "source": [
    "reddit_facemasks = client.RedditFacemask3\n",
    "reddit_lockdown = client.RedditLockdown3\n",
    "reddit_pcr = client.RedditPCR3\n",
    "reddit_pfizer = client.RedditPfizer3\n",
    "reddit_quarantine = client.RedditQuarantine3\n",
    "reddit_restrictions = client.RedditRestrictions3\n",
    "reddit_vaccine = client.RedditVaccine3"
   ]
  },
  {
   "cell_type": "code",
   "execution_count": 21,
   "metadata": {},
   "outputs": [],
   "source": [
    "face_dict = posts_as_dict(reddit_facemasks)\n",
    "lockdown_dict = posts_as_dict(reddit_lockdown)\n",
    "pcr_dict = posts_as_dict(reddit_pcr)\n",
    "pfizer_dict = posts_as_dict(reddit_pfizer)\n",
    "quarantine_dict = posts_as_dict(reddit_quarantine)\n",
    "restrictions_dict = posts_as_dict(reddit_restrictions)\n",
    "vaccine_dict = posts_as_dict(reddit_vaccine)"
   ]
  },
  {
   "cell_type": "code",
   "execution_count": 22,
   "metadata": {},
   "outputs": [],
   "source": [
    "remove_terms(face_dict, reddit_facemasks, [\"facemask\", \"face mask\", \"face-mask\"])\n",
    "remove_terms(lockdown_dict, reddit_lockdown, [\"lockdown\"])\n",
    "remove_terms(pcr_dict, reddit_pcr, [\"pcr\"])\n",
    "remove_terms(pfizer_dict, reddit_pfizer, [\"pfizer\"])\n",
    "remove_terms(quarantine_dict, reddit_quarantine, [\"quarantine\"])\n",
    "remove_terms(restrictions_dict, reddit_restrictions, [\"restriction\"])\n",
    "remove_terms(vaccine_dict, reddit_vaccine, [\"vaccine\", \"vaccination\"])"
   ]
  }
 ],
 "metadata": {
  "interpreter": {
   "hash": "81845dbb79d117afed2f128a4bda775071ee668bf9e9d02bb4620ddcda801259"
  },
  "kernelspec": {
   "display_name": "Python 3.7.9 ('jup_env')",
   "language": "python",
   "name": "python3"
  },
  "language_info": {
   "codemirror_mode": {
    "name": "ipython",
    "version": 3
   },
   "file_extension": ".py",
   "mimetype": "text/x-python",
   "name": "python",
   "nbconvert_exporter": "python",
   "pygments_lexer": "ipython3",
   "version": "3.7.9"
  },
  "orig_nbformat": 4
 },
 "nbformat": 4,
 "nbformat_minor": 2
}
