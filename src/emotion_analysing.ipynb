{
 "cells": [
  {
   "cell_type": "code",
   "execution_count": 97,
   "metadata": {},
   "outputs": [],
   "source": [
    "from mongodbcredentials import CONNECTION_STRING\n",
    "from pymongo import MongoClient\n",
    "import certifi\n",
    "from vaderSentiment.vaderSentiment import SentimentIntensityAnalyzer"
   ]
  },
  {
   "cell_type": "code",
   "execution_count": 98,
   "metadata": {},
   "outputs": [],
   "source": [
    "client = MongoClient(CONNECTION_STRING, tlsCAFile=certifi.where())\n",
    "twitter_database = client.LastTryTwitterBOJO\n",
    "reddit_database = client.RedditPushshiftBorisJohnsonRerun"
   ]
  },
  {
   "cell_type": "code",
   "execution_count": 99,
   "metadata": {},
   "outputs": [],
   "source": [
    "twitter_data = twitter_database.SocialMediaPosts.find()\n",
    "reddit_data = reddit_database.SocialMediaPosts.find()"
   ]
  },
  {
   "cell_type": "code",
   "execution_count": 100,
   "metadata": {},
   "outputs": [],
   "source": [
    "twitter_posts = []\n",
    "lowercase_twitter_posts = []\n",
    "twitter_unique_posts = set()"
   ]
  },
  {
   "cell_type": "code",
   "execution_count": 101,
   "metadata": {},
   "outputs": [],
   "source": [
    "reddit_posts = []\n",
    "lowercase_reddit_posts = []\n",
    "reddit_unique_posts = set()"
   ]
  },
  {
   "cell_type": "code",
   "execution_count": 102,
   "metadata": {},
   "outputs": [],
   "source": [
    "for comment in twitter_data:\n",
    "    lowercase_twitter_posts += [comment['tweet'].lower()]\n",
    "    twitter_posts += [comment['tweet']]\n",
    "    twitter_unique_posts.add(comment['tweet'])"
   ]
  },
  {
   "cell_type": "code",
   "execution_count": 103,
   "metadata": {},
   "outputs": [],
   "source": [
    "for comment in reddit_data:\n",
    "    lowercase_reddit_posts += [comment['post'].lower()]\n",
    "    reddit_posts += [comment['post']]\n",
    "    reddit_unique_posts.add(comment['post'])"
   ]
  },
  {
   "cell_type": "code",
   "execution_count": 104,
   "metadata": {},
   "outputs": [
    {
     "name": "stdout",
     "output_type": "stream",
     "text": [
      "60122\n",
      "60122\n"
     ]
    }
   ],
   "source": [
    "print(len(twitter_posts))\n",
    "print(len(twitter_unique_posts))"
   ]
  },
  {
   "cell_type": "code",
   "execution_count": 105,
   "metadata": {},
   "outputs": [
    {
     "name": "stdout",
     "output_type": "stream",
     "text": [
      "32792\n",
      "28843\n"
     ]
    }
   ],
   "source": [
    "print(len(reddit_posts))\n",
    "print(len(reddit_unique_posts))"
   ]
  },
  {
   "cell_type": "markdown",
   "metadata": {},
   "source": [
    "## Sentiment using VADER"
   ]
  },
  {
   "cell_type": "code",
   "execution_count": 106,
   "metadata": {},
   "outputs": [],
   "source": [
    "def emotionClassification(posts, pos, neg, neu):\n",
    "\n",
    "    analyzer = SentimentIntensityAnalyzer()\n",
    "\n",
    "    for post in posts:\n",
    "        vs = analyzer.polarity_scores(post)\n",
    "        compound = vs['compound']\n",
    "  \n",
    "        if (compound >= 0.05):\n",
    "            pos += 1\n",
    "\n",
    "        elif (compound <= -0.05):\n",
    "            neg += 1\n",
    "\n",
    "        else:\n",
    "            neu += 1\n",
    "    \n",
    "    return pos, neg, neu"
   ]
  },
  {
   "cell_type": "code",
   "execution_count": 107,
   "metadata": {},
   "outputs": [],
   "source": [
    "pos, neg, neu = emotionClassification(twitter_posts, 0, 0, 0)\n",
    "pos_lower, neg_lower, neu_lower = emotionClassification(lowercase_twitter_posts, 0, 0, 0)"
   ]
  },
  {
   "cell_type": "code",
   "execution_count": 108,
   "metadata": {},
   "outputs": [
    {
     "name": "stdout",
     "output_type": "stream",
     "text": [
      "The amount of positive, negative and neutral posts in NORMAL was\n",
      " 19426 26089 14607\n",
      "The amount of positive, negative and neutral posts in LOWER CASE was\n",
      " 19431 26083 14608\n",
      "POSITIVE PERCENT = 32.31%\n",
      "NEGATIVE PERCENT = 43.39%\n",
      "NEUTRAL PERCENT = 24.30%\n"
     ]
    }
   ],
   "source": [
    "print(\"The amount of positive, negative and neutral posts in NORMAL was\\n\", pos, neg, neu)\n",
    "print(\"The amount of positive, negative and neutral posts in LOWER CASE was\\n\", pos_lower, neg_lower, neu_lower)\n",
    "\n",
    "print(\"POSITIVE PERCENT = %0.2f\" % (pos/len(twitter_posts)* 100) + \"%\")\n",
    "print(\"NEGATIVE PERCENT = %0.2f\" % (neg/len(twitter_posts)* 100) + \"%\")\n",
    "print(\"NEUTRAL PERCENT = %0.2f\" % (neu/len(twitter_posts)* 100) + \"%\")"
   ]
  },
  {
   "cell_type": "code",
   "execution_count": 109,
   "metadata": {},
   "outputs": [],
   "source": [
    "pos, neg, neu = emotionClassification(reddit_posts, 0, 0, 0)\n",
    "pos_lower, neg_lower, neu_lower = emotionClassification(lowercase_reddit_posts, 0, 0, 0)"
   ]
  },
  {
   "cell_type": "code",
   "execution_count": 110,
   "metadata": {},
   "outputs": [
    {
     "name": "stdout",
     "output_type": "stream",
     "text": [
      "The amount of positive, negative and neutral posts in NORMAL was\n",
      " 12647 11254 8891\n",
      "The amount of positive, negative and neutral posts in LOWER CASE was\n",
      " 12643 11259 8890\n",
      "POSITIVE PERCENT = 38.57%\n",
      "NEGATIVE PERCENT = 34.32%\n",
      "NEUTRAL PERCENT = 27.11%\n"
     ]
    }
   ],
   "source": [
    "print(\"The amount of positive, negative and neutral posts in NORMAL was\\n\", pos, neg, neu)\n",
    "print(\"The amount of positive, negative and neutral posts in LOWER CASE was\\n\", pos_lower, neg_lower, neu_lower)\n",
    "\n",
    "print(\"POSITIVE PERCENT = %0.2f\" % (pos/len(reddit_posts)* 100) + \"%\")\n",
    "print(\"NEGATIVE PERCENT = %0.2f\" % (neg/len(reddit_posts)* 100) + \"%\")\n",
    "print(\"NEUTRAL PERCENT = %0.2f\" % (neu/len(reddit_posts)* 100) + \"%\")"
   ]
  }
 ],
 "metadata": {
  "interpreter": {
   "hash": "81845dbb79d117afed2f128a4bda775071ee668bf9e9d02bb4620ddcda801259"
  },
  "kernelspec": {
   "display_name": "Python 3.7.9 64-bit ('jup_env': conda)",
   "language": "python",
   "name": "python3"
  },
  "language_info": {
   "codemirror_mode": {
    "name": "ipython",
    "version": 3
   },
   "file_extension": ".py",
   "mimetype": "text/x-python",
   "name": "python",
   "nbconvert_exporter": "python",
   "pygments_lexer": "ipython3",
   "version": "3.7.9"
  },
  "orig_nbformat": 4
 },
 "nbformat": 4,
 "nbformat_minor": 2
}
