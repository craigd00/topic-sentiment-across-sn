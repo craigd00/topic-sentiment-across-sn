{
 "cells": [
  {
   "cell_type": "code",
   "execution_count": 1,
   "metadata": {},
   "outputs": [],
   "source": [
    "from mongodbcredentials import CONNECTION_STRING\n",
    "from pymongo import MongoClient\n",
    "import certifi\n",
    "from vaderSentiment.vaderSentiment import SentimentIntensityAnalyzer"
   ]
  },
  {
   "cell_type": "code",
   "execution_count": 2,
   "metadata": {},
   "outputs": [],
   "source": [
    "client = MongoClient(CONNECTION_STRING, tlsCAFile=certifi.where())\n",
    "twitter_database = client.TwitterBorisJohnson\n",
    "reddit_database = client.RedditBorisJohnson"
   ]
  },
  {
   "cell_type": "code",
   "execution_count": 3,
   "metadata": {},
   "outputs": [],
   "source": [
    "twitter_data = twitter_database.SocialMediaPosts.find()\n",
    "reddit_data = reddit_database.SocialMediaPosts.find()"
   ]
  },
  {
   "cell_type": "code",
   "execution_count": 4,
   "metadata": {},
   "outputs": [],
   "source": [
    "twitter_posts = []\n",
    "lowercase_twitter_posts = []\n",
    "twitter_unique_posts = set()"
   ]
  },
  {
   "cell_type": "code",
   "execution_count": 5,
   "metadata": {},
   "outputs": [],
   "source": [
    "reddit_posts = []\n",
    "lowercase_reddit_posts = []\n",
    "reddit_unique_posts = set()"
   ]
  },
  {
   "cell_type": "code",
   "execution_count": 6,
   "metadata": {},
   "outputs": [],
   "source": [
    "for comment in twitter_data:\n",
    "    lowercase_twitter_posts += [comment['tweet'].lower()]\n",
    "    twitter_posts += [comment['tweet']]\n",
    "    twitter_unique_posts.add(comment['tweet'])"
   ]
  },
  {
   "cell_type": "code",
   "execution_count": 7,
   "metadata": {},
   "outputs": [],
   "source": [
    "for comment in reddit_data:\n",
    "    lowercase_reddit_posts += [comment['post'].lower()]\n",
    "    reddit_posts += [comment['post']]\n",
    "    reddit_unique_posts.add(comment['post'])"
   ]
  },
  {
   "cell_type": "code",
   "execution_count": 8,
   "metadata": {},
   "outputs": [
    {
     "name": "stdout",
     "output_type": "stream",
     "text": [
      "52553\n",
      "52553\n"
     ]
    }
   ],
   "source": [
    "print(len(twitter_posts))\n",
    "print(len(twitter_unique_posts))"
   ]
  },
  {
   "cell_type": "code",
   "execution_count": 9,
   "metadata": {},
   "outputs": [
    {
     "name": "stdout",
     "output_type": "stream",
     "text": [
      "8106\n",
      "7092\n"
     ]
    }
   ],
   "source": [
    "print(len(reddit_posts))\n",
    "print(len(reddit_unique_posts))"
   ]
  },
  {
   "cell_type": "markdown",
   "metadata": {},
   "source": [
    "## Sentiment using VADER"
   ]
  },
  {
   "cell_type": "code",
   "execution_count": 10,
   "metadata": {},
   "outputs": [],
   "source": [
    "def emotionClassification(posts, pos, neg, neu):\n",
    "\n",
    "    analyzer = SentimentIntensityAnalyzer()\n",
    "\n",
    "    for post in posts:\n",
    "        vs = analyzer.polarity_scores(post)\n",
    "        compound = vs['compound']\n",
    "  \n",
    "        if (compound >= 0.05):\n",
    "            pos += 1\n",
    "\n",
    "        elif (compound <= -0.05):\n",
    "            neg += 1\n",
    "\n",
    "        else:\n",
    "            neu += 1\n",
    "    \n",
    "    return pos, neg, neu"
   ]
  },
  {
   "cell_type": "code",
   "execution_count": 11,
   "metadata": {},
   "outputs": [],
   "source": [
    "pos, neg, neu = emotionClassification(twitter_posts, 0, 0, 0)\n",
    "pos_lower, neg_lower, neu_lower = emotionClassification(lowercase_twitter_posts, 0, 0, 0)"
   ]
  },
  {
   "cell_type": "code",
   "execution_count": 12,
   "metadata": {},
   "outputs": [
    {
     "name": "stdout",
     "output_type": "stream",
     "text": [
      "The amount of positive, negative and neutral posts in NORMAL was\n",
      " 17875 22269 12409\n",
      "The amount of positive, negative and neutral posts in LOWER CASE was\n",
      " 17887 22253 12413\n",
      "POSITIVE PERCENT = 34.01%\n",
      "NEGATIVE PERCENT = 42.37%\n",
      "NEUTRAL PERCENT = 23.61%\n"
     ]
    }
   ],
   "source": [
    "print(\"The amount of positive, negative and neutral posts in NORMAL was\\n\", pos, neg, neu)\n",
    "print(\"The amount of positive, negative and neutral posts in LOWER CASE was\\n\", pos_lower, neg_lower, neu_lower)\n",
    "\n",
    "print(\"POSITIVE PERCENT = %0.2f\" % (pos/len(twitter_posts)* 100) + \"%\")\n",
    "print(\"NEGATIVE PERCENT = %0.2f\" % (neg/len(twitter_posts)* 100) + \"%\")\n",
    "print(\"NEUTRAL PERCENT = %0.2f\" % (neu/len(twitter_posts)* 100) + \"%\")"
   ]
  },
  {
   "cell_type": "code",
   "execution_count": 13,
   "metadata": {},
   "outputs": [],
   "source": [
    "pos, neg, neu = emotionClassification(reddit_posts, 0, 0, 0)\n",
    "pos_lower, neg_lower, neu_lower = emotionClassification(lowercase_reddit_posts, 0, 0, 0)"
   ]
  },
  {
   "cell_type": "code",
   "execution_count": 14,
   "metadata": {},
   "outputs": [
    {
     "name": "stdout",
     "output_type": "stream",
     "text": [
      "The amount of positive, negative and neutral posts in NORMAL was\n",
      " 3062 2727 2317\n",
      "The amount of positive, negative and neutral posts in LOWER CASE was\n",
      " 3061 2728 2317\n",
      "POSITIVE PERCENT = 37.77%\n",
      "NEGATIVE PERCENT = 33.64%\n",
      "NEUTRAL PERCENT = 28.58%\n"
     ]
    }
   ],
   "source": [
    "print(\"The amount of positive, negative and neutral posts in NORMAL was\\n\", pos, neg, neu)\n",
    "print(\"The amount of positive, negative and neutral posts in LOWER CASE was\\n\", pos_lower, neg_lower, neu_lower)\n",
    "\n",
    "print(\"POSITIVE PERCENT = %0.2f\" % (pos/len(reddit_posts)* 100) + \"%\")\n",
    "print(\"NEGATIVE PERCENT = %0.2f\" % (neg/len(reddit_posts)* 100) + \"%\")\n",
    "print(\"NEUTRAL PERCENT = %0.2f\" % (neu/len(reddit_posts)* 100) + \"%\")"
   ]
  }
 ],
 "metadata": {
  "interpreter": {
   "hash": "81845dbb79d117afed2f128a4bda775071ee668bf9e9d02bb4620ddcda801259"
  },
  "kernelspec": {
   "display_name": "Python 3.7.9 64-bit ('jup_env': conda)",
   "language": "python",
   "name": "python3"
  },
  "language_info": {
   "codemirror_mode": {
    "name": "ipython",
    "version": 3
   },
   "file_extension": ".py",
   "mimetype": "text/x-python",
   "name": "python",
   "nbconvert_exporter": "python",
   "pygments_lexer": "ipython3",
   "version": "3.7.9"
  },
  "orig_nbformat": 4
 },
 "nbformat": 4,
 "nbformat_minor": 2
}
