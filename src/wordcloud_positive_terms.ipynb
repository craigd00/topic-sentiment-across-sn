{
 "cells": [
  {
   "cell_type": "code",
   "execution_count": 7,
   "metadata": {},
   "outputs": [],
   "source": [
    "import numpy as np\n",
    "import pandas as pd\n",
    "import matplotlib.pyplot as plt \n",
    "import dill\n",
    "from dill import dump, load\n",
    "from twitter_modules import twitter_wordcloud_terms\n",
    "from shared_modules import wordcloud_image"
   ]
  },
  {
   "cell_type": "markdown",
   "metadata": {},
   "source": [
    "Afinn"
   ]
  },
  {
   "cell_type": "code",
   "execution_count": 8,
   "metadata": {},
   "outputs": [],
   "source": [
    "with open('twitter_vars/twitter_afinn_run1', 'rb') as f:\n",
    "    afinn_fmask1 = dill.load(f)\n",
    "    afinn_ldown1 = dill.load(f)\n",
    "    afinn_pcr1 = dill.load(f)\n",
    "    afinn_pfizer1 = dill.load(f)\n",
    "    afinn_quar1 = dill.load(f)\n",
    "    afinn_rest1 = dill.load(f)\n",
    "    afinn_vac1 = dill.load(f)"
   ]
  },
  {
   "cell_type": "code",
   "execution_count": 9,
   "metadata": {},
   "outputs": [],
   "source": [
    "with open('twitter_vars/twitter_afinn_run2', 'rb') as f:\n",
    "    afinn_fmask2 = dill.load(f)\n",
    "    afinn_ldown2 = dill.load(f)\n",
    "    afinn_pcr2 = dill.load(f)\n",
    "    afinn_pfizer2 = dill.load(f)\n",
    "    afinn_quar2 = dill.load(f)\n",
    "    afinn_rest2 = dill.load(f)\n",
    "    afinn_vac2 = dill.load(f)"
   ]
  },
  {
   "cell_type": "code",
   "execution_count": 10,
   "metadata": {},
   "outputs": [],
   "source": [
    "with open('twitter_vars/twitter_afinn_run3', 'rb') as f:\n",
    "    afinn_fmask3 = dill.load(f)\n",
    "    afinn_ldown3 = dill.load(f)\n",
    "    afinn_pcr3 = dill.load(f)\n",
    "    afinn_pfizer3 = dill.load(f)\n",
    "    afinn_quar3 = dill.load(f)\n",
    "    afinn_rest3 = dill.load(f)\n",
    "    afinn_vac3 = dill.load(f)"
   ]
  },
  {
   "cell_type": "code",
   "execution_count": 3,
   "metadata": {},
   "outputs": [],
   "source": [
    "ldown_terms = twitter_wordcloud_terms(afinn_ldown1, \"positive\")\n",
    "pcr_terms = twitter_wordcloud_terms(afinn_pcr1, \"positive\")\n",
    "pfizer_terms = twitter_wordcloud_terms(afinn_pfizer1, \"positive\")"
   ]
  },
  {
   "cell_type": "markdown",
   "metadata": {},
   "source": [
    "Positive Terms Afinn"
   ]
  },
  {
   "cell_type": "markdown",
   "metadata": {},
   "source": [
    "Run 1"
   ]
  },
  {
   "cell_type": "code",
   "execution_count": 11,
   "metadata": {},
   "outputs": [],
   "source": [
    "wordcloud_image(\"afinn\", \"twitter\", \"facemasks\", \"pos1\", twitter_wordcloud_terms(afinn_fmask1, \"positive\"))\n",
    "wordcloud_image(\"afinn\", \"twitter\", \"lockdown\", \"pos1\", twitter_wordcloud_terms(afinn_ldown1, \"positive\"))\n",
    "wordcloud_image(\"afinn\", \"twitter\", \"pcr\", \"pos1\", twitter_wordcloud_terms(afinn_pcr1, \"positive\"))\n",
    "wordcloud_image(\"afinn\", \"twitter\", \"pfizer\", \"pos1\", twitter_wordcloud_terms(afinn_pfizer1, \"positive\"))\n",
    "wordcloud_image(\"afinn\", \"twitter\", \"quarantine\", \"pos1\", twitter_wordcloud_terms(afinn_quar1, \"positive\"))\n",
    "wordcloud_image(\"afinn\", \"twitter\", \"restrictions\", \"pos1\", twitter_wordcloud_terms(afinn_rest1, \"positive\"))\n",
    "wordcloud_image(\"afinn\", \"twitter\", \"vaccine\", \"pos1\", twitter_wordcloud_terms(afinn_vac1, \"positive\"))\n"
   ]
  },
  {
   "cell_type": "markdown",
   "metadata": {},
   "source": [
    "Run 2"
   ]
  },
  {
   "cell_type": "code",
   "execution_count": 12,
   "metadata": {},
   "outputs": [],
   "source": [
    "wordcloud_image(\"afinn\", \"twitter\", \"facemasks\", \"pos2\", twitter_wordcloud_terms(afinn_fmask2, \"positive\"))\n",
    "wordcloud_image(\"afinn\", \"twitter\", \"lockdown\", \"pos2\", twitter_wordcloud_terms(afinn_ldown2, \"positive\"))\n",
    "wordcloud_image(\"afinn\", \"twitter\", \"pcr\", \"pos2\", twitter_wordcloud_terms(afinn_pcr2, \"positive\"))\n",
    "wordcloud_image(\"afinn\", \"twitter\", \"pfizer\", \"pos2\", twitter_wordcloud_terms(afinn_pfizer2, \"positive\"))\n",
    "wordcloud_image(\"afinn\", \"twitter\", \"quarantine\", \"pos2\", twitter_wordcloud_terms(afinn_quar2, \"positive\"))\n",
    "wordcloud_image(\"afinn\", \"twitter\", \"restrictions\", \"pos2\", twitter_wordcloud_terms(afinn_rest2, \"positive\"))\n",
    "wordcloud_image(\"afinn\", \"twitter\", \"vaccine\", \"pos2\", twitter_wordcloud_terms(afinn_vac2, \"positive\"))"
   ]
  },
  {
   "cell_type": "markdown",
   "metadata": {},
   "source": [
    "Run 3"
   ]
  },
  {
   "cell_type": "code",
   "execution_count": 13,
   "metadata": {},
   "outputs": [],
   "source": [
    "wordcloud_image(\"afinn\", \"twitter\", \"facemasks\", \"pos3\", twitter_wordcloud_terms(afinn_fmask3, \"positive\"))\n",
    "wordcloud_image(\"afinn\", \"twitter\", \"lockdown\", \"pos3\", twitter_wordcloud_terms(afinn_ldown3, \"positive\"))\n",
    "wordcloud_image(\"afinn\", \"twitter\", \"pcr\", \"pos3\", twitter_wordcloud_terms(afinn_pcr3, \"positive\"))\n",
    "wordcloud_image(\"afinn\", \"twitter\", \"pfizer\", \"pos3\", twitter_wordcloud_terms(afinn_pfizer3, \"positive\"))\n",
    "wordcloud_image(\"afinn\", \"twitter\", \"quarantine\", \"pos3\", twitter_wordcloud_terms(afinn_quar3, \"positive\"))\n",
    "wordcloud_image(\"afinn\", \"twitter\", \"restrictions\", \"pos3\", twitter_wordcloud_terms(afinn_rest3, \"positive\"))\n",
    "wordcloud_image(\"afinn\", \"twitter\", \"vaccine\", \"pos3\", twitter_wordcloud_terms(afinn_vac3, \"positive\"))"
   ]
  },
  {
   "cell_type": "markdown",
   "metadata": {},
   "source": [
    "Negative Terms Afinn"
   ]
  },
  {
   "cell_type": "markdown",
   "metadata": {},
   "source": [
    "Run 1"
   ]
  },
  {
   "cell_type": "code",
   "execution_count": 14,
   "metadata": {},
   "outputs": [],
   "source": [
    "wordcloud_image(\"afinn\", \"twitter\", \"facemasks\", \"neg1\", twitter_wordcloud_terms(afinn_fmask1, \"negative\"))\n",
    "wordcloud_image(\"afinn\", \"twitter\", \"lockdown\", \"neg1\", twitter_wordcloud_terms(afinn_ldown1, \"negative\"))\n",
    "wordcloud_image(\"afinn\", \"twitter\", \"pcr\", \"neg1\", twitter_wordcloud_terms(afinn_pcr1, \"negative\"))\n",
    "wordcloud_image(\"afinn\", \"twitter\", \"pfizer\", \"neg1\", twitter_wordcloud_terms(afinn_pfizer1, \"negative\"))\n",
    "wordcloud_image(\"afinn\", \"twitter\", \"quarantine\", \"neg1\", twitter_wordcloud_terms(afinn_quar1, \"negative\"))\n",
    "wordcloud_image(\"afinn\", \"twitter\", \"restrictions\", \"neg1\", twitter_wordcloud_terms(afinn_rest1, \"negative\"))\n",
    "wordcloud_image(\"afinn\", \"twitter\", \"vaccine\", \"neg1\", twitter_wordcloud_terms(afinn_vac1, \"negative\"))"
   ]
  },
  {
   "cell_type": "markdown",
   "metadata": {},
   "source": [
    "Run 2"
   ]
  },
  {
   "cell_type": "code",
   "execution_count": 15,
   "metadata": {},
   "outputs": [],
   "source": [
    "wordcloud_image(\"afinn\", \"twitter\", \"facemasks\", \"neg2\", twitter_wordcloud_terms(afinn_fmask2, \"negative\"))\n",
    "wordcloud_image(\"afinn\", \"twitter\", \"lockdown\", \"neg2\", twitter_wordcloud_terms(afinn_ldown2, \"negative\"))\n",
    "wordcloud_image(\"afinn\", \"twitter\", \"pcr\", \"neg2\", twitter_wordcloud_terms(afinn_pcr2, \"negative\"))\n",
    "wordcloud_image(\"afinn\", \"twitter\", \"pfizer\", \"neg2\", twitter_wordcloud_terms(afinn_pfizer2, \"negative\"))\n",
    "wordcloud_image(\"afinn\", \"twitter\", \"quarantine\", \"neg2\", twitter_wordcloud_terms(afinn_quar2, \"negative\"))\n",
    "wordcloud_image(\"afinn\", \"twitter\", \"restrictions\", \"neg2\", twitter_wordcloud_terms(afinn_rest2, \"negative\"))\n",
    "wordcloud_image(\"afinn\", \"twitter\", \"vaccine\", \"neg2\", twitter_wordcloud_terms(afinn_vac2, \"negative\"))"
   ]
  },
  {
   "cell_type": "markdown",
   "metadata": {},
   "source": [
    "Run 3"
   ]
  },
  {
   "cell_type": "code",
   "execution_count": null,
   "metadata": {},
   "outputs": [],
   "source": [
    "wordcloud_image(\"afinn\", \"twitter\", \"facemasks\", \"neg3\", twitter_wordcloud_terms(afinn_fmask3, \"negative\"))\n",
    "wordcloud_image(\"afinn\", \"twitter\", \"lockdown\", \"neg3\", twitter_wordcloud_terms(afinn_ldown3, \"negative\"))\n",
    "wordcloud_image(\"afinn\", \"twitter\", \"pcr\", \"neg3\", twitter_wordcloud_terms(afinn_pcr3, \"negative\"))\n",
    "wordcloud_image(\"afinn\", \"twitter\", \"pfizer\", \"neg3\", twitter_wordcloud_terms(afinn_pfizer3, \"negative\"))\n",
    "wordcloud_image(\"afinn\", \"twitter\", \"quarantine\", \"neg3\", twitter_wordcloud_terms(afinn_quar3, \"negative\"))\n",
    "wordcloud_image(\"afinn\", \"twitter\", \"restrictions\", \"neg3\", twitter_wordcloud_terms(afinn_rest3, \"negative\"))\n",
    "wordcloud_image(\"afinn\", \"twitter\", \"vaccine\", \"neg3\", twitter_wordcloud_terms(afinn_vac3, \"negative\"))"
   ]
  }
 ],
 "metadata": {
  "interpreter": {
   "hash": "4ebbf97e9f9e26eae94b47b69709ce5d0a0e95bc9af71f20dffa41bd870b01f6"
  },
  "kernelspec": {
   "display_name": "Python 3.7.9 ('topic_sentiment_across_sn')",
   "language": "python",
   "name": "python3"
  },
  "language_info": {
   "codemirror_mode": {
    "name": "ipython",
    "version": 3
   },
   "file_extension": ".py",
   "mimetype": "text/x-python",
   "name": "python",
   "nbconvert_exporter": "python",
   "pygments_lexer": "ipython3",
   "version": "3.7.9"
  },
  "orig_nbformat": 4
 },
 "nbformat": 4,
 "nbformat_minor": 2
}
