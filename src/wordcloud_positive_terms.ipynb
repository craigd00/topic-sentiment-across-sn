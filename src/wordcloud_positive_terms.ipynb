{
 "cells": [
  {
   "cell_type": "code",
   "execution_count": null,
   "metadata": {},
   "outputs": [],
   "source": [
    "from mongodbcredentials import CONNECTION_STRING_JAN_1\n",
    "from pymongo import MongoClient\n",
    "import certifi\n",
    "import numpy as np\n",
    "import pandas as pd\n",
    "import matplotlib as plt\n",
    "from wordcloud import WordCloud, STOPWORDS\n",
    "from twitter_modules import database_as_tweet"
   ]
  },
  {
   "cell_type": "code",
   "execution_count": null,
   "metadata": {},
   "outputs": [],
   "source": [
    "twitter_facemasks = client.TwitterFacemask2\n",
    "twitter_lockdown = client.TwitterLockdown2\n",
    "twitter_pcr = client.TwitterPCR2\n",
    "twitter_pfizer = client.TwitterPfizer2\n",
    "twitter_quarantine = client.TwitterQuarantine2\n",
    "twitter_restrictions = client.TwitterRestrictions2\n",
    "twitter_vaccine = client.TwitterVaccination2"
   ]
  },
  {
   "cell_type": "code",
   "execution_count": null,
   "metadata": {},
   "outputs": [],
   "source": [
    "facemasks_df = database_as_tweet(twitter_facemasks)\n",
    "lockdown_df = database_as_tweet(twitter_lockdown)\n",
    "pcr_df = database_as_tweet(twitter_pcr)\n",
    "pfizer_df = database_as_tweet(twitter_pfizer)\n",
    "quarantine_df = database_as_tweet(twitter_quarantine)\n",
    "restrictions_df = database_as_tweet(twitter_restrictions)\n",
    "vaccine_df = database_as_tweet(twitter_vaccine)"
   ]
  },
  {
   "cell_type": "code",
   "execution_count": null,
   "metadata": {},
   "outputs": [],
   "source": [
    "fmask_terms = \" \".join(tweet for tweet in facemasks_df.tweet.astype(str))\n",
    "ldown_terms = \" \".join(tweet for tweet in lockdown_df.tweet.astype(str))\n",
    "pcr_terms = \" \".join(tweet for tweet in pcr_df.tweet.astype(str))\n",
    "pfizer_terms = \" \".join(tweet for tweet in pfizer_df.tweet.astype(str))\n",
    "quar_terms = \" \".join(tweet for tweet in quarantine_df.tweet.astype(str))\n",
    "rest_terms = \" \".join(tweet for tweet in restrictions_df.tweet.astype(str))\n",
    "vac_terms = \" \".join(tweet for tweet in vaccine_df.tweet.astype(str))"
   ]
  },
  {
   "cell_type": "code",
   "execution_count": null,
   "metadata": {},
   "outputs": [],
   "source": [
    "wordcloud = WordCloud(max_words=100, background_color=\"white\").generate(terms)\n",
    "\n",
    "plt.imshow(wordcloud, interpolation='bilinear')\n",
    "plt.axis(\"off\")\n",
    "plt.show()\n",
    "\n",
    "wordcloud.to_file(\"img/covid_wordcloud.png\")"
   ]
  }
 ],
 "metadata": {
  "language_info": {
   "name": "python"
  },
  "orig_nbformat": 4
 },
 "nbformat": 4,
 "nbformat_minor": 2
}
